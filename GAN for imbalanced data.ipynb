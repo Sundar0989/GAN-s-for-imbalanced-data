{
 "cells": [
  {
   "cell_type": "markdown",
   "metadata": {},
   "source": [
    "# 1. Introduction"
   ]
  },
  {
   "cell_type": "markdown",
   "metadata": {},
   "source": [
    "Imbalanced data classification is a hard task faced by Data Scientists. Let us stick to an example of identying whether a transaction is fradulent (1's) or not (0's). In this case, let us assume that the dataset has 99.9% regular transactions and 0.1% fraud transactions. On a daily basis, 100K transactions are reported to the bank. Out of that, 100 transactions every day are reported as fraud and the rest are regular transactions. Such a small number is very tough to predict. We will use the example below to demonstrate that and go through solutions prevalent today to tackle these problems. And we will also, understand why accuracy is not a good metric to use in this type of exercise. \n",
    "\n",
    "Finally, I have demonstrated an deep learning based data augmentation use case to apply for a problem of this type."
   ]
  },
  {
   "cell_type": "markdown",
   "metadata": {},
   "source": [
    "# 2. Understand the dataset"
   ]
  },
  {
   "cell_type": "markdown",
   "metadata": {},
   "source": [
    "For this entire blog, we will use an example dataset from Kaggle. https://www.kaggle.com/mlg-ulb/creditcardfraud"
   ]
  },
  {
   "cell_type": "code",
   "execution_count": 1,
   "metadata": {},
   "outputs": [],
   "source": [
    "import pandas as pd\n",
    "import numpy as np\n",
    "\n",
    "df = pd.read_csv('creditcard.csv')"
   ]
  },
  {
   "cell_type": "code",
   "execution_count": 2,
   "metadata": {},
   "outputs": [
    {
     "data": {
      "text/html": [
       "<div>\n",
       "<style scoped>\n",
       "    .dataframe tbody tr th:only-of-type {\n",
       "        vertical-align: middle;\n",
       "    }\n",
       "\n",
       "    .dataframe tbody tr th {\n",
       "        vertical-align: top;\n",
       "    }\n",
       "\n",
       "    .dataframe thead th {\n",
       "        text-align: right;\n",
       "    }\n",
       "</style>\n",
       "<table border=\"1\" class=\"dataframe\">\n",
       "  <thead>\n",
       "    <tr style=\"text-align: right;\">\n",
       "      <th></th>\n",
       "      <th>Time</th>\n",
       "      <th>V1</th>\n",
       "      <th>V2</th>\n",
       "      <th>V3</th>\n",
       "      <th>V4</th>\n",
       "      <th>V5</th>\n",
       "      <th>V6</th>\n",
       "      <th>V7</th>\n",
       "      <th>V8</th>\n",
       "      <th>V9</th>\n",
       "      <th>...</th>\n",
       "      <th>V21</th>\n",
       "      <th>V22</th>\n",
       "      <th>V23</th>\n",
       "      <th>V24</th>\n",
       "      <th>V25</th>\n",
       "      <th>V26</th>\n",
       "      <th>V27</th>\n",
       "      <th>V28</th>\n",
       "      <th>Amount</th>\n",
       "      <th>Class</th>\n",
       "    </tr>\n",
       "  </thead>\n",
       "  <tbody>\n",
       "    <tr>\n",
       "      <th>0</th>\n",
       "      <td>0.0</td>\n",
       "      <td>-1.359807</td>\n",
       "      <td>-0.072781</td>\n",
       "      <td>2.536347</td>\n",
       "      <td>1.378155</td>\n",
       "      <td>-0.338321</td>\n",
       "      <td>0.462388</td>\n",
       "      <td>0.239599</td>\n",
       "      <td>0.098698</td>\n",
       "      <td>0.363787</td>\n",
       "      <td>...</td>\n",
       "      <td>-0.018307</td>\n",
       "      <td>0.277838</td>\n",
       "      <td>-0.110474</td>\n",
       "      <td>0.066928</td>\n",
       "      <td>0.128539</td>\n",
       "      <td>-0.189115</td>\n",
       "      <td>0.133558</td>\n",
       "      <td>-0.021053</td>\n",
       "      <td>149.62</td>\n",
       "      <td>0</td>\n",
       "    </tr>\n",
       "    <tr>\n",
       "      <th>1</th>\n",
       "      <td>0.0</td>\n",
       "      <td>1.191857</td>\n",
       "      <td>0.266151</td>\n",
       "      <td>0.166480</td>\n",
       "      <td>0.448154</td>\n",
       "      <td>0.060018</td>\n",
       "      <td>-0.082361</td>\n",
       "      <td>-0.078803</td>\n",
       "      <td>0.085102</td>\n",
       "      <td>-0.255425</td>\n",
       "      <td>...</td>\n",
       "      <td>-0.225775</td>\n",
       "      <td>-0.638672</td>\n",
       "      <td>0.101288</td>\n",
       "      <td>-0.339846</td>\n",
       "      <td>0.167170</td>\n",
       "      <td>0.125895</td>\n",
       "      <td>-0.008983</td>\n",
       "      <td>0.014724</td>\n",
       "      <td>2.69</td>\n",
       "      <td>0</td>\n",
       "    </tr>\n",
       "    <tr>\n",
       "      <th>2</th>\n",
       "      <td>1.0</td>\n",
       "      <td>-1.358354</td>\n",
       "      <td>-1.340163</td>\n",
       "      <td>1.773209</td>\n",
       "      <td>0.379780</td>\n",
       "      <td>-0.503198</td>\n",
       "      <td>1.800499</td>\n",
       "      <td>0.791461</td>\n",
       "      <td>0.247676</td>\n",
       "      <td>-1.514654</td>\n",
       "      <td>...</td>\n",
       "      <td>0.247998</td>\n",
       "      <td>0.771679</td>\n",
       "      <td>0.909412</td>\n",
       "      <td>-0.689281</td>\n",
       "      <td>-0.327642</td>\n",
       "      <td>-0.139097</td>\n",
       "      <td>-0.055353</td>\n",
       "      <td>-0.059752</td>\n",
       "      <td>378.66</td>\n",
       "      <td>0</td>\n",
       "    </tr>\n",
       "    <tr>\n",
       "      <th>3</th>\n",
       "      <td>1.0</td>\n",
       "      <td>-0.966272</td>\n",
       "      <td>-0.185226</td>\n",
       "      <td>1.792993</td>\n",
       "      <td>-0.863291</td>\n",
       "      <td>-0.010309</td>\n",
       "      <td>1.247203</td>\n",
       "      <td>0.237609</td>\n",
       "      <td>0.377436</td>\n",
       "      <td>-1.387024</td>\n",
       "      <td>...</td>\n",
       "      <td>-0.108300</td>\n",
       "      <td>0.005274</td>\n",
       "      <td>-0.190321</td>\n",
       "      <td>-1.175575</td>\n",
       "      <td>0.647376</td>\n",
       "      <td>-0.221929</td>\n",
       "      <td>0.062723</td>\n",
       "      <td>0.061458</td>\n",
       "      <td>123.50</td>\n",
       "      <td>0</td>\n",
       "    </tr>\n",
       "    <tr>\n",
       "      <th>4</th>\n",
       "      <td>2.0</td>\n",
       "      <td>-1.158233</td>\n",
       "      <td>0.877737</td>\n",
       "      <td>1.548718</td>\n",
       "      <td>0.403034</td>\n",
       "      <td>-0.407193</td>\n",
       "      <td>0.095921</td>\n",
       "      <td>0.592941</td>\n",
       "      <td>-0.270533</td>\n",
       "      <td>0.817739</td>\n",
       "      <td>...</td>\n",
       "      <td>-0.009431</td>\n",
       "      <td>0.798278</td>\n",
       "      <td>-0.137458</td>\n",
       "      <td>0.141267</td>\n",
       "      <td>-0.206010</td>\n",
       "      <td>0.502292</td>\n",
       "      <td>0.219422</td>\n",
       "      <td>0.215153</td>\n",
       "      <td>69.99</td>\n",
       "      <td>0</td>\n",
       "    </tr>\n",
       "  </tbody>\n",
       "</table>\n",
       "<p>5 rows × 31 columns</p>\n",
       "</div>"
      ],
      "text/plain": [
       "   Time        V1        V2        V3        V4        V5        V6        V7  \\\n",
       "0   0.0 -1.359807 -0.072781  2.536347  1.378155 -0.338321  0.462388  0.239599   \n",
       "1   0.0  1.191857  0.266151  0.166480  0.448154  0.060018 -0.082361 -0.078803   \n",
       "2   1.0 -1.358354 -1.340163  1.773209  0.379780 -0.503198  1.800499  0.791461   \n",
       "3   1.0 -0.966272 -0.185226  1.792993 -0.863291 -0.010309  1.247203  0.237609   \n",
       "4   2.0 -1.158233  0.877737  1.548718  0.403034 -0.407193  0.095921  0.592941   \n",
       "\n",
       "         V8        V9  ...         V21       V22       V23       V24  \\\n",
       "0  0.098698  0.363787  ...   -0.018307  0.277838 -0.110474  0.066928   \n",
       "1  0.085102 -0.255425  ...   -0.225775 -0.638672  0.101288 -0.339846   \n",
       "2  0.247676 -1.514654  ...    0.247998  0.771679  0.909412 -0.689281   \n",
       "3  0.377436 -1.387024  ...   -0.108300  0.005274 -0.190321 -1.175575   \n",
       "4 -0.270533  0.817739  ...   -0.009431  0.798278 -0.137458  0.141267   \n",
       "\n",
       "        V25       V26       V27       V28  Amount  Class  \n",
       "0  0.128539 -0.189115  0.133558 -0.021053  149.62      0  \n",
       "1  0.167170  0.125895 -0.008983  0.014724    2.69      0  \n",
       "2 -0.327642 -0.139097 -0.055353 -0.059752  378.66      0  \n",
       "3  0.647376 -0.221929  0.062723  0.061458  123.50      0  \n",
       "4 -0.206010  0.502292  0.219422  0.215153   69.99      0  \n",
       "\n",
       "[5 rows x 31 columns]"
      ]
     },
     "execution_count": 2,
     "metadata": {},
     "output_type": "execute_result"
    }
   ],
   "source": [
    "df.head()"
   ]
  },
  {
   "cell_type": "code",
   "execution_count": 3,
   "metadata": {},
   "outputs": [
    {
     "name": "stdout",
     "output_type": "stream",
     "text": [
      "<class 'pandas.core.frame.DataFrame'>\n",
      "RangeIndex: 284807 entries, 0 to 284806\n",
      "Data columns (total 31 columns):\n",
      "Time      284807 non-null float64\n",
      "V1        284807 non-null float64\n",
      "V2        284807 non-null float64\n",
      "V3        284807 non-null float64\n",
      "V4        284807 non-null float64\n",
      "V5        284807 non-null float64\n",
      "V6        284807 non-null float64\n",
      "V7        284807 non-null float64\n",
      "V8        284807 non-null float64\n",
      "V9        284807 non-null float64\n",
      "V10       284807 non-null float64\n",
      "V11       284807 non-null float64\n",
      "V12       284807 non-null float64\n",
      "V13       284807 non-null float64\n",
      "V14       284807 non-null float64\n",
      "V15       284807 non-null float64\n",
      "V16       284807 non-null float64\n",
      "V17       284807 non-null float64\n",
      "V18       284807 non-null float64\n",
      "V19       284807 non-null float64\n",
      "V20       284807 non-null float64\n",
      "V21       284807 non-null float64\n",
      "V22       284807 non-null float64\n",
      "V23       284807 non-null float64\n",
      "V24       284807 non-null float64\n",
      "V25       284807 non-null float64\n",
      "V26       284807 non-null float64\n",
      "V27       284807 non-null float64\n",
      "V28       284807 non-null float64\n",
      "Amount    284807 non-null float64\n",
      "Class     284807 non-null int64\n",
      "dtypes: float64(30), int64(1)\n",
      "memory usage: 67.4 MB\n"
     ]
    }
   ],
   "source": [
    "df.info()"
   ]
  },
  {
   "cell_type": "code",
   "execution_count": 4,
   "metadata": {},
   "outputs": [
    {
     "data": {
      "text/plain": [
       "0    284315\n",
       "1       492\n",
       "Name: Class, dtype: int64"
      ]
     },
     "execution_count": 4,
     "metadata": {},
     "output_type": "execute_result"
    }
   ],
   "source": [
    "df.Class.value_counts()"
   ]
  },
  {
   "cell_type": "markdown",
   "metadata": {},
   "source": [
    "As we can see here, out of the __284K transactions reported to the bank, less than 500 are fraud transations.__"
   ]
  },
  {
   "cell_type": "code",
   "execution_count": 5,
   "metadata": {},
   "outputs": [
    {
     "data": {
      "image/png": "[encoded data removed]",
      "text/plain": [
       "<Figure size 432x288 with 1 Axes>"
      ]
     },
     "metadata": {
      "needs_background": "light"
     },
     "output_type": "display_data"
    }
   ],
   "source": [
    "import matplotlib.pyplot as plt\n",
    "%matplotlib inline\n",
    "\n",
    "ratio_ones = df.Class.mean()\n",
    "ratio_zeros = (len(df) - df.Class.sum())/len(df)\n",
    "\n",
    "plt.bar('Regular transactions', height=ratio_zeros, label='Not Fraud')\n",
    "plt.bar('Fraud transactions', height=ratio_ones, label='Fraud')\n",
    "plt.xlabel(\"Target\")\n",
    "plt.ylabel('Percentage of total')\n",
    "plt.text(-0.10, 0.5, \"{0:.3f} %\".format(ratio_zeros*100), fontsize=12)\n",
    "plt.text(0.95, 0.1, \"{0:.3f} %\".format(ratio_ones*100), fontsize=12)\n",
    "plt.legend()\n",
    "plt.tight_layout()"
   ]
  },
  {
   "cell_type": "markdown",
   "metadata": {},
   "source": [
    "## 2.1 More information about the data."
   ]
  },
  {
   "cell_type": "markdown",
   "metadata": {},
   "source": [
    "So out of the 284K transactions, only 492 are fraud transaction. \"This dataset presents transactions that occurred in two days, where we have 492 frauds out of 284,807 transactions. The dataset is highly unbalanced, the positive class (frauds) account for 0.172% of all transactions.\n",
    "\n",
    "It contains only numerical input variables which are the result of a PCA transformation. Unfortunately, due to confidentiality issues, we cannot provide the original features and more background information about the data. Features V1, V2, … V28 are the principal components obtained with PCA, the only features which have not been transformed with PCA are 'Time' and 'Amount'. Feature 'Time' contains the seconds elapsed between each transaction and the first transaction in the dataset. The feature 'Amount' is the transaction Amount, this feature can be used for example-dependant cost-senstive learning. Feature 'Class' is the response variable and it takes value 1 in case of fraud and 0 otherwise.\" - Source - Kaggle."
   ]
  },
  {
   "cell_type": "markdown",
   "metadata": {},
   "source": [
    "## 2.2 Check each column statistics"
   ]
  },
  {
   "cell_type": "code",
   "execution_count": 6,
   "metadata": {},
   "outputs": [
    {
     "data": {
      "text/html": [
       "<div>\n",
       "<style scoped>\n",
       "    .dataframe tbody tr th:only-of-type {\n",
       "        vertical-align: middle;\n",
       "    }\n",
       "\n",
       "    .dataframe tbody tr th {\n",
       "        vertical-align: top;\n",
       "    }\n",
       "\n",
       "    .dataframe thead th {\n",
       "        text-align: right;\n",
       "    }\n",
       "</style>\n",
       "<table border=\"1\" class=\"dataframe\">\n",
       "  <thead>\n",
       "    <tr style=\"text-align: right;\">\n",
       "      <th></th>\n",
       "      <th>Time</th>\n",
       "      <th>V1</th>\n",
       "      <th>V2</th>\n",
       "      <th>V3</th>\n",
       "      <th>V4</th>\n",
       "      <th>V5</th>\n",
       "      <th>V6</th>\n",
       "      <th>V7</th>\n",
       "      <th>V8</th>\n",
       "      <th>V9</th>\n",
       "      <th>...</th>\n",
       "      <th>V21</th>\n",
       "      <th>V22</th>\n",
       "      <th>V23</th>\n",
       "      <th>V24</th>\n",
       "      <th>V25</th>\n",
       "      <th>V26</th>\n",
       "      <th>V27</th>\n",
       "      <th>V28</th>\n",
       "      <th>Amount</th>\n",
       "      <th>Class</th>\n",
       "    </tr>\n",
       "  </thead>\n",
       "  <tbody>\n",
       "    <tr>\n",
       "      <th>count</th>\n",
       "      <td>284807.000000</td>\n",
       "      <td>2.848070e+05</td>\n",
       "      <td>2.848070e+05</td>\n",
       "      <td>2.848070e+05</td>\n",
       "      <td>2.848070e+05</td>\n",
       "      <td>2.848070e+05</td>\n",
       "      <td>2.848070e+05</td>\n",
       "      <td>2.848070e+05</td>\n",
       "      <td>2.848070e+05</td>\n",
       "      <td>2.848070e+05</td>\n",
       "      <td>...</td>\n",
       "      <td>2.848070e+05</td>\n",
       "      <td>2.848070e+05</td>\n",
       "      <td>2.848070e+05</td>\n",
       "      <td>2.848070e+05</td>\n",
       "      <td>2.848070e+05</td>\n",
       "      <td>2.848070e+05</td>\n",
       "      <td>2.848070e+05</td>\n",
       "      <td>2.848070e+05</td>\n",
       "      <td>284807.000000</td>\n",
       "      <td>284807.000000</td>\n",
       "    </tr>\n",
       "    <tr>\n",
       "      <th>mean</th>\n",
       "      <td>94813.859575</td>\n",
       "      <td>1.165980e-15</td>\n",
       "      <td>3.416908e-16</td>\n",
       "      <td>-1.373150e-15</td>\n",
       "      <td>2.086869e-15</td>\n",
       "      <td>9.604066e-16</td>\n",
       "      <td>1.490107e-15</td>\n",
       "      <td>-5.556467e-16</td>\n",
       "      <td>1.177556e-16</td>\n",
       "      <td>-2.406455e-15</td>\n",
       "      <td>...</td>\n",
       "      <td>1.656562e-16</td>\n",
       "      <td>-3.444850e-16</td>\n",
       "      <td>2.578648e-16</td>\n",
       "      <td>4.471968e-15</td>\n",
       "      <td>5.340915e-16</td>\n",
       "      <td>1.687098e-15</td>\n",
       "      <td>-3.666453e-16</td>\n",
       "      <td>-1.220404e-16</td>\n",
       "      <td>88.349619</td>\n",
       "      <td>0.001727</td>\n",
       "    </tr>\n",
       "    <tr>\n",
       "      <th>std</th>\n",
       "      <td>47488.145955</td>\n",
       "      <td>1.958696e+00</td>\n",
       "      <td>1.651309e+00</td>\n",
       "      <td>1.516255e+00</td>\n",
       "      <td>1.415869e+00</td>\n",
       "      <td>1.380247e+00</td>\n",
       "      <td>1.332271e+00</td>\n",
       "      <td>1.237094e+00</td>\n",
       "      <td>1.194353e+00</td>\n",
       "      <td>1.098632e+00</td>\n",
       "      <td>...</td>\n",
       "      <td>7.345240e-01</td>\n",
       "      <td>7.257016e-01</td>\n",
       "      <td>6.244603e-01</td>\n",
       "      <td>6.056471e-01</td>\n",
       "      <td>5.212781e-01</td>\n",
       "      <td>4.822270e-01</td>\n",
       "      <td>4.036325e-01</td>\n",
       "      <td>3.300833e-01</td>\n",
       "      <td>250.120109</td>\n",
       "      <td>0.041527</td>\n",
       "    </tr>\n",
       "    <tr>\n",
       "      <th>min</th>\n",
       "      <td>0.000000</td>\n",
       "      <td>-5.640751e+01</td>\n",
       "      <td>-7.271573e+01</td>\n",
       "      <td>-4.832559e+01</td>\n",
       "      <td>-5.683171e+00</td>\n",
       "      <td>-1.137433e+02</td>\n",
       "      <td>-2.616051e+01</td>\n",
       "      <td>-4.355724e+01</td>\n",
       "      <td>-7.321672e+01</td>\n",
       "      <td>-1.343407e+01</td>\n",
       "      <td>...</td>\n",
       "      <td>-3.483038e+01</td>\n",
       "      <td>-1.093314e+01</td>\n",
       "      <td>-4.480774e+01</td>\n",
       "      <td>-2.836627e+00</td>\n",
       "      <td>-1.029540e+01</td>\n",
       "      <td>-2.604551e+00</td>\n",
       "      <td>-2.256568e+01</td>\n",
       "      <td>-1.543008e+01</td>\n",
       "      <td>0.000000</td>\n",
       "      <td>0.000000</td>\n",
       "    </tr>\n",
       "    <tr>\n",
       "      <th>25%</th>\n",
       "      <td>54201.500000</td>\n",
       "      <td>-9.203734e-01</td>\n",
       "      <td>-5.985499e-01</td>\n",
       "      <td>-8.903648e-01</td>\n",
       "      <td>-8.486401e-01</td>\n",
       "      <td>-6.915971e-01</td>\n",
       "      <td>-7.682956e-01</td>\n",
       "      <td>-5.540759e-01</td>\n",
       "      <td>-2.086297e-01</td>\n",
       "      <td>-6.430976e-01</td>\n",
       "      <td>...</td>\n",
       "      <td>-2.283949e-01</td>\n",
       "      <td>-5.423504e-01</td>\n",
       "      <td>-1.618463e-01</td>\n",
       "      <td>-3.545861e-01</td>\n",
       "      <td>-3.171451e-01</td>\n",
       "      <td>-3.269839e-01</td>\n",
       "      <td>-7.083953e-02</td>\n",
       "      <td>-5.295979e-02</td>\n",
       "      <td>5.600000</td>\n",
       "      <td>0.000000</td>\n",
       "    </tr>\n",
       "    <tr>\n",
       "      <th>50%</th>\n",
       "      <td>84692.000000</td>\n",
       "      <td>1.810880e-02</td>\n",
       "      <td>6.548556e-02</td>\n",
       "      <td>1.798463e-01</td>\n",
       "      <td>-1.984653e-02</td>\n",
       "      <td>-5.433583e-02</td>\n",
       "      <td>-2.741871e-01</td>\n",
       "      <td>4.010308e-02</td>\n",
       "      <td>2.235804e-02</td>\n",
       "      <td>-5.142873e-02</td>\n",
       "      <td>...</td>\n",
       "      <td>-2.945017e-02</td>\n",
       "      <td>6.781943e-03</td>\n",
       "      <td>-1.119293e-02</td>\n",
       "      <td>4.097606e-02</td>\n",
       "      <td>1.659350e-02</td>\n",
       "      <td>-5.213911e-02</td>\n",
       "      <td>1.342146e-03</td>\n",
       "      <td>1.124383e-02</td>\n",
       "      <td>22.000000</td>\n",
       "      <td>0.000000</td>\n",
       "    </tr>\n",
       "    <tr>\n",
       "      <th>75%</th>\n",
       "      <td>139320.500000</td>\n",
       "      <td>1.315642e+00</td>\n",
       "      <td>8.037239e-01</td>\n",
       "      <td>1.027196e+00</td>\n",
       "      <td>7.433413e-01</td>\n",
       "      <td>6.119264e-01</td>\n",
       "      <td>3.985649e-01</td>\n",
       "      <td>5.704361e-01</td>\n",
       "      <td>3.273459e-01</td>\n",
       "      <td>5.971390e-01</td>\n",
       "      <td>...</td>\n",
       "      <td>1.863772e-01</td>\n",
       "      <td>5.285536e-01</td>\n",
       "      <td>1.476421e-01</td>\n",
       "      <td>4.395266e-01</td>\n",
       "      <td>3.507156e-01</td>\n",
       "      <td>2.409522e-01</td>\n",
       "      <td>9.104512e-02</td>\n",
       "      <td>7.827995e-02</td>\n",
       "      <td>77.165000</td>\n",
       "      <td>0.000000</td>\n",
       "    </tr>\n",
       "    <tr>\n",
       "      <th>max</th>\n",
       "      <td>172792.000000</td>\n",
       "      <td>2.454930e+00</td>\n",
       "      <td>2.205773e+01</td>\n",
       "      <td>9.382558e+00</td>\n",
       "      <td>1.687534e+01</td>\n",
       "      <td>3.480167e+01</td>\n",
       "      <td>7.330163e+01</td>\n",
       "      <td>1.205895e+02</td>\n",
       "      <td>2.000721e+01</td>\n",
       "      <td>1.559499e+01</td>\n",
       "      <td>...</td>\n",
       "      <td>2.720284e+01</td>\n",
       "      <td>1.050309e+01</td>\n",
       "      <td>2.252841e+01</td>\n",
       "      <td>4.584549e+00</td>\n",
       "      <td>7.519589e+00</td>\n",
       "      <td>3.517346e+00</td>\n",
       "      <td>3.161220e+01</td>\n",
       "      <td>3.384781e+01</td>\n",
       "      <td>25691.160000</td>\n",
       "      <td>1.000000</td>\n",
       "    </tr>\n",
       "  </tbody>\n",
       "</table>\n",
       "<p>8 rows × 31 columns</p>\n",
       "</div>"
      ],
      "text/plain": [
       "                Time            V1            V2            V3            V4  \\\n",
       "count  284807.000000  2.848070e+05  2.848070e+05  2.848070e+05  2.848070e+05   \n",
       "mean    94813.859575  1.165980e-15  3.416908e-16 -1.373150e-15  2.086869e-15   \n",
       "std     47488.145955  1.958696e+00  1.651309e+00  1.516255e+00  1.415869e+00   \n",
       "min         0.000000 -5.640751e+01 -7.271573e+01 -4.832559e+01 -5.683171e+00   \n",
       "25%     54201.500000 -9.203734e-01 -5.985499e-01 -8.903648e-01 -8.486401e-01   \n",
       "50%     84692.000000  1.810880e-02  6.548556e-02  1.798463e-01 -1.984653e-02   \n",
       "75%    139320.500000  1.315642e+00  8.037239e-01  1.027196e+00  7.433413e-01   \n",
       "max    172792.000000  2.454930e+00  2.205773e+01  9.382558e+00  1.687534e+01   \n",
       "\n",
       "                 V5            V6            V7            V8            V9  \\\n",
       "count  2.848070e+05  2.848070e+05  2.848070e+05  2.848070e+05  2.848070e+05   \n",
       "mean   9.604066e-16  1.490107e-15 -5.556467e-16  1.177556e-16 -2.406455e-15   \n",
       "std    1.380247e+00  1.332271e+00  1.237094e+00  1.194353e+00  1.098632e+00   \n",
       "min   -1.137433e+02 -2.616051e+01 -4.355724e+01 -7.321672e+01 -1.343407e+01   \n",
       "25%   -6.915971e-01 -7.682956e-01 -5.540759e-01 -2.086297e-01 -6.430976e-01   \n",
       "50%   -5.433583e-02 -2.741871e-01  4.010308e-02  2.235804e-02 -5.142873e-02   \n",
       "75%    6.119264e-01  3.985649e-01  5.704361e-01  3.273459e-01  5.971390e-01   \n",
       "max    3.480167e+01  7.330163e+01  1.205895e+02  2.000721e+01  1.559499e+01   \n",
       "\n",
       "           ...                 V21           V22           V23           V24  \\\n",
       "count      ...        2.848070e+05  2.848070e+05  2.848070e+05  2.848070e+05   \n",
       "mean       ...        1.656562e-16 -3.444850e-16  2.578648e-16  4.471968e-15   \n",
       "std        ...        7.345240e-01  7.257016e-01  6.244603e-01  6.056471e-01   \n",
       "min        ...       -3.483038e+01 -1.093314e+01 -4.480774e+01 -2.836627e+00   \n",
       "25%        ...       -2.283949e-01 -5.423504e-01 -1.618463e-01 -3.545861e-01   \n",
       "50%        ...       -2.945017e-02  6.781943e-03 -1.119293e-02  4.097606e-02   \n",
       "75%        ...        1.863772e-01  5.285536e-01  1.476421e-01  4.395266e-01   \n",
       "max        ...        2.720284e+01  1.050309e+01  2.252841e+01  4.584549e+00   \n",
       "\n",
       "                V25           V26           V27           V28         Amount  \\\n",
       "count  2.848070e+05  2.848070e+05  2.848070e+05  2.848070e+05  284807.000000   \n",
       "mean   5.340915e-16  1.687098e-15 -3.666453e-16 -1.220404e-16      88.349619   \n",
       "std    5.212781e-01  4.822270e-01  4.036325e-01  3.300833e-01     250.120109   \n",
       "min   -1.029540e+01 -2.604551e+00 -2.256568e+01 -1.543008e+01       0.000000   \n",
       "25%   -3.171451e-01 -3.269839e-01 -7.083953e-02 -5.295979e-02       5.600000   \n",
       "50%    1.659350e-02 -5.213911e-02  1.342146e-03  1.124383e-02      22.000000   \n",
       "75%    3.507156e-01  2.409522e-01  9.104512e-02  7.827995e-02      77.165000   \n",
       "max    7.519589e+00  3.517346e+00  3.161220e+01  3.384781e+01   25691.160000   \n",
       "\n",
       "               Class  \n",
       "count  284807.000000  \n",
       "mean        0.001727  \n",
       "std         0.041527  \n",
       "min         0.000000  \n",
       "25%         0.000000  \n",
       "50%         0.000000  \n",
       "75%         0.000000  \n",
       "max         1.000000  \n",
       "\n",
       "[8 rows x 31 columns]"
      ]
     },
     "execution_count": 6,
     "metadata": {},
     "output_type": "execute_result"
    }
   ],
   "source": [
    "df.describe()"
   ]
  },
  {
   "cell_type": "markdown",
   "metadata": {},
   "source": [
    "## 2.3 Correlation analysis"
   ]
  },
  {
   "cell_type": "code",
   "execution_count": 7,
   "metadata": {},
   "outputs": [
    {
     "data": {
      "image/png": "[encoded data removed]",
      "text/plain": [
       "<Figure size 720x720 with 2 Axes>"
      ]
     },
     "metadata": {
      "needs_background": "light"
     },
     "output_type": "display_data"
    }
   ],
   "source": [
    "import matplotlib.pyplot as plt\n",
    "import seaborn as sns\n",
    "%matplotlib inline\n",
    "\n",
    "plt.figure(figsize=(10,10))\n",
    "def plot_similarity(labels, features, rotation):\n",
    "    corr = features.corr()\n",
    "    sns.set(font_scale=1.2)\n",
    "    g = sns.heatmap(\n",
    "      corr,\n",
    "      xticklabels=labels,\n",
    "      yticklabels=labels,\n",
    "      vmin=0,\n",
    "      vmax=1,\n",
    "      cmap=\"YlGnBu\")\n",
    "    g.set_xticklabels(labels, rotation=rotation)\n",
    "    g.set_title(\"Variables Similarity\")\n",
    "\n",
    "plot_similarity(df.columns, df, 90)"
   ]
  },
  {
   "cell_type": "markdown",
   "metadata": {},
   "source": [
    "As we can see from the above correlation analysis, the columns are having low correlation values and that is what PCA does again. We are good here. "
   ]
  },
  {
   "cell_type": "markdown",
   "metadata": {},
   "source": [
    "## 2.4 Histograms of few variables"
   ]
  },
  {
   "cell_type": "markdown",
   "metadata": {},
   "source": [
    "By looking at the describe statistics in 2.2, the variables that needed a closer look are the Time and the amount variable. PCA variables (V1, V28) are centered around 0 and does not have outlier impact as we see. So we will look at the histogram of Time and Amount variable. "
   ]
  },
  {
   "cell_type": "code",
   "execution_count": 8,
   "metadata": {},
   "outputs": [
    {
     "data": {
      "text/plain": [
       "<matplotlib.axes._subplots.AxesSubplot at 0x7fbfc9364f98>"
      ]
     },
     "execution_count": 8,
     "metadata": {},
     "output_type": "execute_result"
    },
    {
     "data": {
      "image/png": "[encoded data removed]",
      "text/plain": [
       "<Figure size 432x288 with 1 Axes>"
      ]
     },
     "metadata": {},
     "output_type": "display_data"
    }
   ],
   "source": [
    "df.Time.hist(bins=200)"
   ]
  },
  {
   "cell_type": "code",
   "execution_count": 9,
   "metadata": {},
   "outputs": [
    {
     "data": {
      "text/plain": [
       "<matplotlib.axes._subplots.AxesSubplot at 0x7fbfc9364e10>"
      ]
     },
     "execution_count": 9,
     "metadata": {},
     "output_type": "execute_result"
    },
    {
     "data": {
      "image/png": "[encoded data removed]",
      "text/plain": [
       "<Figure size 432x288 with 1 Axes>"
      ]
     },
     "metadata": {},
     "output_type": "display_data"
    }
   ],
   "source": [
    "df.Amount.hist(bins=25)"
   ]
  },
  {
   "cell_type": "markdown",
   "metadata": {},
   "source": [
    "Amount variable as we see here, has outliers. __May be there is a possibility that fraud transactions are associated with higher transaction amount. Let us look whether that is true with a simple cross tab.__"
   ]
  },
  {
   "cell_type": "markdown",
   "metadata": {},
   "source": [
    "## 2.5 Cross tab of Amount and target variable"
   ]
  },
  {
   "cell_type": "code",
   "execution_count": 10,
   "metadata": {},
   "outputs": [
    {
     "data": {
      "text/plain": [
       "0    281867\n",
       "1      2940\n",
       "Name: Amount, dtype: int64"
      ]
     },
     "execution_count": 10,
     "metadata": {},
     "output_type": "execute_result"
    }
   ],
   "source": [
    "transaction_amount_threshold = 1000\n",
    "amount_flag = ((df.Amount > transaction_amount_threshold).astype(int))\n",
    "amount_flag.value_counts()"
   ]
  },
  {
   "cell_type": "code",
   "execution_count": 11,
   "metadata": {},
   "outputs": [],
   "source": [
    "from sklearn.metrics import confusion_matrix\n",
    "\n",
    "cm = confusion_matrix(amount_flag, df.Class)"
   ]
  },
  {
   "cell_type": "code",
   "execution_count": 12,
   "metadata": {},
   "outputs": [
    {
     "data": {
      "image/png": "[encoded data removed]",
      "text/plain": [
       "<Figure size 432x288 with 2 Axes>"
      ]
     },
     "metadata": {},
     "output_type": "display_data"
    }
   ],
   "source": [
    "sns.heatmap(cm, annot=True, yticklabels=['< ' + str(transaction_amount_threshold),\n",
    "                                        '> ' + str(transaction_amount_threshold)], \n",
    "                            xticklabels=['Not Fraud', 'Fraud'], fmt='g')\n",
    "yl = plt.ylabel(\"Amount\")\n",
    "xl = plt.xlabel(\"Class\")\n",
    "plt.ylim([0,2])\n",
    "plt.tight_layout()"
   ]
  },
  {
   "cell_type": "markdown",
   "metadata": {},
   "source": [
    "From the analysis above, we see that __0.3% (9/2940) of transactions__ above 1000 dollars is fraud, when compared to __0.17% (483/281867) of transactions__ less than 1000 dollars. "
   ]
  },
  {
   "cell_type": "markdown",
   "metadata": {},
   "source": [
    "Now, we have a good sense of the data, let us go ahead and start the modeling process."
   ]
  },
  {
   "cell_type": "markdown",
   "metadata": {},
   "source": [
    "# 3. Modeling process - Feature selection"
   ]
  },
  {
   "cell_type": "markdown",
   "metadata": {},
   "source": [
    "Since we are going to use these steps more often, let us make a function of each steps."
   ]
  },
  {
   "cell_type": "code",
   "execution_count": 13,
   "metadata": {},
   "outputs": [],
   "source": [
    "df.drop(['Time'], axis=1, inplace=True)"
   ]
  },
  {
   "cell_type": "code",
   "execution_count": 14,
   "metadata": {},
   "outputs": [],
   "source": [
    "from xverse.feature_subset import SplitXY\n",
    "\n",
    "def splitXY(df, target_column):\n",
    "\n",
    "    clf = SplitXY([target_column]) #Split the dataset into X and y\n",
    "    X, y = clf.fit_transform(df) #returns features (X) dataset and target(Y) as a numpy array\n",
    "    return X, y"
   ]
  },
  {
   "cell_type": "code",
   "execution_count": 15,
   "metadata": {},
   "outputs": [],
   "source": [
    "def make_train_test_split(X=None, y=None, test_size=0.3, random_state=1234):\n",
    "\n",
    "    from sklearn.model_selection import train_test_split\n",
    "    X_train, X_test, y_train, y_test = train_test_split(X, y, test_size=test_size, random_state=random_state)\n",
    "    return X_train, X_test, y_train, y_test"
   ]
  },
  {
   "cell_type": "code",
   "execution_count": 16,
   "metadata": {},
   "outputs": [],
   "source": [
    "X, y = splitXY(df, 'Class')\n",
    "X_train, X_test, y_train, y_test = make_train_test_split(X=X, y=y, test_size=0.3, random_state=1234)"
   ]
  },
  {
   "cell_type": "code",
   "execution_count": 17,
   "metadata": {},
   "outputs": [
    {
     "data": {
      "text/plain": [
       "(199364, 29)"
      ]
     },
     "execution_count": 17,
     "metadata": {},
     "output_type": "execute_result"
    }
   ],
   "source": [
    "X_train.shape"
   ]
  },
  {
   "cell_type": "code",
   "execution_count": 18,
   "metadata": {},
   "outputs": [
    {
     "data": {
      "text/plain": [
       "(199364,)"
      ]
     },
     "execution_count": 18,
     "metadata": {},
     "output_type": "execute_result"
    }
   ],
   "source": [
    "y_train.shape"
   ]
  },
  {
   "cell_type": "code",
   "execution_count": 19,
   "metadata": {},
   "outputs": [
    {
     "data": {
      "text/plain": [
       "351"
      ]
     },
     "execution_count": 19,
     "metadata": {},
     "output_type": "execute_result"
    }
   ],
   "source": [
    "np.sum(y_train)"
   ]
  },
  {
   "cell_type": "code",
   "execution_count": 20,
   "metadata": {},
   "outputs": [
    {
     "data": {
      "text/plain": [
       "141"
      ]
     },
     "execution_count": 20,
     "metadata": {},
     "output_type": "execute_result"
    }
   ],
   "source": [
    "np.sum(y_test)"
   ]
  },
  {
   "cell_type": "code",
   "execution_count": 21,
   "metadata": {},
   "outputs": [],
   "source": [
    "import warnings\n",
    "warnings.simplefilter(action='ignore', category=Warning)"
   ]
  },
  {
   "cell_type": "markdown",
   "metadata": {},
   "source": [
    "## 3.1 Missing values check on each column"
   ]
  },
  {
   "cell_type": "code",
   "execution_count": 22,
   "metadata": {},
   "outputs": [
    {
     "data": {
      "text/plain": [
       "Amount    0\n",
       "V1        0\n",
       "V10       0\n",
       "V11       0\n",
       "V12       0\n",
       "V13       0\n",
       "V14       0\n",
       "V15       0\n",
       "V16       0\n",
       "V17       0\n",
       "V18       0\n",
       "V19       0\n",
       "V2        0\n",
       "V20       0\n",
       "V21       0\n",
       "V22       0\n",
       "V23       0\n",
       "V24       0\n",
       "V25       0\n",
       "V26       0\n",
       "V27       0\n",
       "V28       0\n",
       "V3        0\n",
       "V4        0\n",
       "V5        0\n",
       "V6        0\n",
       "V7        0\n",
       "V8        0\n",
       "V9        0\n",
       "dtype: int64"
      ]
     },
     "execution_count": 22,
     "metadata": {},
     "output_type": "execute_result"
    }
   ],
   "source": [
    "X_train.isnull().sum()"
   ]
  },
  {
   "cell_type": "markdown",
   "metadata": {},
   "source": [
    "No missing values in attributes in training data. We are good here"
   ]
  },
  {
   "cell_type": "markdown",
   "metadata": {},
   "source": [
    "## 3.2 Check unary values a.k.a Cardinality of each columns"
   ]
  },
  {
   "cell_type": "markdown",
   "metadata": {},
   "source": [
    "If a column is having unique values, then it is not going to provide any value. So we can ignore that column. "
   ]
  },
  {
   "cell_type": "code",
   "execution_count": 23,
   "metadata": {},
   "outputs": [
    {
     "data": {
      "text/plain": [
       "Amount     27420\n",
       "V1        194227\n",
       "V10       194227\n",
       "V11       194227\n",
       "V12       194227\n",
       "V13       194227\n",
       "V14       194227\n",
       "V15       194227\n",
       "V16       194227\n",
       "V17       194227\n",
       "V18       194227\n",
       "V19       194227\n",
       "V2        194227\n",
       "V20       194227\n",
       "V21       194227\n",
       "V22       194227\n",
       "V23       194227\n",
       "V24       194227\n",
       "V25       194227\n",
       "V26       194227\n",
       "V27       194227\n",
       "V28       194227\n",
       "V3        194227\n",
       "V4        194227\n",
       "V5        194227\n",
       "V6        194227\n",
       "V7        194227\n",
       "V8        194227\n",
       "V9        194227\n",
       "dtype: int64"
      ]
     },
     "execution_count": 23,
     "metadata": {},
     "output_type": "execute_result"
    }
   ],
   "source": [
    "X_train.nunique()"
   ]
  },
  {
   "cell_type": "markdown",
   "metadata": {},
   "source": [
    "Again, we are good in cardinality of each columns. "
   ]
  },
  {
   "cell_type": "markdown",
   "metadata": {},
   "source": [
    "## 3.3 Feature selection part on unbalanced data"
   ]
  },
  {
   "cell_type": "markdown",
   "metadata": {},
   "source": [
    "I am going to use the package that I developed for feature selection. It is called Xverse. "
   ]
  },
  {
   "cell_type": "code",
   "execution_count": 24,
   "metadata": {},
   "outputs": [
    {
     "data": {
      "text/plain": [
       "VotingSelector(exclude_features=None, feature_names='all',\n",
       "               handle_category='woe', minimum_votes=0, no_of_features=14,\n",
       "               numerical_missing_values='median',\n",
       "               selection_techniques=['WOE', 'RF', 'RFE', 'ETC', 'CS', 'L_ONE'])"
      ]
     },
     "execution_count": 24,
     "metadata": {},
     "output_type": "execute_result"
    }
   ],
   "source": [
    "from xverse.ensemble import VotingSelector\n",
    "\n",
    "clf = VotingSelector()\n",
    "clf.fit(X_train, y_train)"
   ]
  },
  {
   "cell_type": "code",
   "execution_count": 25,
   "metadata": {},
   "outputs": [
    {
     "data": {
      "text/html": [
       "<div>\n",
       "<style scoped>\n",
       "    .dataframe tbody tr th:only-of-type {\n",
       "        vertical-align: middle;\n",
       "    }\n",
       "\n",
       "    .dataframe tbody tr th {\n",
       "        vertical-align: top;\n",
       "    }\n",
       "\n",
       "    .dataframe thead th {\n",
       "        text-align: right;\n",
       "    }\n",
       "</style>\n",
       "<table border=\"1\" class=\"dataframe\">\n",
       "  <thead>\n",
       "    <tr style=\"text-align: right;\">\n",
       "      <th></th>\n",
       "      <th>Variable_Name</th>\n",
       "      <th>Information_Value</th>\n",
       "      <th>Random_Forest</th>\n",
       "      <th>Recursive_Feature_Elimination</th>\n",
       "      <th>Extra_Trees</th>\n",
       "      <th>Chi_Square</th>\n",
       "      <th>L_One</th>\n",
       "    </tr>\n",
       "  </thead>\n",
       "  <tbody>\n",
       "    <tr>\n",
       "      <td>0</td>\n",
       "      <td>V4</td>\n",
       "      <td>2.586234</td>\n",
       "      <td>0.024613</td>\n",
       "      <td>0.652387</td>\n",
       "      <td>0.041112</td>\n",
       "      <td>55.983400</td>\n",
       "      <td>0.020578</td>\n",
       "    </tr>\n",
       "    <tr>\n",
       "      <td>1</td>\n",
       "      <td>V12</td>\n",
       "      <td>2.026927</td>\n",
       "      <td>0.169729</td>\n",
       "      <td>0.000000</td>\n",
       "      <td>0.106979</td>\n",
       "      <td>26.871040</td>\n",
       "      <td>-0.035729</td>\n",
       "    </tr>\n",
       "    <tr>\n",
       "      <td>2</td>\n",
       "      <td>V14</td>\n",
       "      <td>2.026894</td>\n",
       "      <td>0.102770</td>\n",
       "      <td>-0.641298</td>\n",
       "      <td>0.109650</td>\n",
       "      <td>28.935596</td>\n",
       "      <td>-0.051818</td>\n",
       "    </tr>\n",
       "    <tr>\n",
       "      <td>3</td>\n",
       "      <td>V3</td>\n",
       "      <td>1.827990</td>\n",
       "      <td>0.015191</td>\n",
       "      <td>0.000000</td>\n",
       "      <td>0.036567</td>\n",
       "      <td>11.357897</td>\n",
       "      <td>0.000000</td>\n",
       "    </tr>\n",
       "    <tr>\n",
       "      <td>4</td>\n",
       "      <td>V11</td>\n",
       "      <td>1.729241</td>\n",
       "      <td>0.058821</td>\n",
       "      <td>0.000000</td>\n",
       "      <td>0.070802</td>\n",
       "      <td>61.477575</td>\n",
       "      <td>0.017455</td>\n",
       "    </tr>\n",
       "    <tr>\n",
       "      <td>5</td>\n",
       "      <td>V10</td>\n",
       "      <td>1.650776</td>\n",
       "      <td>0.064058</td>\n",
       "      <td>-0.674103</td>\n",
       "      <td>0.086695</td>\n",
       "      <td>9.067674</td>\n",
       "      <td>-0.037693</td>\n",
       "    </tr>\n",
       "    <tr>\n",
       "      <td>6</td>\n",
       "      <td>V16</td>\n",
       "      <td>1.303015</td>\n",
       "      <td>0.067169</td>\n",
       "      <td>0.000000</td>\n",
       "      <td>0.081707</td>\n",
       "      <td>19.818986</td>\n",
       "      <td>-0.030742</td>\n",
       "    </tr>\n",
       "    <tr>\n",
       "      <td>7</td>\n",
       "      <td>V2</td>\n",
       "      <td>1.167644</td>\n",
       "      <td>0.011552</td>\n",
       "      <td>0.000000</td>\n",
       "      <td>0.016568</td>\n",
       "      <td>0.604488</td>\n",
       "      <td>-0.009572</td>\n",
       "    </tr>\n",
       "    <tr>\n",
       "      <td>8</td>\n",
       "      <td>V17</td>\n",
       "      <td>1.154955</td>\n",
       "      <td>0.205636</td>\n",
       "      <td>0.000000</td>\n",
       "      <td>0.129953</td>\n",
       "      <td>18.866440</td>\n",
       "      <td>-0.048157</td>\n",
       "    </tr>\n",
       "    <tr>\n",
       "      <td>9</td>\n",
       "      <td>V9</td>\n",
       "      <td>1.055761</td>\n",
       "      <td>0.027648</td>\n",
       "      <td>-0.237577</td>\n",
       "      <td>0.034872</td>\n",
       "      <td>5.706094</td>\n",
       "      <td>-0.022785</td>\n",
       "    </tr>\n",
       "    <tr>\n",
       "      <td>10</td>\n",
       "      <td>V7</td>\n",
       "      <td>0.977057</td>\n",
       "      <td>0.028880</td>\n",
       "      <td>0.000000</td>\n",
       "      <td>0.026356</td>\n",
       "      <td>2.613216</td>\n",
       "      <td>-0.008160</td>\n",
       "    </tr>\n",
       "    <tr>\n",
       "      <td>11</td>\n",
       "      <td>V21</td>\n",
       "      <td>0.819375</td>\n",
       "      <td>0.015131</td>\n",
       "      <td>0.414545</td>\n",
       "      <td>0.015894</td>\n",
       "      <td>0.089102</td>\n",
       "      <td>0.005957</td>\n",
       "    </tr>\n",
       "    <tr>\n",
       "      <td>12</td>\n",
       "      <td>V1</td>\n",
       "      <td>0.770954</td>\n",
       "      <td>0.014765</td>\n",
       "      <td>0.000000</td>\n",
       "      <td>0.013214</td>\n",
       "      <td>2.214288</td>\n",
       "      <td>0.011869</td>\n",
       "    </tr>\n",
       "    <tr>\n",
       "      <td>13</td>\n",
       "      <td>V18</td>\n",
       "      <td>0.593391</td>\n",
       "      <td>0.024271</td>\n",
       "      <td>-0.209974</td>\n",
       "      <td>0.039285</td>\n",
       "      <td>12.542581</td>\n",
       "      <td>-0.014185</td>\n",
       "    </tr>\n",
       "    <tr>\n",
       "      <td>14</td>\n",
       "      <td>V27</td>\n",
       "      <td>0.590499</td>\n",
       "      <td>0.013157</td>\n",
       "      <td>-0.517382</td>\n",
       "      <td>0.012496</td>\n",
       "      <td>0.013829</td>\n",
       "      <td>0.000000</td>\n",
       "    </tr>\n",
       "    <tr>\n",
       "      <td>15</td>\n",
       "      <td>V6</td>\n",
       "      <td>0.533846</td>\n",
       "      <td>0.011764</td>\n",
       "      <td>-0.109907</td>\n",
       "      <td>0.013393</td>\n",
       "      <td>0.468189</td>\n",
       "      <td>0.000000</td>\n",
       "    </tr>\n",
       "    <tr>\n",
       "      <td>16</td>\n",
       "      <td>V28</td>\n",
       "      <td>0.520275</td>\n",
       "      <td>0.011149</td>\n",
       "      <td>-0.178525</td>\n",
       "      <td>0.012256</td>\n",
       "      <td>0.003698</td>\n",
       "      <td>0.000000</td>\n",
       "    </tr>\n",
       "    <tr>\n",
       "      <td>17</td>\n",
       "      <td>V5</td>\n",
       "      <td>0.515991</td>\n",
       "      <td>0.011806</td>\n",
       "      <td>0.000000</td>\n",
       "      <td>0.015690</td>\n",
       "      <td>1.069652</td>\n",
       "      <td>0.000000</td>\n",
       "    </tr>\n",
       "    <tr>\n",
       "      <td>18</td>\n",
       "      <td>V8</td>\n",
       "      <td>0.432382</td>\n",
       "      <td>0.012310</td>\n",
       "      <td>-0.202035</td>\n",
       "      <td>0.012220</td>\n",
       "      <td>0.010221</td>\n",
       "      <td>-0.013053</td>\n",
       "    </tr>\n",
       "    <tr>\n",
       "      <td>19</td>\n",
       "      <td>V20</td>\n",
       "      <td>0.426276</td>\n",
       "      <td>0.011822</td>\n",
       "      <td>-0.194480</td>\n",
       "      <td>0.015039</td>\n",
       "      <td>0.030303</td>\n",
       "      <td>0.000000</td>\n",
       "    </tr>\n",
       "    <tr>\n",
       "      <td>20</td>\n",
       "      <td>V19</td>\n",
       "      <td>0.375946</td>\n",
       "      <td>0.011581</td>\n",
       "      <td>0.225371</td>\n",
       "      <td>0.017150</td>\n",
       "      <td>1.939422</td>\n",
       "      <td>0.005074</td>\n",
       "    </tr>\n",
       "    <tr>\n",
       "      <td>21</td>\n",
       "      <td>Amount</td>\n",
       "      <td>0.249463</td>\n",
       "      <td>0.010477</td>\n",
       "      <td>0.000000</td>\n",
       "      <td>0.010784</td>\n",
       "      <td>0.413742</td>\n",
       "      <td>-0.000013</td>\n",
       "    </tr>\n",
       "    <tr>\n",
       "      <td>22</td>\n",
       "      <td>V23</td>\n",
       "      <td>0.182204</td>\n",
       "      <td>0.007004</td>\n",
       "      <td>0.000000</td>\n",
       "      <td>0.007513</td>\n",
       "      <td>0.000002</td>\n",
       "      <td>0.000000</td>\n",
       "    </tr>\n",
       "    <tr>\n",
       "      <td>23</td>\n",
       "      <td>V24</td>\n",
       "      <td>0.106878</td>\n",
       "      <td>0.010151</td>\n",
       "      <td>0.000000</td>\n",
       "      <td>0.011553</td>\n",
       "      <td>0.266872</td>\n",
       "      <td>0.000000</td>\n",
       "    </tr>\n",
       "    <tr>\n",
       "      <td>24</td>\n",
       "      <td>V26</td>\n",
       "      <td>0.036235</td>\n",
       "      <td>0.017252</td>\n",
       "      <td>0.000000</td>\n",
       "      <td>0.013837</td>\n",
       "      <td>0.098119</td>\n",
       "      <td>0.000000</td>\n",
       "    </tr>\n",
       "    <tr>\n",
       "      <td>25</td>\n",
       "      <td>V13</td>\n",
       "      <td>0.028558</td>\n",
       "      <td>0.010020</td>\n",
       "      <td>-0.293953</td>\n",
       "      <td>0.013063</td>\n",
       "      <td>0.069881</td>\n",
       "      <td>-0.001808</td>\n",
       "    </tr>\n",
       "    <tr>\n",
       "      <td>26</td>\n",
       "      <td>V25</td>\n",
       "      <td>0.019764</td>\n",
       "      <td>0.008588</td>\n",
       "      <td>0.000000</td>\n",
       "      <td>0.009751</td>\n",
       "      <td>0.016629</td>\n",
       "      <td>0.000000</td>\n",
       "    </tr>\n",
       "    <tr>\n",
       "      <td>27</td>\n",
       "      <td>V22</td>\n",
       "      <td>0.007120</td>\n",
       "      <td>0.010277</td>\n",
       "      <td>0.740907</td>\n",
       "      <td>0.012301</td>\n",
       "      <td>0.000789</td>\n",
       "      <td>0.000000</td>\n",
       "    </tr>\n",
       "    <tr>\n",
       "      <td>28</td>\n",
       "      <td>V15</td>\n",
       "      <td>0.000440</td>\n",
       "      <td>0.012410</td>\n",
       "      <td>0.000000</td>\n",
       "      <td>0.013300</td>\n",
       "      <td>0.020498</td>\n",
       "      <td>0.000000</td>\n",
       "    </tr>\n",
       "  </tbody>\n",
       "</table>\n",
       "</div>"
      ],
      "text/plain": [
       "   Variable_Name  Information_Value  Random_Forest  \\\n",
       "0             V4           2.586234       0.024613   \n",
       "1            V12           2.026927       0.169729   \n",
       "2            V14           2.026894       0.102770   \n",
       "3             V3           1.827990       0.015191   \n",
       "4            V11           1.729241       0.058821   \n",
       "5            V10           1.650776       0.064058   \n",
       "6            V16           1.303015       0.067169   \n",
       "7             V2           1.167644       0.011552   \n",
       "8            V17           1.154955       0.205636   \n",
       "9             V9           1.055761       0.027648   \n",
       "10            V7           0.977057       0.028880   \n",
       "11           V21           0.819375       0.015131   \n",
       "12            V1           0.770954       0.014765   \n",
       "13           V18           0.593391       0.024271   \n",
       "14           V27           0.590499       0.013157   \n",
       "15            V6           0.533846       0.011764   \n",
       "16           V28           0.520275       0.011149   \n",
       "17            V5           0.515991       0.011806   \n",
       "18            V8           0.432382       0.012310   \n",
       "19           V20           0.426276       0.011822   \n",
       "20           V19           0.375946       0.011581   \n",
       "21        Amount           0.249463       0.010477   \n",
       "22           V23           0.182204       0.007004   \n",
       "23           V24           0.106878       0.010151   \n",
       "24           V26           0.036235       0.017252   \n",
       "25           V13           0.028558       0.010020   \n",
       "26           V25           0.019764       0.008588   \n",
       "27           V22           0.007120       0.010277   \n",
       "28           V15           0.000440       0.012410   \n",
       "\n",
       "    Recursive_Feature_Elimination  Extra_Trees  Chi_Square     L_One  \n",
       "0                        0.652387     0.041112   55.983400  0.020578  \n",
       "1                        0.000000     0.106979   26.871040 -0.035729  \n",
       "2                       -0.641298     0.109650   28.935596 -0.051818  \n",
       "3                        0.000000     0.036567   11.357897  0.000000  \n",
       "4                        0.000000     0.070802   61.477575  0.017455  \n",
       "5                       -0.674103     0.086695    9.067674 -0.037693  \n",
       "6                        0.000000     0.081707   19.818986 -0.030742  \n",
       "7                        0.000000     0.016568    0.604488 -0.009572  \n",
       "8                        0.000000     0.129953   18.866440 -0.048157  \n",
       "9                       -0.237577     0.034872    5.706094 -0.022785  \n",
       "10                       0.000000     0.026356    2.613216 -0.008160  \n",
       "11                       0.414545     0.015894    0.089102  0.005957  \n",
       "12                       0.000000     0.013214    2.214288  0.011869  \n",
       "13                      -0.209974     0.039285   12.542581 -0.014185  \n",
       "14                      -0.517382     0.012496    0.013829  0.000000  \n",
       "15                      -0.109907     0.013393    0.468189  0.000000  \n",
       "16                      -0.178525     0.012256    0.003698  0.000000  \n",
       "17                       0.000000     0.015690    1.069652  0.000000  \n",
       "18                      -0.202035     0.012220    0.010221 -0.013053  \n",
       "19                      -0.194480     0.015039    0.030303  0.000000  \n",
       "20                       0.225371     0.017150    1.939422  0.005074  \n",
       "21                       0.000000     0.010784    0.413742 -0.000013  \n",
       "22                       0.000000     0.007513    0.000002  0.000000  \n",
       "23                       0.000000     0.011553    0.266872  0.000000  \n",
       "24                       0.000000     0.013837    0.098119  0.000000  \n",
       "25                      -0.293953     0.013063    0.069881 -0.001808  \n",
       "26                       0.000000     0.009751    0.016629  0.000000  \n",
       "27                       0.740907     0.012301    0.000789  0.000000  \n",
       "28                       0.000000     0.013300    0.020498  0.000000  "
      ]
     },
     "execution_count": 25,
     "metadata": {},
     "output_type": "execute_result"
    }
   ],
   "source": [
    "clf.feature_importances_"
   ]
  },
  {
   "cell_type": "code",
   "execution_count": 26,
   "metadata": {},
   "outputs": [
    {
     "data": {
      "text/html": [
       "<div>\n",
       "<style scoped>\n",
       "    .dataframe tbody tr th:only-of-type {\n",
       "        vertical-align: middle;\n",
       "    }\n",
       "\n",
       "    .dataframe tbody tr th {\n",
       "        vertical-align: top;\n",
       "    }\n",
       "\n",
       "    .dataframe thead th {\n",
       "        text-align: right;\n",
       "    }\n",
       "</style>\n",
       "<table border=\"1\" class=\"dataframe\">\n",
       "  <thead>\n",
       "    <tr style=\"text-align: right;\">\n",
       "      <th></th>\n",
       "      <th>Variable_Name</th>\n",
       "      <th>Information_Value</th>\n",
       "      <th>Random_Forest</th>\n",
       "      <th>Recursive_Feature_Elimination</th>\n",
       "      <th>Extra_Trees</th>\n",
       "      <th>Chi_Square</th>\n",
       "      <th>L_One</th>\n",
       "      <th>Votes</th>\n",
       "    </tr>\n",
       "  </thead>\n",
       "  <tbody>\n",
       "    <tr>\n",
       "      <td>0</td>\n",
       "      <td>V4</td>\n",
       "      <td>1</td>\n",
       "      <td>1</td>\n",
       "      <td>1</td>\n",
       "      <td>1</td>\n",
       "      <td>1</td>\n",
       "      <td>1</td>\n",
       "      <td>6</td>\n",
       "    </tr>\n",
       "    <tr>\n",
       "      <td>5</td>\n",
       "      <td>V10</td>\n",
       "      <td>1</td>\n",
       "      <td>1</td>\n",
       "      <td>1</td>\n",
       "      <td>1</td>\n",
       "      <td>1</td>\n",
       "      <td>1</td>\n",
       "      <td>6</td>\n",
       "    </tr>\n",
       "    <tr>\n",
       "      <td>13</td>\n",
       "      <td>V18</td>\n",
       "      <td>1</td>\n",
       "      <td>1</td>\n",
       "      <td>1</td>\n",
       "      <td>1</td>\n",
       "      <td>1</td>\n",
       "      <td>1</td>\n",
       "      <td>6</td>\n",
       "    </tr>\n",
       "    <tr>\n",
       "      <td>9</td>\n",
       "      <td>V9</td>\n",
       "      <td>1</td>\n",
       "      <td>1</td>\n",
       "      <td>1</td>\n",
       "      <td>1</td>\n",
       "      <td>1</td>\n",
       "      <td>1</td>\n",
       "      <td>6</td>\n",
       "    </tr>\n",
       "    <tr>\n",
       "      <td>2</td>\n",
       "      <td>V14</td>\n",
       "      <td>1</td>\n",
       "      <td>1</td>\n",
       "      <td>1</td>\n",
       "      <td>1</td>\n",
       "      <td>1</td>\n",
       "      <td>1</td>\n",
       "      <td>6</td>\n",
       "    </tr>\n",
       "    <tr>\n",
       "      <td>4</td>\n",
       "      <td>V11</td>\n",
       "      <td>1</td>\n",
       "      <td>1</td>\n",
       "      <td>0</td>\n",
       "      <td>1</td>\n",
       "      <td>1</td>\n",
       "      <td>1</td>\n",
       "      <td>5</td>\n",
       "    </tr>\n",
       "    <tr>\n",
       "      <td>6</td>\n",
       "      <td>V16</td>\n",
       "      <td>1</td>\n",
       "      <td>1</td>\n",
       "      <td>0</td>\n",
       "      <td>1</td>\n",
       "      <td>1</td>\n",
       "      <td>1</td>\n",
       "      <td>5</td>\n",
       "    </tr>\n",
       "    <tr>\n",
       "      <td>8</td>\n",
       "      <td>V17</td>\n",
       "      <td>1</td>\n",
       "      <td>1</td>\n",
       "      <td>0</td>\n",
       "      <td>1</td>\n",
       "      <td>1</td>\n",
       "      <td>1</td>\n",
       "      <td>5</td>\n",
       "    </tr>\n",
       "    <tr>\n",
       "      <td>10</td>\n",
       "      <td>V7</td>\n",
       "      <td>1</td>\n",
       "      <td>1</td>\n",
       "      <td>0</td>\n",
       "      <td>1</td>\n",
       "      <td>1</td>\n",
       "      <td>1</td>\n",
       "      <td>5</td>\n",
       "    </tr>\n",
       "    <tr>\n",
       "      <td>11</td>\n",
       "      <td>V21</td>\n",
       "      <td>1</td>\n",
       "      <td>1</td>\n",
       "      <td>1</td>\n",
       "      <td>1</td>\n",
       "      <td>0</td>\n",
       "      <td>1</td>\n",
       "      <td>5</td>\n",
       "    </tr>\n",
       "    <tr>\n",
       "      <td>1</td>\n",
       "      <td>V12</td>\n",
       "      <td>1</td>\n",
       "      <td>1</td>\n",
       "      <td>0</td>\n",
       "      <td>1</td>\n",
       "      <td>1</td>\n",
       "      <td>1</td>\n",
       "      <td>5</td>\n",
       "    </tr>\n",
       "    <tr>\n",
       "      <td>3</td>\n",
       "      <td>V3</td>\n",
       "      <td>1</td>\n",
       "      <td>1</td>\n",
       "      <td>0</td>\n",
       "      <td>1</td>\n",
       "      <td>1</td>\n",
       "      <td>0</td>\n",
       "      <td>4</td>\n",
       "    </tr>\n",
       "    <tr>\n",
       "      <td>12</td>\n",
       "      <td>V1</td>\n",
       "      <td>1</td>\n",
       "      <td>1</td>\n",
       "      <td>0</td>\n",
       "      <td>0</td>\n",
       "      <td>1</td>\n",
       "      <td>1</td>\n",
       "      <td>4</td>\n",
       "    </tr>\n",
       "    <tr>\n",
       "      <td>7</td>\n",
       "      <td>V2</td>\n",
       "      <td>1</td>\n",
       "      <td>0</td>\n",
       "      <td>0</td>\n",
       "      <td>1</td>\n",
       "      <td>0</td>\n",
       "      <td>1</td>\n",
       "      <td>3</td>\n",
       "    </tr>\n",
       "    <tr>\n",
       "      <td>20</td>\n",
       "      <td>V19</td>\n",
       "      <td>0</td>\n",
       "      <td>0</td>\n",
       "      <td>1</td>\n",
       "      <td>1</td>\n",
       "      <td>1</td>\n",
       "      <td>0</td>\n",
       "      <td>3</td>\n",
       "    </tr>\n",
       "    <tr>\n",
       "      <td>18</td>\n",
       "      <td>V8</td>\n",
       "      <td>0</td>\n",
       "      <td>0</td>\n",
       "      <td>1</td>\n",
       "      <td>0</td>\n",
       "      <td>0</td>\n",
       "      <td>1</td>\n",
       "      <td>2</td>\n",
       "    </tr>\n",
       "    <tr>\n",
       "      <td>27</td>\n",
       "      <td>V22</td>\n",
       "      <td>0</td>\n",
       "      <td>0</td>\n",
       "      <td>1</td>\n",
       "      <td>0</td>\n",
       "      <td>0</td>\n",
       "      <td>0</td>\n",
       "      <td>1</td>\n",
       "    </tr>\n",
       "    <tr>\n",
       "      <td>25</td>\n",
       "      <td>V13</td>\n",
       "      <td>0</td>\n",
       "      <td>0</td>\n",
       "      <td>1</td>\n",
       "      <td>0</td>\n",
       "      <td>0</td>\n",
       "      <td>0</td>\n",
       "      <td>1</td>\n",
       "    </tr>\n",
       "    <tr>\n",
       "      <td>24</td>\n",
       "      <td>V26</td>\n",
       "      <td>0</td>\n",
       "      <td>1</td>\n",
       "      <td>0</td>\n",
       "      <td>0</td>\n",
       "      <td>0</td>\n",
       "      <td>0</td>\n",
       "      <td>1</td>\n",
       "    </tr>\n",
       "    <tr>\n",
       "      <td>14</td>\n",
       "      <td>V27</td>\n",
       "      <td>0</td>\n",
       "      <td>0</td>\n",
       "      <td>1</td>\n",
       "      <td>0</td>\n",
       "      <td>0</td>\n",
       "      <td>0</td>\n",
       "      <td>1</td>\n",
       "    </tr>\n",
       "    <tr>\n",
       "      <td>19</td>\n",
       "      <td>V20</td>\n",
       "      <td>0</td>\n",
       "      <td>0</td>\n",
       "      <td>1</td>\n",
       "      <td>0</td>\n",
       "      <td>0</td>\n",
       "      <td>0</td>\n",
       "      <td>1</td>\n",
       "    </tr>\n",
       "    <tr>\n",
       "      <td>17</td>\n",
       "      <td>V5</td>\n",
       "      <td>0</td>\n",
       "      <td>0</td>\n",
       "      <td>0</td>\n",
       "      <td>0</td>\n",
       "      <td>1</td>\n",
       "      <td>0</td>\n",
       "      <td>1</td>\n",
       "    </tr>\n",
       "    <tr>\n",
       "      <td>16</td>\n",
       "      <td>V28</td>\n",
       "      <td>0</td>\n",
       "      <td>0</td>\n",
       "      <td>1</td>\n",
       "      <td>0</td>\n",
       "      <td>0</td>\n",
       "      <td>0</td>\n",
       "      <td>1</td>\n",
       "    </tr>\n",
       "    <tr>\n",
       "      <td>15</td>\n",
       "      <td>V6</td>\n",
       "      <td>0</td>\n",
       "      <td>0</td>\n",
       "      <td>1</td>\n",
       "      <td>0</td>\n",
       "      <td>0</td>\n",
       "      <td>0</td>\n",
       "      <td>1</td>\n",
       "    </tr>\n",
       "    <tr>\n",
       "      <td>21</td>\n",
       "      <td>Amount</td>\n",
       "      <td>0</td>\n",
       "      <td>0</td>\n",
       "      <td>0</td>\n",
       "      <td>0</td>\n",
       "      <td>0</td>\n",
       "      <td>0</td>\n",
       "      <td>0</td>\n",
       "    </tr>\n",
       "    <tr>\n",
       "      <td>22</td>\n",
       "      <td>V23</td>\n",
       "      <td>0</td>\n",
       "      <td>0</td>\n",
       "      <td>0</td>\n",
       "      <td>0</td>\n",
       "      <td>0</td>\n",
       "      <td>0</td>\n",
       "      <td>0</td>\n",
       "    </tr>\n",
       "    <tr>\n",
       "      <td>23</td>\n",
       "      <td>V24</td>\n",
       "      <td>0</td>\n",
       "      <td>0</td>\n",
       "      <td>0</td>\n",
       "      <td>0</td>\n",
       "      <td>0</td>\n",
       "      <td>0</td>\n",
       "      <td>0</td>\n",
       "    </tr>\n",
       "    <tr>\n",
       "      <td>26</td>\n",
       "      <td>V25</td>\n",
       "      <td>0</td>\n",
       "      <td>0</td>\n",
       "      <td>0</td>\n",
       "      <td>0</td>\n",
       "      <td>0</td>\n",
       "      <td>0</td>\n",
       "      <td>0</td>\n",
       "    </tr>\n",
       "    <tr>\n",
       "      <td>28</td>\n",
       "      <td>V15</td>\n",
       "      <td>0</td>\n",
       "      <td>0</td>\n",
       "      <td>0</td>\n",
       "      <td>0</td>\n",
       "      <td>0</td>\n",
       "      <td>0</td>\n",
       "      <td>0</td>\n",
       "    </tr>\n",
       "  </tbody>\n",
       "</table>\n",
       "</div>"
      ],
      "text/plain": [
       "   Variable_Name  Information_Value  Random_Forest  \\\n",
       "0             V4                  1              1   \n",
       "5            V10                  1              1   \n",
       "13           V18                  1              1   \n",
       "9             V9                  1              1   \n",
       "2            V14                  1              1   \n",
       "4            V11                  1              1   \n",
       "6            V16                  1              1   \n",
       "8            V17                  1              1   \n",
       "10            V7                  1              1   \n",
       "11           V21                  1              1   \n",
       "1            V12                  1              1   \n",
       "3             V3                  1              1   \n",
       "12            V1                  1              1   \n",
       "7             V2                  1              0   \n",
       "20           V19                  0              0   \n",
       "18            V8                  0              0   \n",
       "27           V22                  0              0   \n",
       "25           V13                  0              0   \n",
       "24           V26                  0              1   \n",
       "14           V27                  0              0   \n",
       "19           V20                  0              0   \n",
       "17            V5                  0              0   \n",
       "16           V28                  0              0   \n",
       "15            V6                  0              0   \n",
       "21        Amount                  0              0   \n",
       "22           V23                  0              0   \n",
       "23           V24                  0              0   \n",
       "26           V25                  0              0   \n",
       "28           V15                  0              0   \n",
       "\n",
       "    Recursive_Feature_Elimination  Extra_Trees  Chi_Square  L_One  Votes  \n",
       "0                               1            1           1      1      6  \n",
       "5                               1            1           1      1      6  \n",
       "13                              1            1           1      1      6  \n",
       "9                               1            1           1      1      6  \n",
       "2                               1            1           1      1      6  \n",
       "4                               0            1           1      1      5  \n",
       "6                               0            1           1      1      5  \n",
       "8                               0            1           1      1      5  \n",
       "10                              0            1           1      1      5  \n",
       "11                              1            1           0      1      5  \n",
       "1                               0            1           1      1      5  \n",
       "3                               0            1           1      0      4  \n",
       "12                              0            0           1      1      4  \n",
       "7                               0            1           0      1      3  \n",
       "20                              1            1           1      0      3  \n",
       "18                              1            0           0      1      2  \n",
       "27                              1            0           0      0      1  \n",
       "25                              1            0           0      0      1  \n",
       "24                              0            0           0      0      1  \n",
       "14                              1            0           0      0      1  \n",
       "19                              1            0           0      0      1  \n",
       "17                              0            0           1      0      1  \n",
       "16                              1            0           0      0      1  \n",
       "15                              1            0           0      0      1  \n",
       "21                              0            0           0      0      0  \n",
       "22                              0            0           0      0      0  \n",
       "23                              0            0           0      0      0  \n",
       "26                              0            0           0      0      0  \n",
       "28                              0            0           0      0      0  "
      ]
     },
     "execution_count": 26,
     "metadata": {},
     "output_type": "execute_result"
    }
   ],
   "source": [
    "clf.feature_votes_"
   ]
  },
  {
   "cell_type": "markdown",
   "metadata": {},
   "source": [
    "As we see from the feature importance test above, the variable with atleast 2 votes are given below"
   ]
  },
  {
   "cell_type": "code",
   "execution_count": 27,
   "metadata": {},
   "outputs": [
    {
     "name": "stdout",
     "output_type": "stream",
     "text": [
      "0      V4\n",
      "5     V10\n",
      "13    V18\n",
      "9      V9\n",
      "2     V14\n",
      "4     V11\n",
      "6     V16\n",
      "8     V17\n",
      "10     V7\n",
      "11    V21\n",
      "1     V12\n",
      "3      V3\n",
      "12     V1\n",
      "7      V2\n",
      "20    V19\n",
      "18     V8\n",
      "Name: Variable_Name, dtype: object\n"
     ]
    }
   ],
   "source": [
    "vars_selected_unbalanced = clf.feature_votes_[clf.feature_votes_['Votes'] >= 2]['Variable_Name']\n",
    "print(vars_selected_unbalanced)"
   ]
  },
  {
   "cell_type": "markdown",
   "metadata": {},
   "source": [
    "## 3.4 Feature selection on balanced dataset"
   ]
  },
  {
   "cell_type": "markdown",
   "metadata": {},
   "source": [
    "We want to verify if balancing the dataset is going to have an impact on the feature selection exercise. So, let us try it out."
   ]
  },
  {
   "cell_type": "code",
   "execution_count": 28,
   "metadata": {},
   "outputs": [],
   "source": [
    "df_train = X_train.copy(deep=True)\n",
    "df_train['Class'] = y_train"
   ]
  },
  {
   "cell_type": "code",
   "execution_count": 29,
   "metadata": {},
   "outputs": [
    {
     "data": {
      "text/html": [
       "<div>\n",
       "<style scoped>\n",
       "    .dataframe tbody tr th:only-of-type {\n",
       "        vertical-align: middle;\n",
       "    }\n",
       "\n",
       "    .dataframe tbody tr th {\n",
       "        vertical-align: top;\n",
       "    }\n",
       "\n",
       "    .dataframe thead th {\n",
       "        text-align: right;\n",
       "    }\n",
       "</style>\n",
       "<table border=\"1\" class=\"dataframe\">\n",
       "  <thead>\n",
       "    <tr style=\"text-align: right;\">\n",
       "      <th></th>\n",
       "      <th>Amount</th>\n",
       "      <th>V1</th>\n",
       "      <th>V10</th>\n",
       "      <th>V11</th>\n",
       "      <th>V12</th>\n",
       "      <th>V13</th>\n",
       "      <th>V14</th>\n",
       "      <th>V15</th>\n",
       "      <th>V16</th>\n",
       "      <th>V17</th>\n",
       "      <th>...</th>\n",
       "      <th>V27</th>\n",
       "      <th>V28</th>\n",
       "      <th>V3</th>\n",
       "      <th>V4</th>\n",
       "      <th>V5</th>\n",
       "      <th>V6</th>\n",
       "      <th>V7</th>\n",
       "      <th>V8</th>\n",
       "      <th>V9</th>\n",
       "      <th>Class</th>\n",
       "    </tr>\n",
       "  </thead>\n",
       "  <tbody>\n",
       "    <tr>\n",
       "      <td>251474</td>\n",
       "      <td>62.59</td>\n",
       "      <td>2.204826</td>\n",
       "      <td>1.528504</td>\n",
       "      <td>-0.875710</td>\n",
       "      <td>-0.360018</td>\n",
       "      <td>1.201173</td>\n",
       "      <td>-0.532374</td>\n",
       "      <td>-0.252210</td>\n",
       "      <td>-0.702020</td>\n",
       "      <td>0.513988</td>\n",
       "      <td>...</td>\n",
       "      <td>0.008199</td>\n",
       "      <td>-0.042599</td>\n",
       "      <td>-0.950349</td>\n",
       "      <td>-1.446352</td>\n",
       "      <td>-1.288669</td>\n",
       "      <td>-0.944644</td>\n",
       "      <td>-0.879049</td>\n",
       "      <td>-0.342350</td>\n",
       "      <td>-1.357151</td>\n",
       "      <td>0</td>\n",
       "    </tr>\n",
       "    <tr>\n",
       "      <td>174014</td>\n",
       "      <td>16.37</td>\n",
       "      <td>-1.865275</td>\n",
       "      <td>0.939435</td>\n",
       "      <td>1.076229</td>\n",
       "      <td>-0.955163</td>\n",
       "      <td>-2.370698</td>\n",
       "      <td>-0.919738</td>\n",
       "      <td>1.043154</td>\n",
       "      <td>-0.771236</td>\n",
       "      <td>1.024570</td>\n",
       "      <td>...</td>\n",
       "      <td>-1.072025</td>\n",
       "      <td>-0.922523</td>\n",
       "      <td>-0.533463</td>\n",
       "      <td>-0.311065</td>\n",
       "      <td>2.218740</td>\n",
       "      <td>1.217010</td>\n",
       "      <td>0.511824</td>\n",
       "      <td>-0.144187</td>\n",
       "      <td>0.756047</td>\n",
       "      <td>0</td>\n",
       "    </tr>\n",
       "    <tr>\n",
       "      <td>250753</td>\n",
       "      <td>24.99</td>\n",
       "      <td>2.158823</td>\n",
       "      <td>0.107461</td>\n",
       "      <td>-0.964321</td>\n",
       "      <td>-1.698357</td>\n",
       "      <td>-1.167466</td>\n",
       "      <td>-1.855577</td>\n",
       "      <td>0.614191</td>\n",
       "      <td>1.835068</td>\n",
       "      <td>1.322913</td>\n",
       "      <td>...</td>\n",
       "      <td>0.016032</td>\n",
       "      <td>-0.011472</td>\n",
       "      <td>-1.443965</td>\n",
       "      <td>-0.740874</td>\n",
       "      <td>-0.531776</td>\n",
       "      <td>-0.388217</td>\n",
       "      <td>-1.049460</td>\n",
       "      <td>0.055527</td>\n",
       "      <td>0.299363</td>\n",
       "      <td>0</td>\n",
       "    </tr>\n",
       "    <tr>\n",
       "      <td>120732</td>\n",
       "      <td>61.18</td>\n",
       "      <td>1.169197</td>\n",
       "      <td>-0.500620</td>\n",
       "      <td>-1.394811</td>\n",
       "      <td>0.762854</td>\n",
       "      <td>0.996538</td>\n",
       "      <td>-0.765934</td>\n",
       "      <td>-0.330784</td>\n",
       "      <td>0.089963</td>\n",
       "      <td>-0.207528</td>\n",
       "      <td>...</td>\n",
       "      <td>-0.039022</td>\n",
       "      <td>0.016817</td>\n",
       "      <td>0.752087</td>\n",
       "      <td>0.089469</td>\n",
       "      <td>-0.769250</td>\n",
       "      <td>0.125516</td>\n",
       "      <td>-0.540502</td>\n",
       "      <td>0.043293</td>\n",
       "      <td>1.125848</td>\n",
       "      <td>0</td>\n",
       "    </tr>\n",
       "    <tr>\n",
       "      <td>79455</td>\n",
       "      <td>3.14</td>\n",
       "      <td>1.432821</td>\n",
       "      <td>0.668496</td>\n",
       "      <td>0.429527</td>\n",
       "      <td>0.304261</td>\n",
       "      <td>0.542571</td>\n",
       "      <td>-0.359518</td>\n",
       "      <td>-1.260906</td>\n",
       "      <td>0.883564</td>\n",
       "      <td>0.141600</td>\n",
       "      <td>...</td>\n",
       "      <td>0.005474</td>\n",
       "      <td>-0.010294</td>\n",
       "      <td>0.037679</td>\n",
       "      <td>-0.768158</td>\n",
       "      <td>-0.502799</td>\n",
       "      <td>-0.091228</td>\n",
       "      <td>-0.546729</td>\n",
       "      <td>-0.038278</td>\n",
       "      <td>-0.788374</td>\n",
       "      <td>0</td>\n",
       "    </tr>\n",
       "  </tbody>\n",
       "</table>\n",
       "<p>5 rows × 30 columns</p>\n",
       "</div>"
      ],
      "text/plain": [
       "        Amount        V1       V10       V11       V12       V13       V14  \\\n",
       "251474   62.59  2.204826  1.528504 -0.875710 -0.360018  1.201173 -0.532374   \n",
       "174014   16.37 -1.865275  0.939435  1.076229 -0.955163 -2.370698 -0.919738   \n",
       "250753   24.99  2.158823  0.107461 -0.964321 -1.698357 -1.167466 -1.855577   \n",
       "120732   61.18  1.169197 -0.500620 -1.394811  0.762854  0.996538 -0.765934   \n",
       "79455     3.14  1.432821  0.668496  0.429527  0.304261  0.542571 -0.359518   \n",
       "\n",
       "             V15       V16       V17  ...       V27       V28        V3  \\\n",
       "251474 -0.252210 -0.702020  0.513988  ...  0.008199 -0.042599 -0.950349   \n",
       "174014  1.043154 -0.771236  1.024570  ... -1.072025 -0.922523 -0.533463   \n",
       "250753  0.614191  1.835068  1.322913  ...  0.016032 -0.011472 -1.443965   \n",
       "120732 -0.330784  0.089963 -0.207528  ... -0.039022  0.016817  0.752087   \n",
       "79455  -1.260906  0.883564  0.141600  ...  0.005474 -0.010294  0.037679   \n",
       "\n",
       "              V4        V5        V6        V7        V8        V9  Class  \n",
       "251474 -1.446352 -1.288669 -0.944644 -0.879049 -0.342350 -1.357151      0  \n",
       "174014 -0.311065  2.218740  1.217010  0.511824 -0.144187  0.756047      0  \n",
       "250753 -0.740874 -0.531776 -0.388217 -1.049460  0.055527  0.299363      0  \n",
       "120732  0.089469 -0.769250  0.125516 -0.540502  0.043293  1.125848      0  \n",
       "79455  -0.768158 -0.502799 -0.091228 -0.546729 -0.038278 -0.788374      0  \n",
       "\n",
       "[5 rows x 30 columns]"
      ]
     },
     "execution_count": 29,
     "metadata": {},
     "output_type": "execute_result"
    }
   ],
   "source": [
    "df_train.head()"
   ]
  },
  {
   "cell_type": "code",
   "execution_count": 30,
   "metadata": {},
   "outputs": [],
   "source": [
    "df_zeros = df_train[df_train.Class == 0]\n",
    "df_ones = df_train[df_train.Class == 1]"
   ]
  },
  {
   "cell_type": "code",
   "execution_count": 31,
   "metadata": {},
   "outputs": [
    {
     "data": {
      "text/plain": [
       "351"
      ]
     },
     "execution_count": 31,
     "metadata": {},
     "output_type": "execute_result"
    }
   ],
   "source": [
    "len(df_ones)"
   ]
  },
  {
   "cell_type": "code",
   "execution_count": 32,
   "metadata": {},
   "outputs": [],
   "source": [
    "new_df_zeros = df_zeros.sample(n=351)"
   ]
  },
  {
   "cell_type": "code",
   "execution_count": 33,
   "metadata": {},
   "outputs": [],
   "source": [
    "final_df_balanced_train = pd.concat([new_df_zeros, df_ones])"
   ]
  },
  {
   "cell_type": "code",
   "execution_count": 34,
   "metadata": {},
   "outputs": [
    {
     "data": {
      "text/plain": [
       "1    351\n",
       "0    351\n",
       "Name: Class, dtype: int64"
      ]
     },
     "execution_count": 34,
     "metadata": {},
     "output_type": "execute_result"
    }
   ],
   "source": [
    "final_df_balanced_train.Class.value_counts()"
   ]
  },
  {
   "cell_type": "code",
   "execution_count": 35,
   "metadata": {},
   "outputs": [
    {
     "data": {
      "text/plain": [
       "VotingSelector(exclude_features=None, feature_names='all',\n",
       "               handle_category='woe', minimum_votes=0, no_of_features=14,\n",
       "               numerical_missing_values='median',\n",
       "               selection_techniques=['WOE', 'RF', 'RFE', 'ETC', 'CS', 'L_ONE'])"
      ]
     },
     "execution_count": 35,
     "metadata": {},
     "output_type": "execute_result"
    }
   ],
   "source": [
    "new_X, new_y = splitXY(final_df_balanced_train, 'Class')\n",
    "\n",
    "from xverse.ensemble import VotingSelector\n",
    "\n",
    "clf = VotingSelector()\n",
    "clf.fit(new_X, new_y)"
   ]
  },
  {
   "cell_type": "code",
   "execution_count": 36,
   "metadata": {},
   "outputs": [
    {
     "data": {
      "text/html": [
       "<div>\n",
       "<style scoped>\n",
       "    .dataframe tbody tr th:only-of-type {\n",
       "        vertical-align: middle;\n",
       "    }\n",
       "\n",
       "    .dataframe tbody tr th {\n",
       "        vertical-align: top;\n",
       "    }\n",
       "\n",
       "    .dataframe thead th {\n",
       "        text-align: right;\n",
       "    }\n",
       "</style>\n",
       "<table border=\"1\" class=\"dataframe\">\n",
       "  <thead>\n",
       "    <tr style=\"text-align: right;\">\n",
       "      <th></th>\n",
       "      <th>Variable_Name</th>\n",
       "      <th>Information_Value</th>\n",
       "      <th>Random_Forest</th>\n",
       "      <th>Recursive_Feature_Elimination</th>\n",
       "      <th>Extra_Trees</th>\n",
       "      <th>Chi_Square</th>\n",
       "      <th>L_One</th>\n",
       "    </tr>\n",
       "  </thead>\n",
       "  <tbody>\n",
       "    <tr>\n",
       "      <td>0</td>\n",
       "      <td>V11</td>\n",
       "      <td>4.714481</td>\n",
       "      <td>0.050539</td>\n",
       "      <td>0.480636</td>\n",
       "      <td>0.070904</td>\n",
       "      <td>36.764009</td>\n",
       "      <td>0.020609</td>\n",
       "    </tr>\n",
       "    <tr>\n",
       "      <td>1</td>\n",
       "      <td>V12</td>\n",
       "      <td>4.380598</td>\n",
       "      <td>0.065307</td>\n",
       "      <td>-0.520700</td>\n",
       "      <td>0.096319</td>\n",
       "      <td>20.459661</td>\n",
       "      <td>-0.082264</td>\n",
       "    </tr>\n",
       "    <tr>\n",
       "      <td>2</td>\n",
       "      <td>V10</td>\n",
       "      <td>3.735998</td>\n",
       "      <td>0.151407</td>\n",
       "      <td>-0.322109</td>\n",
       "      <td>0.052467</td>\n",
       "      <td>7.280160</td>\n",
       "      <td>-0.016287</td>\n",
       "    </tr>\n",
       "    <tr>\n",
       "      <td>3</td>\n",
       "      <td>V3</td>\n",
       "      <td>3.590025</td>\n",
       "      <td>0.059815</td>\n",
       "      <td>0.000000</td>\n",
       "      <td>0.067398</td>\n",
       "      <td>8.637917</td>\n",
       "      <td>-0.024939</td>\n",
       "    </tr>\n",
       "    <tr>\n",
       "      <td>4</td>\n",
       "      <td>V16</td>\n",
       "      <td>3.126913</td>\n",
       "      <td>0.062936</td>\n",
       "      <td>0.000000</td>\n",
       "      <td>0.056640</td>\n",
       "      <td>14.017791</td>\n",
       "      <td>0.000000</td>\n",
       "    </tr>\n",
       "    <tr>\n",
       "      <td>5</td>\n",
       "      <td>V4</td>\n",
       "      <td>3.019944</td>\n",
       "      <td>0.110650</td>\n",
       "      <td>0.798333</td>\n",
       "      <td>0.088501</td>\n",
       "      <td>33.012025</td>\n",
       "      <td>0.097215</td>\n",
       "    </tr>\n",
       "    <tr>\n",
       "      <td>6</td>\n",
       "      <td>V7</td>\n",
       "      <td>2.422783</td>\n",
       "      <td>0.036327</td>\n",
       "      <td>0.000000</td>\n",
       "      <td>0.028896</td>\n",
       "      <td>2.323771</td>\n",
       "      <td>0.000000</td>\n",
       "    </tr>\n",
       "    <tr>\n",
       "      <td>7</td>\n",
       "      <td>V2</td>\n",
       "      <td>2.116494</td>\n",
       "      <td>0.009247</td>\n",
       "      <td>0.000000</td>\n",
       "      <td>0.020051</td>\n",
       "      <td>1.645632</td>\n",
       "      <td>0.000000</td>\n",
       "    </tr>\n",
       "    <tr>\n",
       "      <td>8</td>\n",
       "      <td>V9</td>\n",
       "      <td>1.632548</td>\n",
       "      <td>0.012014</td>\n",
       "      <td>0.000000</td>\n",
       "      <td>0.033705</td>\n",
       "      <td>4.815534</td>\n",
       "      <td>0.000000</td>\n",
       "    </tr>\n",
       "    <tr>\n",
       "      <td>9</td>\n",
       "      <td>V18</td>\n",
       "      <td>1.467134</td>\n",
       "      <td>0.007131</td>\n",
       "      <td>-0.510230</td>\n",
       "      <td>0.032212</td>\n",
       "      <td>8.039469</td>\n",
       "      <td>0.000000</td>\n",
       "    </tr>\n",
       "    <tr>\n",
       "      <td>10</td>\n",
       "      <td>V21</td>\n",
       "      <td>1.339076</td>\n",
       "      <td>0.018300</td>\n",
       "      <td>0.000000</td>\n",
       "      <td>0.013825</td>\n",
       "      <td>0.089441</td>\n",
       "      <td>0.000000</td>\n",
       "    </tr>\n",
       "    <tr>\n",
       "      <td>11</td>\n",
       "      <td>V14</td>\n",
       "      <td>1.239317</td>\n",
       "      <td>0.168483</td>\n",
       "      <td>-0.744062</td>\n",
       "      <td>0.131029</td>\n",
       "      <td>22.941650</td>\n",
       "      <td>-0.176002</td>\n",
       "    </tr>\n",
       "    <tr>\n",
       "      <td>12</td>\n",
       "      <td>V6</td>\n",
       "      <td>1.224701</td>\n",
       "      <td>0.010164</td>\n",
       "      <td>-0.352452</td>\n",
       "      <td>0.021176</td>\n",
       "      <td>4.570452</td>\n",
       "      <td>0.000000</td>\n",
       "    </tr>\n",
       "    <tr>\n",
       "      <td>13</td>\n",
       "      <td>V27</td>\n",
       "      <td>1.136496</td>\n",
       "      <td>0.011020</td>\n",
       "      <td>0.361081</td>\n",
       "      <td>0.028031</td>\n",
       "      <td>0.064529</td>\n",
       "      <td>0.000000</td>\n",
       "    </tr>\n",
       "    <tr>\n",
       "      <td>14</td>\n",
       "      <td>V1</td>\n",
       "      <td>1.120163</td>\n",
       "      <td>0.006317</td>\n",
       "      <td>0.000000</td>\n",
       "      <td>0.023570</td>\n",
       "      <td>3.906461</td>\n",
       "      <td>0.000000</td>\n",
       "    </tr>\n",
       "    <tr>\n",
       "      <td>15</td>\n",
       "      <td>V5</td>\n",
       "      <td>0.853477</td>\n",
       "      <td>0.009867</td>\n",
       "      <td>0.000000</td>\n",
       "      <td>0.015071</td>\n",
       "      <td>2.716813</td>\n",
       "      <td>0.000000</td>\n",
       "    </tr>\n",
       "    <tr>\n",
       "      <td>16</td>\n",
       "      <td>V28</td>\n",
       "      <td>0.775569</td>\n",
       "      <td>0.007838</td>\n",
       "      <td>1.040202</td>\n",
       "      <td>0.014842</td>\n",
       "      <td>0.182671</td>\n",
       "      <td>0.000000</td>\n",
       "    </tr>\n",
       "    <tr>\n",
       "      <td>17</td>\n",
       "      <td>V17</td>\n",
       "      <td>0.736656</td>\n",
       "      <td>0.102070</td>\n",
       "      <td>0.000000</td>\n",
       "      <td>0.084478</td>\n",
       "      <td>10.956303</td>\n",
       "      <td>-0.006020</td>\n",
       "    </tr>\n",
       "    <tr>\n",
       "      <td>18</td>\n",
       "      <td>V19</td>\n",
       "      <td>0.729314</td>\n",
       "      <td>0.014518</td>\n",
       "      <td>0.000000</td>\n",
       "      <td>0.019437</td>\n",
       "      <td>3.579117</td>\n",
       "      <td>0.000000</td>\n",
       "    </tr>\n",
       "    <tr>\n",
       "      <td>19</td>\n",
       "      <td>V20</td>\n",
       "      <td>0.643139</td>\n",
       "      <td>0.012380</td>\n",
       "      <td>0.000000</td>\n",
       "      <td>0.015803</td>\n",
       "      <td>0.281993</td>\n",
       "      <td>0.000000</td>\n",
       "    </tr>\n",
       "    <tr>\n",
       "      <td>20</td>\n",
       "      <td>V8</td>\n",
       "      <td>0.594239</td>\n",
       "      <td>0.009506</td>\n",
       "      <td>-0.419028</td>\n",
       "      <td>0.012827</td>\n",
       "      <td>0.016892</td>\n",
       "      <td>0.000000</td>\n",
       "    </tr>\n",
       "    <tr>\n",
       "      <td>21</td>\n",
       "      <td>Amount</td>\n",
       "      <td>0.370282</td>\n",
       "      <td>0.009748</td>\n",
       "      <td>0.000000</td>\n",
       "      <td>0.009265</td>\n",
       "      <td>0.028255</td>\n",
       "      <td>-0.000036</td>\n",
       "    </tr>\n",
       "    <tr>\n",
       "      <td>22</td>\n",
       "      <td>V23</td>\n",
       "      <td>0.182612</td>\n",
       "      <td>0.011325</td>\n",
       "      <td>0.488973</td>\n",
       "      <td>0.010153</td>\n",
       "      <td>0.000758</td>\n",
       "      <td>0.000000</td>\n",
       "    </tr>\n",
       "    <tr>\n",
       "      <td>23</td>\n",
       "      <td>V24</td>\n",
       "      <td>0.065009</td>\n",
       "      <td>0.004806</td>\n",
       "      <td>0.000000</td>\n",
       "      <td>0.008884</td>\n",
       "      <td>0.408251</td>\n",
       "      <td>0.000000</td>\n",
       "    </tr>\n",
       "    <tr>\n",
       "      <td>24</td>\n",
       "      <td>V13</td>\n",
       "      <td>0.043680</td>\n",
       "      <td>0.005080</td>\n",
       "      <td>-0.368210</td>\n",
       "      <td>0.008660</td>\n",
       "      <td>0.069996</td>\n",
       "      <td>0.000000</td>\n",
       "    </tr>\n",
       "    <tr>\n",
       "      <td>25</td>\n",
       "      <td>V25</td>\n",
       "      <td>0.038365</td>\n",
       "      <td>0.006758</td>\n",
       "      <td>0.452239</td>\n",
       "      <td>0.007744</td>\n",
       "      <td>0.031344</td>\n",
       "      <td>0.000000</td>\n",
       "    </tr>\n",
       "    <tr>\n",
       "      <td>26</td>\n",
       "      <td>V26</td>\n",
       "      <td>0.021094</td>\n",
       "      <td>0.006866</td>\n",
       "      <td>0.000000</td>\n",
       "      <td>0.008628</td>\n",
       "      <td>0.070148</td>\n",
       "      <td>0.000000</td>\n",
       "    </tr>\n",
       "    <tr>\n",
       "      <td>27</td>\n",
       "      <td>V22</td>\n",
       "      <td>0.007019</td>\n",
       "      <td>0.006919</td>\n",
       "      <td>0.507339</td>\n",
       "      <td>0.008684</td>\n",
       "      <td>0.000753</td>\n",
       "      <td>0.000000</td>\n",
       "    </tr>\n",
       "    <tr>\n",
       "      <td>28</td>\n",
       "      <td>V15</td>\n",
       "      <td>0.006495</td>\n",
       "      <td>0.012663</td>\n",
       "      <td>0.000000</td>\n",
       "      <td>0.010801</td>\n",
       "      <td>0.005140</td>\n",
       "      <td>0.000000</td>\n",
       "    </tr>\n",
       "  </tbody>\n",
       "</table>\n",
       "</div>"
      ],
      "text/plain": [
       "   Variable_Name  Information_Value  Random_Forest  \\\n",
       "0            V11           4.714481       0.050539   \n",
       "1            V12           4.380598       0.065307   \n",
       "2            V10           3.735998       0.151407   \n",
       "3             V3           3.590025       0.059815   \n",
       "4            V16           3.126913       0.062936   \n",
       "5             V4           3.019944       0.110650   \n",
       "6             V7           2.422783       0.036327   \n",
       "7             V2           2.116494       0.009247   \n",
       "8             V9           1.632548       0.012014   \n",
       "9            V18           1.467134       0.007131   \n",
       "10           V21           1.339076       0.018300   \n",
       "11           V14           1.239317       0.168483   \n",
       "12            V6           1.224701       0.010164   \n",
       "13           V27           1.136496       0.011020   \n",
       "14            V1           1.120163       0.006317   \n",
       "15            V5           0.853477       0.009867   \n",
       "16           V28           0.775569       0.007838   \n",
       "17           V17           0.736656       0.102070   \n",
       "18           V19           0.729314       0.014518   \n",
       "19           V20           0.643139       0.012380   \n",
       "20            V8           0.594239       0.009506   \n",
       "21        Amount           0.370282       0.009748   \n",
       "22           V23           0.182612       0.011325   \n",
       "23           V24           0.065009       0.004806   \n",
       "24           V13           0.043680       0.005080   \n",
       "25           V25           0.038365       0.006758   \n",
       "26           V26           0.021094       0.006866   \n",
       "27           V22           0.007019       0.006919   \n",
       "28           V15           0.006495       0.012663   \n",
       "\n",
       "    Recursive_Feature_Elimination  Extra_Trees  Chi_Square     L_One  \n",
       "0                        0.480636     0.070904   36.764009  0.020609  \n",
       "1                       -0.520700     0.096319   20.459661 -0.082264  \n",
       "2                       -0.322109     0.052467    7.280160 -0.016287  \n",
       "3                        0.000000     0.067398    8.637917 -0.024939  \n",
       "4                        0.000000     0.056640   14.017791  0.000000  \n",
       "5                        0.798333     0.088501   33.012025  0.097215  \n",
       "6                        0.000000     0.028896    2.323771  0.000000  \n",
       "7                        0.000000     0.020051    1.645632  0.000000  \n",
       "8                        0.000000     0.033705    4.815534  0.000000  \n",
       "9                       -0.510230     0.032212    8.039469  0.000000  \n",
       "10                       0.000000     0.013825    0.089441  0.000000  \n",
       "11                      -0.744062     0.131029   22.941650 -0.176002  \n",
       "12                      -0.352452     0.021176    4.570452  0.000000  \n",
       "13                       0.361081     0.028031    0.064529  0.000000  \n",
       "14                       0.000000     0.023570    3.906461  0.000000  \n",
       "15                       0.000000     0.015071    2.716813  0.000000  \n",
       "16                       1.040202     0.014842    0.182671  0.000000  \n",
       "17                       0.000000     0.084478   10.956303 -0.006020  \n",
       "18                       0.000000     0.019437    3.579117  0.000000  \n",
       "19                       0.000000     0.015803    0.281993  0.000000  \n",
       "20                      -0.419028     0.012827    0.016892  0.000000  \n",
       "21                       0.000000     0.009265    0.028255 -0.000036  \n",
       "22                       0.488973     0.010153    0.000758  0.000000  \n",
       "23                       0.000000     0.008884    0.408251  0.000000  \n",
       "24                      -0.368210     0.008660    0.069996  0.000000  \n",
       "25                       0.452239     0.007744    0.031344  0.000000  \n",
       "26                       0.000000     0.008628    0.070148  0.000000  \n",
       "27                       0.507339     0.008684    0.000753  0.000000  \n",
       "28                       0.000000     0.010801    0.005140  0.000000  "
      ]
     },
     "execution_count": 36,
     "metadata": {},
     "output_type": "execute_result"
    }
   ],
   "source": [
    "clf.feature_importances_"
   ]
  },
  {
   "cell_type": "code",
   "execution_count": 37,
   "metadata": {},
   "outputs": [
    {
     "data": {
      "text/html": [
       "<div>\n",
       "<style scoped>\n",
       "    .dataframe tbody tr th:only-of-type {\n",
       "        vertical-align: middle;\n",
       "    }\n",
       "\n",
       "    .dataframe tbody tr th {\n",
       "        vertical-align: top;\n",
       "    }\n",
       "\n",
       "    .dataframe thead th {\n",
       "        text-align: right;\n",
       "    }\n",
       "</style>\n",
       "<table border=\"1\" class=\"dataframe\">\n",
       "  <thead>\n",
       "    <tr style=\"text-align: right;\">\n",
       "      <th></th>\n",
       "      <th>Variable_Name</th>\n",
       "      <th>Information_Value</th>\n",
       "      <th>Random_Forest</th>\n",
       "      <th>Recursive_Feature_Elimination</th>\n",
       "      <th>Extra_Trees</th>\n",
       "      <th>Chi_Square</th>\n",
       "      <th>L_One</th>\n",
       "      <th>Votes</th>\n",
       "    </tr>\n",
       "  </thead>\n",
       "  <tbody>\n",
       "    <tr>\n",
       "      <td>0</td>\n",
       "      <td>V11</td>\n",
       "      <td>1</td>\n",
       "      <td>1</td>\n",
       "      <td>1</td>\n",
       "      <td>1</td>\n",
       "      <td>1</td>\n",
       "      <td>1</td>\n",
       "      <td>6</td>\n",
       "    </tr>\n",
       "    <tr>\n",
       "      <td>2</td>\n",
       "      <td>V10</td>\n",
       "      <td>1</td>\n",
       "      <td>1</td>\n",
       "      <td>1</td>\n",
       "      <td>1</td>\n",
       "      <td>1</td>\n",
       "      <td>1</td>\n",
       "      <td>6</td>\n",
       "    </tr>\n",
       "    <tr>\n",
       "      <td>5</td>\n",
       "      <td>V4</td>\n",
       "      <td>1</td>\n",
       "      <td>1</td>\n",
       "      <td>1</td>\n",
       "      <td>1</td>\n",
       "      <td>1</td>\n",
       "      <td>1</td>\n",
       "      <td>6</td>\n",
       "    </tr>\n",
       "    <tr>\n",
       "      <td>11</td>\n",
       "      <td>V14</td>\n",
       "      <td>1</td>\n",
       "      <td>1</td>\n",
       "      <td>1</td>\n",
       "      <td>1</td>\n",
       "      <td>1</td>\n",
       "      <td>1</td>\n",
       "      <td>6</td>\n",
       "    </tr>\n",
       "    <tr>\n",
       "      <td>1</td>\n",
       "      <td>V12</td>\n",
       "      <td>1</td>\n",
       "      <td>1</td>\n",
       "      <td>1</td>\n",
       "      <td>1</td>\n",
       "      <td>1</td>\n",
       "      <td>1</td>\n",
       "      <td>6</td>\n",
       "    </tr>\n",
       "    <tr>\n",
       "      <td>3</td>\n",
       "      <td>V3</td>\n",
       "      <td>1</td>\n",
       "      <td>1</td>\n",
       "      <td>0</td>\n",
       "      <td>1</td>\n",
       "      <td>1</td>\n",
       "      <td>1</td>\n",
       "      <td>5</td>\n",
       "    </tr>\n",
       "    <tr>\n",
       "      <td>4</td>\n",
       "      <td>V16</td>\n",
       "      <td>1</td>\n",
       "      <td>1</td>\n",
       "      <td>0</td>\n",
       "      <td>1</td>\n",
       "      <td>1</td>\n",
       "      <td>1</td>\n",
       "      <td>5</td>\n",
       "    </tr>\n",
       "    <tr>\n",
       "      <td>8</td>\n",
       "      <td>V9</td>\n",
       "      <td>1</td>\n",
       "      <td>1</td>\n",
       "      <td>0</td>\n",
       "      <td>1</td>\n",
       "      <td>1</td>\n",
       "      <td>1</td>\n",
       "      <td>5</td>\n",
       "    </tr>\n",
       "    <tr>\n",
       "      <td>9</td>\n",
       "      <td>V18</td>\n",
       "      <td>1</td>\n",
       "      <td>0</td>\n",
       "      <td>1</td>\n",
       "      <td>1</td>\n",
       "      <td>1</td>\n",
       "      <td>1</td>\n",
       "      <td>5</td>\n",
       "    </tr>\n",
       "    <tr>\n",
       "      <td>17</td>\n",
       "      <td>V17</td>\n",
       "      <td>0</td>\n",
       "      <td>1</td>\n",
       "      <td>0</td>\n",
       "      <td>1</td>\n",
       "      <td>1</td>\n",
       "      <td>1</td>\n",
       "      <td>4</td>\n",
       "    </tr>\n",
       "    <tr>\n",
       "      <td>6</td>\n",
       "      <td>V7</td>\n",
       "      <td>1</td>\n",
       "      <td>1</td>\n",
       "      <td>0</td>\n",
       "      <td>1</td>\n",
       "      <td>0</td>\n",
       "      <td>1</td>\n",
       "      <td>4</td>\n",
       "    </tr>\n",
       "    <tr>\n",
       "      <td>12</td>\n",
       "      <td>V6</td>\n",
       "      <td>1</td>\n",
       "      <td>0</td>\n",
       "      <td>1</td>\n",
       "      <td>1</td>\n",
       "      <td>1</td>\n",
       "      <td>0</td>\n",
       "      <td>4</td>\n",
       "    </tr>\n",
       "    <tr>\n",
       "      <td>10</td>\n",
       "      <td>V21</td>\n",
       "      <td>1</td>\n",
       "      <td>1</td>\n",
       "      <td>0</td>\n",
       "      <td>0</td>\n",
       "      <td>0</td>\n",
       "      <td>1</td>\n",
       "      <td>3</td>\n",
       "    </tr>\n",
       "    <tr>\n",
       "      <td>13</td>\n",
       "      <td>V27</td>\n",
       "      <td>1</td>\n",
       "      <td>0</td>\n",
       "      <td>1</td>\n",
       "      <td>1</td>\n",
       "      <td>0</td>\n",
       "      <td>0</td>\n",
       "      <td>3</td>\n",
       "    </tr>\n",
       "    <tr>\n",
       "      <td>18</td>\n",
       "      <td>V19</td>\n",
       "      <td>0</td>\n",
       "      <td>1</td>\n",
       "      <td>0</td>\n",
       "      <td>0</td>\n",
       "      <td>1</td>\n",
       "      <td>0</td>\n",
       "      <td>2</td>\n",
       "    </tr>\n",
       "    <tr>\n",
       "      <td>14</td>\n",
       "      <td>V1</td>\n",
       "      <td>0</td>\n",
       "      <td>0</td>\n",
       "      <td>0</td>\n",
       "      <td>1</td>\n",
       "      <td>1</td>\n",
       "      <td>0</td>\n",
       "      <td>2</td>\n",
       "    </tr>\n",
       "    <tr>\n",
       "      <td>7</td>\n",
       "      <td>V2</td>\n",
       "      <td>1</td>\n",
       "      <td>0</td>\n",
       "      <td>0</td>\n",
       "      <td>0</td>\n",
       "      <td>0</td>\n",
       "      <td>1</td>\n",
       "      <td>2</td>\n",
       "    </tr>\n",
       "    <tr>\n",
       "      <td>16</td>\n",
       "      <td>V28</td>\n",
       "      <td>0</td>\n",
       "      <td>0</td>\n",
       "      <td>1</td>\n",
       "      <td>0</td>\n",
       "      <td>0</td>\n",
       "      <td>0</td>\n",
       "      <td>1</td>\n",
       "    </tr>\n",
       "    <tr>\n",
       "      <td>15</td>\n",
       "      <td>V5</td>\n",
       "      <td>0</td>\n",
       "      <td>0</td>\n",
       "      <td>0</td>\n",
       "      <td>0</td>\n",
       "      <td>1</td>\n",
       "      <td>0</td>\n",
       "      <td>1</td>\n",
       "    </tr>\n",
       "    <tr>\n",
       "      <td>19</td>\n",
       "      <td>V20</td>\n",
       "      <td>0</td>\n",
       "      <td>1</td>\n",
       "      <td>0</td>\n",
       "      <td>0</td>\n",
       "      <td>0</td>\n",
       "      <td>0</td>\n",
       "      <td>1</td>\n",
       "    </tr>\n",
       "    <tr>\n",
       "      <td>20</td>\n",
       "      <td>V8</td>\n",
       "      <td>0</td>\n",
       "      <td>0</td>\n",
       "      <td>1</td>\n",
       "      <td>0</td>\n",
       "      <td>0</td>\n",
       "      <td>0</td>\n",
       "      <td>1</td>\n",
       "    </tr>\n",
       "    <tr>\n",
       "      <td>21</td>\n",
       "      <td>Amount</td>\n",
       "      <td>0</td>\n",
       "      <td>0</td>\n",
       "      <td>0</td>\n",
       "      <td>0</td>\n",
       "      <td>0</td>\n",
       "      <td>1</td>\n",
       "      <td>1</td>\n",
       "    </tr>\n",
       "    <tr>\n",
       "      <td>22</td>\n",
       "      <td>V23</td>\n",
       "      <td>0</td>\n",
       "      <td>0</td>\n",
       "      <td>1</td>\n",
       "      <td>0</td>\n",
       "      <td>0</td>\n",
       "      <td>0</td>\n",
       "      <td>1</td>\n",
       "    </tr>\n",
       "    <tr>\n",
       "      <td>24</td>\n",
       "      <td>V13</td>\n",
       "      <td>0</td>\n",
       "      <td>0</td>\n",
       "      <td>1</td>\n",
       "      <td>0</td>\n",
       "      <td>0</td>\n",
       "      <td>0</td>\n",
       "      <td>1</td>\n",
       "    </tr>\n",
       "    <tr>\n",
       "      <td>25</td>\n",
       "      <td>V25</td>\n",
       "      <td>0</td>\n",
       "      <td>0</td>\n",
       "      <td>1</td>\n",
       "      <td>0</td>\n",
       "      <td>0</td>\n",
       "      <td>0</td>\n",
       "      <td>1</td>\n",
       "    </tr>\n",
       "    <tr>\n",
       "      <td>27</td>\n",
       "      <td>V22</td>\n",
       "      <td>0</td>\n",
       "      <td>0</td>\n",
       "      <td>1</td>\n",
       "      <td>0</td>\n",
       "      <td>0</td>\n",
       "      <td>0</td>\n",
       "      <td>1</td>\n",
       "    </tr>\n",
       "    <tr>\n",
       "      <td>28</td>\n",
       "      <td>V15</td>\n",
       "      <td>0</td>\n",
       "      <td>1</td>\n",
       "      <td>0</td>\n",
       "      <td>0</td>\n",
       "      <td>0</td>\n",
       "      <td>0</td>\n",
       "      <td>1</td>\n",
       "    </tr>\n",
       "    <tr>\n",
       "      <td>23</td>\n",
       "      <td>V24</td>\n",
       "      <td>0</td>\n",
       "      <td>0</td>\n",
       "      <td>0</td>\n",
       "      <td>0</td>\n",
       "      <td>0</td>\n",
       "      <td>0</td>\n",
       "      <td>0</td>\n",
       "    </tr>\n",
       "    <tr>\n",
       "      <td>26</td>\n",
       "      <td>V26</td>\n",
       "      <td>0</td>\n",
       "      <td>0</td>\n",
       "      <td>0</td>\n",
       "      <td>0</td>\n",
       "      <td>0</td>\n",
       "      <td>0</td>\n",
       "      <td>0</td>\n",
       "    </tr>\n",
       "  </tbody>\n",
       "</table>\n",
       "</div>"
      ],
      "text/plain": [
       "   Variable_Name  Information_Value  Random_Forest  \\\n",
       "0            V11                  1              1   \n",
       "2            V10                  1              1   \n",
       "5             V4                  1              1   \n",
       "11           V14                  1              1   \n",
       "1            V12                  1              1   \n",
       "3             V3                  1              1   \n",
       "4            V16                  1              1   \n",
       "8             V9                  1              1   \n",
       "9            V18                  1              0   \n",
       "17           V17                  0              1   \n",
       "6             V7                  1              1   \n",
       "12            V6                  1              0   \n",
       "10           V21                  1              1   \n",
       "13           V27                  1              0   \n",
       "18           V19                  0              1   \n",
       "14            V1                  0              0   \n",
       "7             V2                  1              0   \n",
       "16           V28                  0              0   \n",
       "15            V5                  0              0   \n",
       "19           V20                  0              1   \n",
       "20            V8                  0              0   \n",
       "21        Amount                  0              0   \n",
       "22           V23                  0              0   \n",
       "24           V13                  0              0   \n",
       "25           V25                  0              0   \n",
       "27           V22                  0              0   \n",
       "28           V15                  0              1   \n",
       "23           V24                  0              0   \n",
       "26           V26                  0              0   \n",
       "\n",
       "    Recursive_Feature_Elimination  Extra_Trees  Chi_Square  L_One  Votes  \n",
       "0                               1            1           1      1      6  \n",
       "2                               1            1           1      1      6  \n",
       "5                               1            1           1      1      6  \n",
       "11                              1            1           1      1      6  \n",
       "1                               1            1           1      1      6  \n",
       "3                               0            1           1      1      5  \n",
       "4                               0            1           1      1      5  \n",
       "8                               0            1           1      1      5  \n",
       "9                               1            1           1      1      5  \n",
       "17                              0            1           1      1      4  \n",
       "6                               0            1           0      1      4  \n",
       "12                              1            1           1      0      4  \n",
       "10                              0            0           0      1      3  \n",
       "13                              1            1           0      0      3  \n",
       "18                              0            0           1      0      2  \n",
       "14                              0            1           1      0      2  \n",
       "7                               0            0           0      1      2  \n",
       "16                              1            0           0      0      1  \n",
       "15                              0            0           1      0      1  \n",
       "19                              0            0           0      0      1  \n",
       "20                              1            0           0      0      1  \n",
       "21                              0            0           0      1      1  \n",
       "22                              1            0           0      0      1  \n",
       "24                              1            0           0      0      1  \n",
       "25                              1            0           0      0      1  \n",
       "27                              1            0           0      0      1  \n",
       "28                              0            0           0      0      1  \n",
       "23                              0            0           0      0      0  \n",
       "26                              0            0           0      0      0  "
      ]
     },
     "execution_count": 37,
     "metadata": {},
     "output_type": "execute_result"
    }
   ],
   "source": [
    "clf.feature_votes_"
   ]
  },
  {
   "cell_type": "code",
   "execution_count": 38,
   "metadata": {},
   "outputs": [
    {
     "name": "stdout",
     "output_type": "stream",
     "text": [
      "0     V11\n",
      "2     V10\n",
      "5      V4\n",
      "11    V14\n",
      "1     V12\n",
      "3      V3\n",
      "4     V16\n",
      "8      V9\n",
      "9     V18\n",
      "17    V17\n",
      "6      V7\n",
      "12     V6\n",
      "10    V21\n",
      "13    V27\n",
      "18    V19\n",
      "14     V1\n",
      "7      V2\n",
      "Name: Variable_Name, dtype: object\n"
     ]
    }
   ],
   "source": [
    "vars_selected_balanced = clf.feature_votes_[clf.feature_votes_['Votes'] >= 2]['Variable_Name']\n",
    "print(vars_selected_balanced)"
   ]
  },
  {
   "cell_type": "markdown",
   "metadata": {},
   "source": [
    "## 3.5 Final Selected features"
   ]
  },
  {
   "cell_type": "markdown",
   "metadata": {},
   "source": [
    "We have selected a handful of features from Unbalanced and balanced data. So let us combine and see how much is the overlap."
   ]
  },
  {
   "cell_type": "code",
   "execution_count": 39,
   "metadata": {},
   "outputs": [],
   "source": [
    "selected_vars = list(set(vars_selected_balanced).intersection(set(vars_selected_unbalanced)))"
   ]
  },
  {
   "cell_type": "code",
   "execution_count": 40,
   "metadata": {},
   "outputs": [
    {
     "data": {
      "text/plain": [
       "['V11',\n",
       " 'V12',\n",
       " 'V3',\n",
       " 'V19',\n",
       " 'V7',\n",
       " 'V14',\n",
       " 'V1',\n",
       " 'V4',\n",
       " 'V21',\n",
       " 'V2',\n",
       " 'V18',\n",
       " 'V16',\n",
       " 'V17',\n",
       " 'V9',\n",
       " 'V10']"
      ]
     },
     "execution_count": 40,
     "metadata": {},
     "output_type": "execute_result"
    }
   ],
   "source": [
    "selected_vars"
   ]
  },
  {
   "cell_type": "code",
   "execution_count": 41,
   "metadata": {},
   "outputs": [
    {
     "data": {
      "text/plain": [
       "15"
      ]
     },
     "execution_count": 41,
     "metadata": {},
     "output_type": "execute_result"
    }
   ],
   "source": [
    "len(selected_vars)"
   ]
  },
  {
   "cell_type": "markdown",
   "metadata": {},
   "source": [
    "# 4. Modeling process - Build models"
   ]
  },
  {
   "cell_type": "code",
   "execution_count": 26,
   "metadata": {},
   "outputs": [],
   "source": [
    "X_train = X_train[selected_vars] #select the variables from variable selection proces\n",
    "X_test = X_test[selected_vars]"
   ]
  },
  {
   "cell_type": "markdown",
   "metadata": {},
   "source": [
    "## Visualize the 2 d plot"
   ]
  },
  {
   "cell_type": "code",
   "execution_count": 43,
   "metadata": {},
   "outputs": [],
   "source": [
    "from sklearn.decomposition import PCA\n",
    "\n",
    "pca = PCA(n_components=2)\n",
    "X = pca.fit_transform(X_train)"
   ]
  },
  {
   "cell_type": "code",
   "execution_count": 44,
   "metadata": {},
   "outputs": [],
   "source": [
    "pca_X = pd.DataFrame(X, columns=['X1', 'X2'])\n",
    "pca_X['Labels'] = y_train"
   ]
  },
  {
   "cell_type": "code",
   "execution_count": 45,
   "metadata": {},
   "outputs": [
    {
     "data": {
      "text/plain": [
       "<matplotlib.collections.PathCollection at 0x126034690>"
      ]
     },
     "execution_count": 45,
     "metadata": {},
     "output_type": "execute_result"
    },
    {
     "data": {
      "image/png": "[encoded data removed]",
      "text/plain": [
       "<Figure size 432x288 with 1 Axes>"
      ]
     },
     "metadata": {},
     "output_type": "display_data"
    }
   ],
   "source": [
    "plt.scatter(pca_X['X1'], pca_X['X2'], c=pca_X['Labels'])"
   ]
  },
  {
   "cell_type": "markdown",
   "metadata": {},
   "source": [
    "We will try the following techniques, but the model will always be constant (Random Forest model).  \n",
    "  \n",
    "1. Unbalanced data - Baseline model  \n",
    "2. Balanced data - Equal sampling  \n",
    "3. Oversampled data - Resampled data for 1's and same 0's  \n",
    "4. Bayesian Hyperparameter optimization \n",
    "5. SMOTE analysis  \n",
    "6. ADASYN analysis  \n",
    "7. Outlier detection  \n",
    "  \n",
    "These techniques that are described above are industry standard techniques. We will build models and evaluate final metrics and get an idea of what is happening. Finally, I want to show a concept work I have done in this area. Using a deep learning methodology for __data augmentation GAN's__, we will see how to tackle imbalanced classification exercise.  "
   ]
  },
  {
   "cell_type": "markdown",
   "metadata": {},
   "source": [
    "## 4.0 Model builing and evaluation functions"
   ]
  },
  {
   "cell_type": "code",
   "execution_count": 27,
   "metadata": {},
   "outputs": [],
   "source": [
    "from sklearn.metrics import accuracy_score, roc_curve, auc, classification_report, confusion_matrix\n",
    "from sklearn.ensemble import RandomForestClassifier"
   ]
  },
  {
   "cell_type": "code",
   "execution_count": 28,
   "metadata": {},
   "outputs": [],
   "source": [
    "def build_model(X, y):\n",
    "\n",
    "    clf = RandomForestClassifier()\n",
    "    clf.fit(X, y)\n",
    "    return clf"
   ]
  },
  {
   "cell_type": "code",
   "execution_count": 29,
   "metadata": {},
   "outputs": [],
   "source": [
    "def evaluate_model(clf, X, y):\n",
    "    \n",
    "    pred = clf.predict(X) #predicted classes\n",
    "    accuracy = accuracy_score(pred,y) # calculate accuracy\n",
    "    fpr, tpr, _ = roc_curve(y, clf.predict_proba(X)[:,1]) # roc_curve\n",
    "    auc_value = auc(fpr,tpr) # auc_value\n",
    "    report = classification_report(y, pred, labels=[0,1], output_dict=True)\n",
    "    report_df = pd.DataFrame(report).transpose()\n",
    "    report_df = report_df.reset_index()\n",
    "    model_eval  = report_df[report_df['index'].str.contains('1')][['precision','recall','f1-score']]\n",
    "    model_eval['accuracy']  = list(report_df[report_df['index'].str.contains('accuracy')]['support'])\n",
    "    model_eval['ROC']  = auc_value\n",
    "    cf_matrix = confusion_matrix(y, pred)\n",
    "    \n",
    "    return model_eval, cf_matrix"
   ]
  },
  {
   "cell_type": "code",
   "execution_count": 30,
   "metadata": {},
   "outputs": [],
   "source": [
    "def model_eval_data(clf, X_train, y_train, \n",
    "                         X_test, y_test, \n",
    "                         model_eval_train, \n",
    "                         model_eval_test,\n",
    "                         Name=None):\n",
    "    \n",
    "    temp_eval_train, cf_matrix_train = evaluate_model(clf, X_train, y_train)\n",
    "    temp_eval_test, cf_matrix_test = evaluate_model(clf, X_test, y_test)\n",
    "    temp_eval_train.index = [Name]\n",
    "    temp_eval_test.index = [Name]\n",
    "    \n",
    "    try:\n",
    "        model_eval_train = model_eval_train.append(temp_eval_train)\n",
    "        model_eval_test = model_eval_test.append(temp_eval_test)\n",
    "    except:\n",
    "        model_eval_train = temp_eval_train\n",
    "        model_eval_test = temp_eval_test\n",
    "    \n",
    "    return model_eval_train, model_eval_test, cf_matrix_train, cf_matrix_test"
   ]
  },
  {
   "cell_type": "code",
   "execution_count": 31,
   "metadata": {},
   "outputs": [],
   "source": [
    "def make_confusion_matrix_chart(cf_matrix_train, cf_matrix_test):\n",
    "    \n",
    "    plt.figure(1, figsize=(10,5))\n",
    "\n",
    "    plt.subplot(121)\n",
    "    sns.heatmap(cf_matrix_train, annot=True, yticklabels=['Not Fraud', 'Fraud'], \n",
    "                                xticklabels=['Not Fraud', 'Fraud'], fmt='g')\n",
    "    plt.ylabel(\"Actual\")\n",
    "    plt.xlabel(\"Pred\")\n",
    "    plt.ylim([0,2])\n",
    "    plt.title('Train data')\n",
    "\n",
    "    plt.subplot(122)\n",
    "    sns.heatmap(cf_matrix_test, annot=True, yticklabels=['Not Fraud', 'Fraud'], \n",
    "                                xticklabels=['Not Fraud', 'Fraud'], fmt='g')\n",
    "    plt.ylabel(\"Actual\")\n",
    "    plt.xlabel(\"Pred\")\n",
    "    plt.ylim([0,2])\n",
    "    plt.tight_layout()\n",
    "    plt.title('Test data')\n",
    "\n",
    "    plt.tight_layout()\n",
    "    return None"
   ]
  },
  {
   "cell_type": "code",
   "execution_count": 96,
   "metadata": {},
   "outputs": [],
   "source": [
    "model_eval_train = pd.DataFrame({},[])\n",
    "model_eval_test = pd.DataFrame({},[])"
   ]
  },
  {
   "cell_type": "markdown",
   "metadata": {},
   "source": [
    "## 4.1 Unbalanced data - Baseline model"
   ]
  },
  {
   "cell_type": "code",
   "execution_count": 97,
   "metadata": {},
   "outputs": [],
   "source": [
    "clf = build_model(X_train, y_train)"
   ]
  },
  {
   "cell_type": "code",
   "execution_count": 98,
   "metadata": {},
   "outputs": [],
   "source": [
    "model_eval_train, model_eval_test, cf_matrix_train, cf_matrix_test = model_eval_data(clf, X_train, y_train, \n",
    "                                                         X_test, y_test, \n",
    "                                                         model_eval_train, \n",
    "                                                         model_eval_test,\n",
    "                                                         Name='Unbalanced data - Baseline model')"
   ]
  },
  {
   "cell_type": "code",
   "execution_count": 99,
   "metadata": {},
   "outputs": [
    {
     "data": {
      "text/html": [
       "<div>\n",
       "<style scoped>\n",
       "    .dataframe tbody tr th:only-of-type {\n",
       "        vertical-align: middle;\n",
       "    }\n",
       "\n",
       "    .dataframe tbody tr th {\n",
       "        vertical-align: top;\n",
       "    }\n",
       "\n",
       "    .dataframe thead th {\n",
       "        text-align: right;\n",
       "    }\n",
       "</style>\n",
       "<table border=\"1\" class=\"dataframe\">\n",
       "  <thead>\n",
       "    <tr style=\"text-align: right;\">\n",
       "      <th></th>\n",
       "      <th>precision</th>\n",
       "      <th>recall</th>\n",
       "      <th>f1-score</th>\n",
       "      <th>accuracy</th>\n",
       "      <th>ROC</th>\n",
       "    </tr>\n",
       "  </thead>\n",
       "  <tbody>\n",
       "    <tr>\n",
       "      <td>Unbalanced data - Baseline model</td>\n",
       "      <td>1.0</td>\n",
       "      <td>0.994302</td>\n",
       "      <td>0.997143</td>\n",
       "      <td>0.99999</td>\n",
       "      <td>1.0</td>\n",
       "    </tr>\n",
       "  </tbody>\n",
       "</table>\n",
       "</div>"
      ],
      "text/plain": [
       "                                  precision    recall  f1-score  accuracy  ROC\n",
       "Unbalanced data - Baseline model        1.0  0.994302  0.997143   0.99999  1.0"
      ]
     },
     "execution_count": 99,
     "metadata": {},
     "output_type": "execute_result"
    }
   ],
   "source": [
    "model_eval_train"
   ]
  },
  {
   "cell_type": "code",
   "execution_count": 100,
   "metadata": {},
   "outputs": [
    {
     "data": {
      "text/html": [
       "<div>\n",
       "<style scoped>\n",
       "    .dataframe tbody tr th:only-of-type {\n",
       "        vertical-align: middle;\n",
       "    }\n",
       "\n",
       "    .dataframe tbody tr th {\n",
       "        vertical-align: top;\n",
       "    }\n",
       "\n",
       "    .dataframe thead th {\n",
       "        text-align: right;\n",
       "    }\n",
       "</style>\n",
       "<table border=\"1\" class=\"dataframe\">\n",
       "  <thead>\n",
       "    <tr style=\"text-align: right;\">\n",
       "      <th></th>\n",
       "      <th>precision</th>\n",
       "      <th>recall</th>\n",
       "      <th>f1-score</th>\n",
       "      <th>accuracy</th>\n",
       "      <th>ROC</th>\n",
       "    </tr>\n",
       "  </thead>\n",
       "  <tbody>\n",
       "    <tr>\n",
       "      <td>Unbalanced data - Baseline model</td>\n",
       "      <td>0.876033</td>\n",
       "      <td>0.751773</td>\n",
       "      <td>0.80916</td>\n",
       "      <td>0.999415</td>\n",
       "      <td>0.952141</td>\n",
       "    </tr>\n",
       "  </tbody>\n",
       "</table>\n",
       "</div>"
      ],
      "text/plain": [
       "                                  precision    recall  f1-score  accuracy  \\\n",
       "Unbalanced data - Baseline model   0.876033  0.751773   0.80916  0.999415   \n",
       "\n",
       "                                       ROC  \n",
       "Unbalanced data - Baseline model  0.952141  "
      ]
     },
     "execution_count": 100,
     "metadata": {},
     "output_type": "execute_result"
    }
   ],
   "source": [
    "model_eval_test"
   ]
  },
  {
   "cell_type": "markdown",
   "metadata": {},
   "source": [
    "### 4.1.1 Final conclusion"
   ]
  },
  {
   "cell_type": "code",
   "execution_count": 101,
   "metadata": {},
   "outputs": [
    {
     "data": {
      "image/png": "[encoded data removed]",
      "text/plain": [
       "<Figure size 720x360 with 4 Axes>"
      ]
     },
     "metadata": {},
     "output_type": "display_data"
    }
   ],
   "source": [
    "make_confusion_matrix_chart(cf_matrix_train, cf_matrix_test)"
   ]
  },
  {
   "cell_type": "markdown",
   "metadata": {},
   "source": [
    "The model is performing well on the training data, but underperforms on the test data. This is an typical example of overfitting."
   ]
  },
  {
   "cell_type": "markdown",
   "metadata": {},
   "source": [
    "## 4.2 Balanced data - Equal sampling"
   ]
  },
  {
   "cell_type": "markdown",
   "metadata": {},
   "source": [
    "I am going to use the datasets created in step 3.4 (new_X, new_y)"
   ]
  },
  {
   "cell_type": "code",
   "execution_count": 102,
   "metadata": {},
   "outputs": [],
   "source": [
    "new_X = new_X[selected_vars]"
   ]
  },
  {
   "cell_type": "code",
   "execution_count": 103,
   "metadata": {},
   "outputs": [],
   "source": [
    "clf = build_model(new_X, new_y)\n",
    "balanced_data_eval, _ = evaluate_model(clf, new_X, new_y)"
   ]
  },
  {
   "cell_type": "code",
   "execution_count": 104,
   "metadata": {},
   "outputs": [
    {
     "data": {
      "text/html": [
       "<div>\n",
       "<style scoped>\n",
       "    .dataframe tbody tr th:only-of-type {\n",
       "        vertical-align: middle;\n",
       "    }\n",
       "\n",
       "    .dataframe tbody tr th {\n",
       "        vertical-align: top;\n",
       "    }\n",
       "\n",
       "    .dataframe thead th {\n",
       "        text-align: right;\n",
       "    }\n",
       "</style>\n",
       "<table border=\"1\" class=\"dataframe\">\n",
       "  <thead>\n",
       "    <tr style=\"text-align: right;\">\n",
       "      <th></th>\n",
       "      <th>precision</th>\n",
       "      <th>recall</th>\n",
       "      <th>f1-score</th>\n",
       "      <th>accuracy</th>\n",
       "      <th>ROC</th>\n",
       "    </tr>\n",
       "  </thead>\n",
       "  <tbody>\n",
       "    <tr>\n",
       "      <td>1</td>\n",
       "      <td>1.0</td>\n",
       "      <td>1.0</td>\n",
       "      <td>1.0</td>\n",
       "      <td>1.0</td>\n",
       "      <td>1.0</td>\n",
       "    </tr>\n",
       "  </tbody>\n",
       "</table>\n",
       "</div>"
      ],
      "text/plain": [
       "   precision  recall  f1-score  accuracy  ROC\n",
       "1        1.0     1.0       1.0       1.0  1.0"
      ]
     },
     "execution_count": 104,
     "metadata": {},
     "output_type": "execute_result"
    }
   ],
   "source": [
    "balanced_data_eval"
   ]
  },
  {
   "cell_type": "code",
   "execution_count": 105,
   "metadata": {},
   "outputs": [],
   "source": [
    "model_eval_train, model_eval_test, cf_matrix_train, cf_matrix_test = model_eval_data(clf, X_train, y_train, \n",
    "                                                         X_test, y_test, \n",
    "                                                         model_eval_train, \n",
    "                                                         model_eval_test,\n",
    "                                                         Name='Balanced data')"
   ]
  },
  {
   "cell_type": "code",
   "execution_count": 106,
   "metadata": {},
   "outputs": [
    {
     "data": {
      "text/html": [
       "<div>\n",
       "<style scoped>\n",
       "    .dataframe tbody tr th:only-of-type {\n",
       "        vertical-align: middle;\n",
       "    }\n",
       "\n",
       "    .dataframe tbody tr th {\n",
       "        vertical-align: top;\n",
       "    }\n",
       "\n",
       "    .dataframe thead th {\n",
       "        text-align: right;\n",
       "    }\n",
       "</style>\n",
       "<table border=\"1\" class=\"dataframe\">\n",
       "  <thead>\n",
       "    <tr style=\"text-align: right;\">\n",
       "      <th></th>\n",
       "      <th>precision</th>\n",
       "      <th>recall</th>\n",
       "      <th>f1-score</th>\n",
       "      <th>accuracy</th>\n",
       "      <th>ROC</th>\n",
       "    </tr>\n",
       "  </thead>\n",
       "  <tbody>\n",
       "    <tr>\n",
       "      <td>Unbalanced data - Baseline model</td>\n",
       "      <td>1.000000</td>\n",
       "      <td>0.994302</td>\n",
       "      <td>0.997143</td>\n",
       "      <td>0.999990</td>\n",
       "      <td>1.000000</td>\n",
       "    </tr>\n",
       "    <tr>\n",
       "      <td>Balanced data</td>\n",
       "      <td>0.050121</td>\n",
       "      <td>1.000000</td>\n",
       "      <td>0.095458</td>\n",
       "      <td>0.966634</td>\n",
       "      <td>0.999341</td>\n",
       "    </tr>\n",
       "  </tbody>\n",
       "</table>\n",
       "</div>"
      ],
      "text/plain": [
       "                                  precision    recall  f1-score  accuracy  \\\n",
       "Unbalanced data - Baseline model   1.000000  0.994302  0.997143  0.999990   \n",
       "Balanced data                      0.050121  1.000000  0.095458  0.966634   \n",
       "\n",
       "                                       ROC  \n",
       "Unbalanced data - Baseline model  1.000000  \n",
       "Balanced data                     0.999341  "
      ]
     },
     "execution_count": 106,
     "metadata": {},
     "output_type": "execute_result"
    }
   ],
   "source": [
    "model_eval_train"
   ]
  },
  {
   "cell_type": "code",
   "execution_count": 107,
   "metadata": {},
   "outputs": [
    {
     "data": {
      "text/html": [
       "<div>\n",
       "<style scoped>\n",
       "    .dataframe tbody tr th:only-of-type {\n",
       "        vertical-align: middle;\n",
       "    }\n",
       "\n",
       "    .dataframe tbody tr th {\n",
       "        vertical-align: top;\n",
       "    }\n",
       "\n",
       "    .dataframe thead th {\n",
       "        text-align: right;\n",
       "    }\n",
       "</style>\n",
       "<table border=\"1\" class=\"dataframe\">\n",
       "  <thead>\n",
       "    <tr style=\"text-align: right;\">\n",
       "      <th></th>\n",
       "      <th>precision</th>\n",
       "      <th>recall</th>\n",
       "      <th>f1-score</th>\n",
       "      <th>accuracy</th>\n",
       "      <th>ROC</th>\n",
       "    </tr>\n",
       "  </thead>\n",
       "  <tbody>\n",
       "    <tr>\n",
       "      <td>Unbalanced data - Baseline model</td>\n",
       "      <td>0.876033</td>\n",
       "      <td>0.751773</td>\n",
       "      <td>0.809160</td>\n",
       "      <td>0.999415</td>\n",
       "      <td>0.952141</td>\n",
       "    </tr>\n",
       "    <tr>\n",
       "      <td>Balanced data</td>\n",
       "      <td>0.041506</td>\n",
       "      <td>0.914894</td>\n",
       "      <td>0.079409</td>\n",
       "      <td>0.964994</td>\n",
       "      <td>0.972067</td>\n",
       "    </tr>\n",
       "  </tbody>\n",
       "</table>\n",
       "</div>"
      ],
      "text/plain": [
       "                                  precision    recall  f1-score  accuracy  \\\n",
       "Unbalanced data - Baseline model   0.876033  0.751773  0.809160  0.999415   \n",
       "Balanced data                      0.041506  0.914894  0.079409  0.964994   \n",
       "\n",
       "                                       ROC  \n",
       "Unbalanced data - Baseline model  0.952141  \n",
       "Balanced data                     0.972067  "
      ]
     },
     "execution_count": 107,
     "metadata": {},
     "output_type": "execute_result"
    }
   ],
   "source": [
    "model_eval_test"
   ]
  },
  {
   "cell_type": "markdown",
   "metadata": {},
   "source": [
    "### 4.2.1 Final conclusion"
   ]
  },
  {
   "cell_type": "code",
   "execution_count": 108,
   "metadata": {},
   "outputs": [
    {
     "data": {
      "image/png": "[encoded data removed]",
      "text/plain": [
       "<Figure size 720x360 with 4 Axes>"
      ]
     },
     "metadata": {},
     "output_type": "display_data"
    }
   ],
   "source": [
    "make_confusion_matrix_chart(cf_matrix_train, cf_matrix_test)"
   ]
  },
  {
   "cell_type": "markdown",
   "metadata": {},
   "source": [
    "This model produces a lot of false positives. That is why, we see a low precision  and f1-score in the output. "
   ]
  },
  {
   "cell_type": "markdown",
   "metadata": {},
   "source": [
    "## 4.3 Oversampled data - Resampled data for 1's and same 0's"
   ]
  },
  {
   "cell_type": "code",
   "execution_count": 109,
   "metadata": {},
   "outputs": [],
   "source": [
    "from sklearn.utils import resample\n",
    "\n",
    "df_zeros = df_train[df_train.Class == 0]\n",
    "df_ones = df_train[df_train.Class == 1]"
   ]
  },
  {
   "cell_type": "code",
   "execution_count": 110,
   "metadata": {},
   "outputs": [
    {
     "data": {
      "text/plain": [
       "199013"
      ]
     },
     "execution_count": 110,
     "metadata": {},
     "output_type": "execute_result"
    }
   ],
   "source": [
    "len(df_zeros)"
   ]
  },
  {
   "cell_type": "code",
   "execution_count": 111,
   "metadata": {},
   "outputs": [],
   "source": [
    "# Upsample minority class\n",
    "df_ones_upsampled = resample(df_ones, \n",
    "                            replace=True,     # sample with replacement\n",
    "                            n_samples=20000,  # change this number as we want\n",
    "                            random_state=42) # reproducible results"
   ]
  },
  {
   "cell_type": "code",
   "execution_count": 112,
   "metadata": {},
   "outputs": [],
   "source": [
    "df_upsampled = pd.concat([df_zeros, df_ones_upsampled])"
   ]
  },
  {
   "cell_type": "code",
   "execution_count": 113,
   "metadata": {},
   "outputs": [
    {
     "data": {
      "text/plain": [
       "0    199013\n",
       "1     20000\n",
       "Name: Class, dtype: int64"
      ]
     },
     "execution_count": 113,
     "metadata": {},
     "output_type": "execute_result"
    }
   ],
   "source": [
    "df_upsampled.Class.value_counts()"
   ]
  },
  {
   "cell_type": "code",
   "execution_count": 114,
   "metadata": {},
   "outputs": [],
   "source": [
    "X_upsampled, y_upsampled = splitXY(df_upsampled, 'Class')"
   ]
  },
  {
   "cell_type": "code",
   "execution_count": 115,
   "metadata": {},
   "outputs": [],
   "source": [
    "X_upsampled = X_upsampled[selected_vars]"
   ]
  },
  {
   "cell_type": "code",
   "execution_count": 116,
   "metadata": {},
   "outputs": [],
   "source": [
    "clf = build_model(X_upsampled, y_upsampled)\n",
    "upsampled_data_eval, _ = evaluate_model(clf, X_upsampled, y_upsampled)"
   ]
  },
  {
   "cell_type": "code",
   "execution_count": 117,
   "metadata": {},
   "outputs": [],
   "source": [
    "model_eval_train, model_eval_test, cf_matrix_train, cf_matrix_test = model_eval_data(clf, X_train, y_train, \n",
    "                                                         X_test, y_test, \n",
    "                                                         model_eval_train, \n",
    "                                                         model_eval_test,\n",
    "                                                         Name='Resampled data')"
   ]
  },
  {
   "cell_type": "code",
   "execution_count": 118,
   "metadata": {},
   "outputs": [
    {
     "data": {
      "text/html": [
       "<div>\n",
       "<style scoped>\n",
       "    .dataframe tbody tr th:only-of-type {\n",
       "        vertical-align: middle;\n",
       "    }\n",
       "\n",
       "    .dataframe tbody tr th {\n",
       "        vertical-align: top;\n",
       "    }\n",
       "\n",
       "    .dataframe thead th {\n",
       "        text-align: right;\n",
       "    }\n",
       "</style>\n",
       "<table border=\"1\" class=\"dataframe\">\n",
       "  <thead>\n",
       "    <tr style=\"text-align: right;\">\n",
       "      <th></th>\n",
       "      <th>precision</th>\n",
       "      <th>recall</th>\n",
       "      <th>f1-score</th>\n",
       "      <th>accuracy</th>\n",
       "      <th>ROC</th>\n",
       "    </tr>\n",
       "  </thead>\n",
       "  <tbody>\n",
       "    <tr>\n",
       "      <td>Unbalanced data - Baseline model</td>\n",
       "      <td>1.000000</td>\n",
       "      <td>0.994302</td>\n",
       "      <td>0.997143</td>\n",
       "      <td>0.999990</td>\n",
       "      <td>1.000000</td>\n",
       "    </tr>\n",
       "    <tr>\n",
       "      <td>Balanced data</td>\n",
       "      <td>0.050121</td>\n",
       "      <td>1.000000</td>\n",
       "      <td>0.095458</td>\n",
       "      <td>0.966634</td>\n",
       "      <td>0.999341</td>\n",
       "    </tr>\n",
       "    <tr>\n",
       "      <td>Resampled data</td>\n",
       "      <td>1.000000</td>\n",
       "      <td>1.000000</td>\n",
       "      <td>1.000000</td>\n",
       "      <td>1.000000</td>\n",
       "      <td>1.000000</td>\n",
       "    </tr>\n",
       "  </tbody>\n",
       "</table>\n",
       "</div>"
      ],
      "text/plain": [
       "                                  precision    recall  f1-score  accuracy  \\\n",
       "Unbalanced data - Baseline model   1.000000  0.994302  0.997143  0.999990   \n",
       "Balanced data                      0.050121  1.000000  0.095458  0.966634   \n",
       "Resampled data                     1.000000  1.000000  1.000000  1.000000   \n",
       "\n",
       "                                       ROC  \n",
       "Unbalanced data - Baseline model  1.000000  \n",
       "Balanced data                     0.999341  \n",
       "Resampled data                    1.000000  "
      ]
     },
     "execution_count": 118,
     "metadata": {},
     "output_type": "execute_result"
    }
   ],
   "source": [
    "model_eval_train"
   ]
  },
  {
   "cell_type": "code",
   "execution_count": 119,
   "metadata": {},
   "outputs": [
    {
     "data": {
      "text/html": [
       "<div>\n",
       "<style scoped>\n",
       "    .dataframe tbody tr th:only-of-type {\n",
       "        vertical-align: middle;\n",
       "    }\n",
       "\n",
       "    .dataframe tbody tr th {\n",
       "        vertical-align: top;\n",
       "    }\n",
       "\n",
       "    .dataframe thead th {\n",
       "        text-align: right;\n",
       "    }\n",
       "</style>\n",
       "<table border=\"1\" class=\"dataframe\">\n",
       "  <thead>\n",
       "    <tr style=\"text-align: right;\">\n",
       "      <th></th>\n",
       "      <th>precision</th>\n",
       "      <th>recall</th>\n",
       "      <th>f1-score</th>\n",
       "      <th>accuracy</th>\n",
       "      <th>ROC</th>\n",
       "    </tr>\n",
       "  </thead>\n",
       "  <tbody>\n",
       "    <tr>\n",
       "      <td>Unbalanced data - Baseline model</td>\n",
       "      <td>0.876033</td>\n",
       "      <td>0.751773</td>\n",
       "      <td>0.809160</td>\n",
       "      <td>0.999415</td>\n",
       "      <td>0.952141</td>\n",
       "    </tr>\n",
       "    <tr>\n",
       "      <td>Balanced data</td>\n",
       "      <td>0.041506</td>\n",
       "      <td>0.914894</td>\n",
       "      <td>0.079409</td>\n",
       "      <td>0.964994</td>\n",
       "      <td>0.972067</td>\n",
       "    </tr>\n",
       "    <tr>\n",
       "      <td>Resampled data</td>\n",
       "      <td>0.877049</td>\n",
       "      <td>0.758865</td>\n",
       "      <td>0.813688</td>\n",
       "      <td>0.999427</td>\n",
       "      <td>0.948664</td>\n",
       "    </tr>\n",
       "  </tbody>\n",
       "</table>\n",
       "</div>"
      ],
      "text/plain": [
       "                                  precision    recall  f1-score  accuracy  \\\n",
       "Unbalanced data - Baseline model   0.876033  0.751773  0.809160  0.999415   \n",
       "Balanced data                      0.041506  0.914894  0.079409  0.964994   \n",
       "Resampled data                     0.877049  0.758865  0.813688  0.999427   \n",
       "\n",
       "                                       ROC  \n",
       "Unbalanced data - Baseline model  0.952141  \n",
       "Balanced data                     0.972067  \n",
       "Resampled data                    0.948664  "
      ]
     },
     "execution_count": 119,
     "metadata": {},
     "output_type": "execute_result"
    }
   ],
   "source": [
    "model_eval_test"
   ]
  },
  {
   "cell_type": "markdown",
   "metadata": {},
   "source": [
    "### 4.3.1 Final conclusion"
   ]
  },
  {
   "cell_type": "code",
   "execution_count": 120,
   "metadata": {},
   "outputs": [
    {
     "data": {
      "image/png": "[encoded data removed]",
      "text/plain": [
       "<Figure size 720x360 with 4 Axes>"
      ]
     },
     "metadata": {},
     "output_type": "display_data"
    }
   ],
   "source": [
    "make_confusion_matrix_chart(cf_matrix_train, cf_matrix_test)"
   ]
  },
  {
   "cell_type": "markdown",
   "metadata": {},
   "source": [
    "The model is still overfitting on the training data as we can see from the results. However, it performs a little better than original data. This proves that resampling techniques might work for this data."
   ]
  },
  {
   "cell_type": "markdown",
   "metadata": {},
   "source": [
    "## 4.4 Bayesian Hyperparameter optimization"
   ]
  },
  {
   "cell_type": "code",
   "execution_count": 128,
   "metadata": {},
   "outputs": [],
   "source": [
    "from hyperopt import tpe, STATUS_OK, Trials, hp, fmin\n",
    "from hyperopt.pyll import scope\n",
    "from sklearn.model_selection import cross_val_score"
   ]
  },
  {
   "cell_type": "code",
   "execution_count": 129,
   "metadata": {},
   "outputs": [],
   "source": [
    "MAX_EVALS = 50"
   ]
  },
  {
   "cell_type": "code",
   "execution_count": 135,
   "metadata": {},
   "outputs": [],
   "source": [
    "def objective(params):\n",
    "    \n",
    "    clf = RandomForestClassifier(**params)\n",
    "    scores = cross_val_score(clf, X_train, y_train, cv=5, scoring='f1')\n",
    "    best_score = max(scores) # Extract the best score\n",
    "    loss = 1 - best_score # Loss must be minimized\n",
    "\n",
    "    # Dictionary with information for evaluation\n",
    "    return {'loss': loss, 'params': params, 'status': STATUS_OK}"
   ]
  },
  {
   "cell_type": "code",
   "execution_count": 136,
   "metadata": {},
   "outputs": [],
   "source": [
    "space = {\n",
    "    'max_features': hp.choice('max_features', ['auto', 'sqrt']),\n",
    "    'bootstrap' : hp.choice('bootstrap', [True, False]),\n",
    "    'n_estimators': scope.int(hp.quniform('n_estimators', 5, 35, 1)),\n",
    "    'max_depth': scope.int(hp.quniform('max_depth', 5, 15, 1)),\n",
    "    'min_samples_split' : scope.int(hp.quniform('min_samples_split', 2, 10, 1)),\n",
    "    'min_samples_leaf' : scope.int(hp.quniform('min_samples_leaf', 1, 5, 1))\n",
    "}"
   ]
  },
  {
   "cell_type": "code",
   "execution_count": 137,
   "metadata": {},
   "outputs": [
    {
     "name": "stdout",
     "output_type": "stream",
     "text": [
      "100%|██████████| 50/50 [48:11<00:00, 57.82s/trial, best loss: 0.09090909090909105]\n"
     ]
    }
   ],
   "source": [
    "tpe_algorithm = tpe.suggest # Algorithm\n",
    "bayes_trials = Trials() # Trials object to track progress\n",
    "best = fmin(fn = objective, space = space, algo = tpe.suggest, max_evals = MAX_EVALS, trials = bayes_trials) # Optimize"
   ]
  },
  {
   "cell_type": "code",
   "execution_count": 139,
   "metadata": {},
   "outputs": [
    {
     "data": {
      "text/plain": [
       "{'bootstrap': 1,\n",
       " 'max_depth': 11.0,\n",
       " 'max_features': 1,\n",
       " 'min_samples_leaf': 2.0,\n",
       " 'min_samples_split': 2.0,\n",
       " 'n_estimators': 21.0}"
      ]
     },
     "execution_count": 139,
     "metadata": {},
     "output_type": "execute_result"
    }
   ],
   "source": [
    "best"
   ]
  },
  {
   "cell_type": "code",
   "execution_count": 146,
   "metadata": {},
   "outputs": [],
   "source": [
    "for key, value in best.items():\n",
    "    best[key] = int(value)"
   ]
  },
  {
   "cell_type": "code",
   "execution_count": 147,
   "metadata": {},
   "outputs": [
    {
     "data": {
      "text/plain": [
       "RandomForestClassifier(bootstrap=1, ccp_alpha=0.0, class_weight=None,\n",
       "                       criterion='gini', max_depth=11, max_features=1,\n",
       "                       max_leaf_nodes=None, max_samples=None,\n",
       "                       min_impurity_decrease=0.0, min_impurity_split=None,\n",
       "                       min_samples_leaf=2, min_samples_split=2,\n",
       "                       min_weight_fraction_leaf=0.0, n_estimators=21,\n",
       "                       n_jobs=None, oob_score=False, random_state=None,\n",
       "                       verbose=0, warm_start=False)"
      ]
     },
     "execution_count": 147,
     "metadata": {},
     "output_type": "execute_result"
    }
   ],
   "source": [
    "clf = RandomForestClassifier(**best)\n",
    "clf.fit(X_train, y_train)"
   ]
  },
  {
   "cell_type": "code",
   "execution_count": 148,
   "metadata": {},
   "outputs": [],
   "source": [
    "model_eval_train, model_eval_test, cf_matrix_train, cf_matrix_test = model_eval_data(clf, X_train, y_train, \n",
    "                                                         X_test, y_test, \n",
    "                                                         model_eval_train, \n",
    "                                                         model_eval_test,\n",
    "                                                         Name='Bayesian Hyperparameter Optimization')"
   ]
  },
  {
   "cell_type": "code",
   "execution_count": 149,
   "metadata": {},
   "outputs": [
    {
     "data": {
      "text/html": [
       "<div>\n",
       "<style scoped>\n",
       "    .dataframe tbody tr th:only-of-type {\n",
       "        vertical-align: middle;\n",
       "    }\n",
       "\n",
       "    .dataframe tbody tr th {\n",
       "        vertical-align: top;\n",
       "    }\n",
       "\n",
       "    .dataframe thead th {\n",
       "        text-align: right;\n",
       "    }\n",
       "</style>\n",
       "<table border=\"1\" class=\"dataframe\">\n",
       "  <thead>\n",
       "    <tr style=\"text-align: right;\">\n",
       "      <th></th>\n",
       "      <th>precision</th>\n",
       "      <th>recall</th>\n",
       "      <th>f1-score</th>\n",
       "      <th>accuracy</th>\n",
       "      <th>ROC</th>\n",
       "    </tr>\n",
       "  </thead>\n",
       "  <tbody>\n",
       "    <tr>\n",
       "      <td>Unbalanced data - Baseline model</td>\n",
       "      <td>1.000000</td>\n",
       "      <td>0.994302</td>\n",
       "      <td>0.997143</td>\n",
       "      <td>0.999990</td>\n",
       "      <td>1.000000</td>\n",
       "    </tr>\n",
       "    <tr>\n",
       "      <td>Balanced data</td>\n",
       "      <td>0.050121</td>\n",
       "      <td>1.000000</td>\n",
       "      <td>0.095458</td>\n",
       "      <td>0.966634</td>\n",
       "      <td>0.999341</td>\n",
       "    </tr>\n",
       "    <tr>\n",
       "      <td>Resampled data</td>\n",
       "      <td>1.000000</td>\n",
       "      <td>1.000000</td>\n",
       "      <td>1.000000</td>\n",
       "      <td>1.000000</td>\n",
       "      <td>1.000000</td>\n",
       "    </tr>\n",
       "    <tr>\n",
       "      <td>Bayesian Hyperparameter Optimization</td>\n",
       "      <td>0.979592</td>\n",
       "      <td>0.820513</td>\n",
       "      <td>0.893023</td>\n",
       "      <td>0.999654</td>\n",
       "      <td>0.996080</td>\n",
       "    </tr>\n",
       "  </tbody>\n",
       "</table>\n",
       "</div>"
      ],
      "text/plain": [
       "                                      precision    recall  f1-score  accuracy  \\\n",
       "Unbalanced data - Baseline model       1.000000  0.994302  0.997143  0.999990   \n",
       "Balanced data                          0.050121  1.000000  0.095458  0.966634   \n",
       "Resampled data                         1.000000  1.000000  1.000000  1.000000   \n",
       "Bayesian Hyperparameter Optimization   0.979592  0.820513  0.893023  0.999654   \n",
       "\n",
       "                                           ROC  \n",
       "Unbalanced data - Baseline model      1.000000  \n",
       "Balanced data                         0.999341  \n",
       "Resampled data                        1.000000  \n",
       "Bayesian Hyperparameter Optimization  0.996080  "
      ]
     },
     "execution_count": 149,
     "metadata": {},
     "output_type": "execute_result"
    }
   ],
   "source": [
    "model_eval_train"
   ]
  },
  {
   "cell_type": "code",
   "execution_count": 150,
   "metadata": {},
   "outputs": [
    {
     "data": {
      "text/html": [
       "<div>\n",
       "<style scoped>\n",
       "    .dataframe tbody tr th:only-of-type {\n",
       "        vertical-align: middle;\n",
       "    }\n",
       "\n",
       "    .dataframe tbody tr th {\n",
       "        vertical-align: top;\n",
       "    }\n",
       "\n",
       "    .dataframe thead th {\n",
       "        text-align: right;\n",
       "    }\n",
       "</style>\n",
       "<table border=\"1\" class=\"dataframe\">\n",
       "  <thead>\n",
       "    <tr style=\"text-align: right;\">\n",
       "      <th></th>\n",
       "      <th>precision</th>\n",
       "      <th>recall</th>\n",
       "      <th>f1-score</th>\n",
       "      <th>accuracy</th>\n",
       "      <th>ROC</th>\n",
       "    </tr>\n",
       "  </thead>\n",
       "  <tbody>\n",
       "    <tr>\n",
       "      <td>Unbalanced data - Baseline model</td>\n",
       "      <td>0.876033</td>\n",
       "      <td>0.751773</td>\n",
       "      <td>0.809160</td>\n",
       "      <td>0.999415</td>\n",
       "      <td>0.952141</td>\n",
       "    </tr>\n",
       "    <tr>\n",
       "      <td>Balanced data</td>\n",
       "      <td>0.041506</td>\n",
       "      <td>0.914894</td>\n",
       "      <td>0.079409</td>\n",
       "      <td>0.964994</td>\n",
       "      <td>0.972067</td>\n",
       "    </tr>\n",
       "    <tr>\n",
       "      <td>Resampled data</td>\n",
       "      <td>0.877049</td>\n",
       "      <td>0.758865</td>\n",
       "      <td>0.813688</td>\n",
       "      <td>0.999427</td>\n",
       "      <td>0.948664</td>\n",
       "    </tr>\n",
       "    <tr>\n",
       "      <td>Bayesian Hyperparameter Optimization</td>\n",
       "      <td>0.895652</td>\n",
       "      <td>0.730496</td>\n",
       "      <td>0.804688</td>\n",
       "      <td>0.999415</td>\n",
       "      <td>0.968042</td>\n",
       "    </tr>\n",
       "  </tbody>\n",
       "</table>\n",
       "</div>"
      ],
      "text/plain": [
       "                                      precision    recall  f1-score  accuracy  \\\n",
       "Unbalanced data - Baseline model       0.876033  0.751773  0.809160  0.999415   \n",
       "Balanced data                          0.041506  0.914894  0.079409  0.964994   \n",
       "Resampled data                         0.877049  0.758865  0.813688  0.999427   \n",
       "Bayesian Hyperparameter Optimization   0.895652  0.730496  0.804688  0.999415   \n",
       "\n",
       "                                           ROC  \n",
       "Unbalanced data - Baseline model      0.952141  \n",
       "Balanced data                         0.972067  \n",
       "Resampled data                        0.948664  \n",
       "Bayesian Hyperparameter Optimization  0.968042  "
      ]
     },
     "execution_count": 150,
     "metadata": {},
     "output_type": "execute_result"
    }
   ],
   "source": [
    "model_eval_test"
   ]
  },
  {
   "cell_type": "markdown",
   "metadata": {},
   "source": [
    "### 4.4.1 Final Conclusion"
   ]
  },
  {
   "cell_type": "code",
   "execution_count": 151,
   "metadata": {},
   "outputs": [
    {
     "data": {
      "image/png": "[encoded data removed]",
      "text/plain": [
       "<Figure size 720x360 with 4 Axes>"
      ]
     },
     "metadata": {},
     "output_type": "display_data"
    }
   ],
   "source": [
    "make_confusion_matrix_chart(cf_matrix_train, cf_matrix_test)"
   ]
  },
  {
   "cell_type": "markdown",
   "metadata": {},
   "source": [
    "The hyperparameter optimized model showed good results in training and little improvement in the overall methodology, however still the model is not performing well in the test data."
   ]
  },
  {
   "cell_type": "markdown",
   "metadata": {},
   "source": [
    "## 4.5 SMOTE"
   ]
  },
  {
   "cell_type": "code",
   "execution_count": 155,
   "metadata": {},
   "outputs": [],
   "source": [
    "from imblearn.over_sampling import SMOTE\n",
    "\n",
    "sm = SMOTE()\n",
    "smoteX, smoteY = sm.fit_sample(X_train, y_train)"
   ]
  },
  {
   "cell_type": "code",
   "execution_count": 160,
   "metadata": {},
   "outputs": [
    {
     "name": "stdout",
     "output_type": "stream",
     "text": [
      "#No. of Zeros -  199013\n",
      "#No. of Ones -  199013\n"
     ]
    }
   ],
   "source": [
    "print('#No. of Zeros - ', len(smoteY) - np.sum(smoteY))\n",
    "print('#No. of Ones - ', np.sum(smoteY))"
   ]
  },
  {
   "cell_type": "code",
   "execution_count": 161,
   "metadata": {},
   "outputs": [],
   "source": [
    "clf = build_model(smoteX, smoteY)"
   ]
  },
  {
   "cell_type": "code",
   "execution_count": 162,
   "metadata": {},
   "outputs": [],
   "source": [
    "model_eval_train, model_eval_test, cf_matrix_train, cf_matrix_test = model_eval_data(clf, X_train, y_train, \n",
    "                                                         X_test, y_test, \n",
    "                                                         model_eval_train, \n",
    "                                                         model_eval_test,\n",
    "                                                         Name='SMOTE Analysis')"
   ]
  },
  {
   "cell_type": "code",
   "execution_count": 163,
   "metadata": {},
   "outputs": [
    {
     "data": {
      "text/html": [
       "<div>\n",
       "<style scoped>\n",
       "    .dataframe tbody tr th:only-of-type {\n",
       "        vertical-align: middle;\n",
       "    }\n",
       "\n",
       "    .dataframe tbody tr th {\n",
       "        vertical-align: top;\n",
       "    }\n",
       "\n",
       "    .dataframe thead th {\n",
       "        text-align: right;\n",
       "    }\n",
       "</style>\n",
       "<table border=\"1\" class=\"dataframe\">\n",
       "  <thead>\n",
       "    <tr style=\"text-align: right;\">\n",
       "      <th></th>\n",
       "      <th>precision</th>\n",
       "      <th>recall</th>\n",
       "      <th>f1-score</th>\n",
       "      <th>accuracy</th>\n",
       "      <th>ROC</th>\n",
       "    </tr>\n",
       "  </thead>\n",
       "  <tbody>\n",
       "    <tr>\n",
       "      <td>Unbalanced data - Baseline model</td>\n",
       "      <td>1.000000</td>\n",
       "      <td>0.994302</td>\n",
       "      <td>0.997143</td>\n",
       "      <td>0.999990</td>\n",
       "      <td>1.000000</td>\n",
       "    </tr>\n",
       "    <tr>\n",
       "      <td>Balanced data</td>\n",
       "      <td>0.050121</td>\n",
       "      <td>1.000000</td>\n",
       "      <td>0.095458</td>\n",
       "      <td>0.966634</td>\n",
       "      <td>0.999341</td>\n",
       "    </tr>\n",
       "    <tr>\n",
       "      <td>Resampled data</td>\n",
       "      <td>1.000000</td>\n",
       "      <td>1.000000</td>\n",
       "      <td>1.000000</td>\n",
       "      <td>1.000000</td>\n",
       "      <td>1.000000</td>\n",
       "    </tr>\n",
       "    <tr>\n",
       "      <td>Bayesian Hyperparameter Optimization</td>\n",
       "      <td>0.979592</td>\n",
       "      <td>0.820513</td>\n",
       "      <td>0.893023</td>\n",
       "      <td>0.999654</td>\n",
       "      <td>0.996080</td>\n",
       "    </tr>\n",
       "    <tr>\n",
       "      <td>SMOTE Analysis</td>\n",
       "      <td>1.000000</td>\n",
       "      <td>1.000000</td>\n",
       "      <td>1.000000</td>\n",
       "      <td>1.000000</td>\n",
       "      <td>1.000000</td>\n",
       "    </tr>\n",
       "  </tbody>\n",
       "</table>\n",
       "</div>"
      ],
      "text/plain": [
       "                                      precision    recall  f1-score  accuracy  \\\n",
       "Unbalanced data - Baseline model       1.000000  0.994302  0.997143  0.999990   \n",
       "Balanced data                          0.050121  1.000000  0.095458  0.966634   \n",
       "Resampled data                         1.000000  1.000000  1.000000  1.000000   \n",
       "Bayesian Hyperparameter Optimization   0.979592  0.820513  0.893023  0.999654   \n",
       "SMOTE Analysis                         1.000000  1.000000  1.000000  1.000000   \n",
       "\n",
       "                                           ROC  \n",
       "Unbalanced data - Baseline model      1.000000  \n",
       "Balanced data                         0.999341  \n",
       "Resampled data                        1.000000  \n",
       "Bayesian Hyperparameter Optimization  0.996080  \n",
       "SMOTE Analysis                        1.000000  "
      ]
     },
     "execution_count": 163,
     "metadata": {},
     "output_type": "execute_result"
    }
   ],
   "source": [
    "model_eval_train"
   ]
  },
  {
   "cell_type": "code",
   "execution_count": 164,
   "metadata": {},
   "outputs": [
    {
     "data": {
      "text/html": [
       "<div>\n",
       "<style scoped>\n",
       "    .dataframe tbody tr th:only-of-type {\n",
       "        vertical-align: middle;\n",
       "    }\n",
       "\n",
       "    .dataframe tbody tr th {\n",
       "        vertical-align: top;\n",
       "    }\n",
       "\n",
       "    .dataframe thead th {\n",
       "        text-align: right;\n",
       "    }\n",
       "</style>\n",
       "<table border=\"1\" class=\"dataframe\">\n",
       "  <thead>\n",
       "    <tr style=\"text-align: right;\">\n",
       "      <th></th>\n",
       "      <th>precision</th>\n",
       "      <th>recall</th>\n",
       "      <th>f1-score</th>\n",
       "      <th>accuracy</th>\n",
       "      <th>ROC</th>\n",
       "    </tr>\n",
       "  </thead>\n",
       "  <tbody>\n",
       "    <tr>\n",
       "      <td>Unbalanced data - Baseline model</td>\n",
       "      <td>0.876033</td>\n",
       "      <td>0.751773</td>\n",
       "      <td>0.809160</td>\n",
       "      <td>0.999415</td>\n",
       "      <td>0.952141</td>\n",
       "    </tr>\n",
       "    <tr>\n",
       "      <td>Balanced data</td>\n",
       "      <td>0.041506</td>\n",
       "      <td>0.914894</td>\n",
       "      <td>0.079409</td>\n",
       "      <td>0.964994</td>\n",
       "      <td>0.972067</td>\n",
       "    </tr>\n",
       "    <tr>\n",
       "      <td>Resampled data</td>\n",
       "      <td>0.877049</td>\n",
       "      <td>0.758865</td>\n",
       "      <td>0.813688</td>\n",
       "      <td>0.999427</td>\n",
       "      <td>0.948664</td>\n",
       "    </tr>\n",
       "    <tr>\n",
       "      <td>Bayesian Hyperparameter Optimization</td>\n",
       "      <td>0.895652</td>\n",
       "      <td>0.730496</td>\n",
       "      <td>0.804688</td>\n",
       "      <td>0.999415</td>\n",
       "      <td>0.968042</td>\n",
       "    </tr>\n",
       "    <tr>\n",
       "      <td>SMOTE Analysis</td>\n",
       "      <td>0.785714</td>\n",
       "      <td>0.780142</td>\n",
       "      <td>0.782918</td>\n",
       "      <td>0.999286</td>\n",
       "      <td>0.965147</td>\n",
       "    </tr>\n",
       "  </tbody>\n",
       "</table>\n",
       "</div>"
      ],
      "text/plain": [
       "                                      precision    recall  f1-score  accuracy  \\\n",
       "Unbalanced data - Baseline model       0.876033  0.751773  0.809160  0.999415   \n",
       "Balanced data                          0.041506  0.914894  0.079409  0.964994   \n",
       "Resampled data                         0.877049  0.758865  0.813688  0.999427   \n",
       "Bayesian Hyperparameter Optimization   0.895652  0.730496  0.804688  0.999415   \n",
       "SMOTE Analysis                         0.785714  0.780142  0.782918  0.999286   \n",
       "\n",
       "                                           ROC  \n",
       "Unbalanced data - Baseline model      0.952141  \n",
       "Balanced data                         0.972067  \n",
       "Resampled data                        0.948664  \n",
       "Bayesian Hyperparameter Optimization  0.968042  \n",
       "SMOTE Analysis                        0.965147  "
      ]
     },
     "execution_count": 164,
     "metadata": {},
     "output_type": "execute_result"
    }
   ],
   "source": [
    "model_eval_test"
   ]
  },
  {
   "cell_type": "markdown",
   "metadata": {},
   "source": [
    "### 4.5.1 Final Conclusion"
   ]
  },
  {
   "cell_type": "code",
   "execution_count": 165,
   "metadata": {},
   "outputs": [
    {
     "data": {
      "image/png": "[encoded data removed]",
      "text/plain": [
       "<Figure size 720x360 with 4 Axes>"
      ]
     },
     "metadata": {},
     "output_type": "display_data"
    }
   ],
   "source": [
    "make_confusion_matrix_chart(cf_matrix_train, cf_matrix_test)"
   ]
  },
  {
   "cell_type": "markdown",
   "metadata": {},
   "source": [
    "SMOTE is also overfitting on the training dataset, however on the test dataset it is able to produce a balanced result when compared to other methods. "
   ]
  },
  {
   "cell_type": "markdown",
   "metadata": {},
   "source": [
    "## 4.6 ADASYN"
   ]
  },
  {
   "cell_type": "code",
   "execution_count": 166,
   "metadata": {},
   "outputs": [],
   "source": [
    "from imblearn.over_sampling import ADASYN \n",
    "ada = ADASYN()\n",
    "adaX, aday = ada.fit_sample(X_train, y_train)"
   ]
  },
  {
   "cell_type": "code",
   "execution_count": 167,
   "metadata": {},
   "outputs": [
    {
     "name": "stdout",
     "output_type": "stream",
     "text": [
      "#No. of Zeros -  199013\n",
      "#No. of Ones -  199007\n"
     ]
    }
   ],
   "source": [
    "print('#No. of Zeros - ', len(adaX) - np.sum(aday))\n",
    "print('#No. of Ones - ', np.sum(aday))"
   ]
  },
  {
   "cell_type": "code",
   "execution_count": 168,
   "metadata": {},
   "outputs": [],
   "source": [
    "clf = build_model(adaX, aday)"
   ]
  },
  {
   "cell_type": "code",
   "execution_count": 169,
   "metadata": {},
   "outputs": [],
   "source": [
    "model_eval_train, model_eval_test, cf_matrix_train, cf_matrix_test = model_eval_data(clf, X_train, y_train, \n",
    "                                                         X_test, y_test, \n",
    "                                                         model_eval_train, \n",
    "                                                         model_eval_test,\n",
    "                                                         Name='ADASYN Analysis')"
   ]
  },
  {
   "cell_type": "code",
   "execution_count": 170,
   "metadata": {},
   "outputs": [
    {
     "data": {
      "text/html": [
       "<div>\n",
       "<style scoped>\n",
       "    .dataframe tbody tr th:only-of-type {\n",
       "        vertical-align: middle;\n",
       "    }\n",
       "\n",
       "    .dataframe tbody tr th {\n",
       "        vertical-align: top;\n",
       "    }\n",
       "\n",
       "    .dataframe thead th {\n",
       "        text-align: right;\n",
       "    }\n",
       "</style>\n",
       "<table border=\"1\" class=\"dataframe\">\n",
       "  <thead>\n",
       "    <tr style=\"text-align: right;\">\n",
       "      <th></th>\n",
       "      <th>precision</th>\n",
       "      <th>recall</th>\n",
       "      <th>f1-score</th>\n",
       "      <th>accuracy</th>\n",
       "      <th>ROC</th>\n",
       "    </tr>\n",
       "  </thead>\n",
       "  <tbody>\n",
       "    <tr>\n",
       "      <td>Unbalanced data - Baseline model</td>\n",
       "      <td>1.000000</td>\n",
       "      <td>0.994302</td>\n",
       "      <td>0.997143</td>\n",
       "      <td>0.999990</td>\n",
       "      <td>1.000000</td>\n",
       "    </tr>\n",
       "    <tr>\n",
       "      <td>Balanced data</td>\n",
       "      <td>0.050121</td>\n",
       "      <td>1.000000</td>\n",
       "      <td>0.095458</td>\n",
       "      <td>0.966634</td>\n",
       "      <td>0.999341</td>\n",
       "    </tr>\n",
       "    <tr>\n",
       "      <td>Resampled data</td>\n",
       "      <td>1.000000</td>\n",
       "      <td>1.000000</td>\n",
       "      <td>1.000000</td>\n",
       "      <td>1.000000</td>\n",
       "      <td>1.000000</td>\n",
       "    </tr>\n",
       "    <tr>\n",
       "      <td>Bayesian Hyperparameter Optimization</td>\n",
       "      <td>0.979592</td>\n",
       "      <td>0.820513</td>\n",
       "      <td>0.893023</td>\n",
       "      <td>0.999654</td>\n",
       "      <td>0.996080</td>\n",
       "    </tr>\n",
       "    <tr>\n",
       "      <td>SMOTE Analysis</td>\n",
       "      <td>1.000000</td>\n",
       "      <td>1.000000</td>\n",
       "      <td>1.000000</td>\n",
       "      <td>1.000000</td>\n",
       "      <td>1.000000</td>\n",
       "    </tr>\n",
       "    <tr>\n",
       "      <td>ADASYN Analysis</td>\n",
       "      <td>1.000000</td>\n",
       "      <td>1.000000</td>\n",
       "      <td>1.000000</td>\n",
       "      <td>1.000000</td>\n",
       "      <td>1.000000</td>\n",
       "    </tr>\n",
       "  </tbody>\n",
       "</table>\n",
       "</div>"
      ],
      "text/plain": [
       "                                      precision    recall  f1-score  accuracy  \\\n",
       "Unbalanced data - Baseline model       1.000000  0.994302  0.997143  0.999990   \n",
       "Balanced data                          0.050121  1.000000  0.095458  0.966634   \n",
       "Resampled data                         1.000000  1.000000  1.000000  1.000000   \n",
       "Bayesian Hyperparameter Optimization   0.979592  0.820513  0.893023  0.999654   \n",
       "SMOTE Analysis                         1.000000  1.000000  1.000000  1.000000   \n",
       "ADASYN Analysis                        1.000000  1.000000  1.000000  1.000000   \n",
       "\n",
       "                                           ROC  \n",
       "Unbalanced data - Baseline model      1.000000  \n",
       "Balanced data                         0.999341  \n",
       "Resampled data                        1.000000  \n",
       "Bayesian Hyperparameter Optimization  0.996080  \n",
       "SMOTE Analysis                        1.000000  \n",
       "ADASYN Analysis                       1.000000  "
      ]
     },
     "execution_count": 170,
     "metadata": {},
     "output_type": "execute_result"
    }
   ],
   "source": [
    "model_eval_train"
   ]
  },
  {
   "cell_type": "code",
   "execution_count": 171,
   "metadata": {},
   "outputs": [
    {
     "data": {
      "text/html": [
       "<div>\n",
       "<style scoped>\n",
       "    .dataframe tbody tr th:only-of-type {\n",
       "        vertical-align: middle;\n",
       "    }\n",
       "\n",
       "    .dataframe tbody tr th {\n",
       "        vertical-align: top;\n",
       "    }\n",
       "\n",
       "    .dataframe thead th {\n",
       "        text-align: right;\n",
       "    }\n",
       "</style>\n",
       "<table border=\"1\" class=\"dataframe\">\n",
       "  <thead>\n",
       "    <tr style=\"text-align: right;\">\n",
       "      <th></th>\n",
       "      <th>precision</th>\n",
       "      <th>recall</th>\n",
       "      <th>f1-score</th>\n",
       "      <th>accuracy</th>\n",
       "      <th>ROC</th>\n",
       "    </tr>\n",
       "  </thead>\n",
       "  <tbody>\n",
       "    <tr>\n",
       "      <td>Unbalanced data - Baseline model</td>\n",
       "      <td>0.876033</td>\n",
       "      <td>0.751773</td>\n",
       "      <td>0.809160</td>\n",
       "      <td>0.999415</td>\n",
       "      <td>0.952141</td>\n",
       "    </tr>\n",
       "    <tr>\n",
       "      <td>Balanced data</td>\n",
       "      <td>0.041506</td>\n",
       "      <td>0.914894</td>\n",
       "      <td>0.079409</td>\n",
       "      <td>0.964994</td>\n",
       "      <td>0.972067</td>\n",
       "    </tr>\n",
       "    <tr>\n",
       "      <td>Resampled data</td>\n",
       "      <td>0.877049</td>\n",
       "      <td>0.758865</td>\n",
       "      <td>0.813688</td>\n",
       "      <td>0.999427</td>\n",
       "      <td>0.948664</td>\n",
       "    </tr>\n",
       "    <tr>\n",
       "      <td>Bayesian Hyperparameter Optimization</td>\n",
       "      <td>0.895652</td>\n",
       "      <td>0.730496</td>\n",
       "      <td>0.804688</td>\n",
       "      <td>0.999415</td>\n",
       "      <td>0.968042</td>\n",
       "    </tr>\n",
       "    <tr>\n",
       "      <td>SMOTE Analysis</td>\n",
       "      <td>0.785714</td>\n",
       "      <td>0.780142</td>\n",
       "      <td>0.782918</td>\n",
       "      <td>0.999286</td>\n",
       "      <td>0.965147</td>\n",
       "    </tr>\n",
       "    <tr>\n",
       "      <td>ADASYN Analysis</td>\n",
       "      <td>0.751724</td>\n",
       "      <td>0.773050</td>\n",
       "      <td>0.762238</td>\n",
       "      <td>0.999204</td>\n",
       "      <td>0.965654</td>\n",
       "    </tr>\n",
       "  </tbody>\n",
       "</table>\n",
       "</div>"
      ],
      "text/plain": [
       "                                      precision    recall  f1-score  accuracy  \\\n",
       "Unbalanced data - Baseline model       0.876033  0.751773  0.809160  0.999415   \n",
       "Balanced data                          0.041506  0.914894  0.079409  0.964994   \n",
       "Resampled data                         0.877049  0.758865  0.813688  0.999427   \n",
       "Bayesian Hyperparameter Optimization   0.895652  0.730496  0.804688  0.999415   \n",
       "SMOTE Analysis                         0.785714  0.780142  0.782918  0.999286   \n",
       "ADASYN Analysis                        0.751724  0.773050  0.762238  0.999204   \n",
       "\n",
       "                                           ROC  \n",
       "Unbalanced data - Baseline model      0.952141  \n",
       "Balanced data                         0.972067  \n",
       "Resampled data                        0.948664  \n",
       "Bayesian Hyperparameter Optimization  0.968042  \n",
       "SMOTE Analysis                        0.965147  \n",
       "ADASYN Analysis                       0.965654  "
      ]
     },
     "execution_count": 171,
     "metadata": {},
     "output_type": "execute_result"
    }
   ],
   "source": [
    "model_eval_test"
   ]
  },
  {
   "cell_type": "markdown",
   "metadata": {},
   "source": [
    "### 4.6.1 Final Conclusion"
   ]
  },
  {
   "cell_type": "code",
   "execution_count": 172,
   "metadata": {},
   "outputs": [
    {
     "data": {
      "image/png": "[encoded data removed]",
      "text/plain": [
       "<Figure size 720x360 with 4 Axes>"
      ]
     },
     "metadata": {},
     "output_type": "display_data"
    }
   ],
   "source": [
    "make_confusion_matrix_chart(cf_matrix_train, cf_matrix_test)"
   ]
  },
  {
   "cell_type": "markdown",
   "metadata": {},
   "source": [
    "ADASYN is performing more or less like SMOTE, but not better than SMOTE. But it is a good try."
   ]
  },
  {
   "cell_type": "markdown",
   "metadata": {},
   "source": [
    "## 4.7 Outlier detection"
   ]
  },
  {
   "cell_type": "code",
   "execution_count": 173,
   "metadata": {},
   "outputs": [],
   "source": [
    "from sklearn.svm import OneClassSVM\n",
    "\n",
    "clf = OneClassSVM(nu=0.01)"
   ]
  },
  {
   "cell_type": "code",
   "execution_count": 211,
   "metadata": {},
   "outputs": [],
   "source": [
    "def rearrange_data(X, y):\n",
    "    \n",
    "    X_zeros = X[y == 0]\n",
    "    X_ones = X[y == 1]\n",
    "    y_zeros = y[y == 0]\n",
    "    y_ones = y[y == 1]\n",
    "    freshX = np.r_[X_zeros, X_ones]\n",
    "    freshy = np.r_[[1] * len(y_zeros), [-1] * len(y_ones)]\n",
    "    \n",
    "    return X_zeros, y_zeros, freshX, freshy"
   ]
  },
  {
   "cell_type": "code",
   "execution_count": 212,
   "metadata": {},
   "outputs": [],
   "source": [
    "train_X_zeros, train_y_zeros, train_freshX, train_freshy = rearrange_data(X_train, y_train)\n",
    "test_X_zeros, test_y_zeros, test_freshX, test_freshy = rearrange_data(X_test, y_test)"
   ]
  },
  {
   "cell_type": "code",
   "execution_count": 214,
   "metadata": {},
   "outputs": [
    {
     "data": {
      "text/plain": [
       "OneClassSVM(cache_size=200, coef0=0.0, degree=3, gamma='scale', kernel='rbf',\n",
       "            max_iter=-1, nu=0.01, shrinking=True, tol=0.001, verbose=False)"
      ]
     },
     "execution_count": 214,
     "metadata": {},
     "output_type": "execute_result"
    }
   ],
   "source": [
    "clf.fit(train_X_zeros)"
   ]
  },
  {
   "cell_type": "code",
   "execution_count": 215,
   "metadata": {},
   "outputs": [],
   "source": [
    "pred_train = clf.predict(train_freshX)\n",
    "pred_test = clf.predict(test_freshX)"
   ]
  },
  {
   "cell_type": "code",
   "execution_count": 216,
   "metadata": {},
   "outputs": [
    {
     "data": {
      "text/plain": [
       "array([-1,  1])"
      ]
     },
     "execution_count": 216,
     "metadata": {},
     "output_type": "execute_result"
    }
   ],
   "source": [
    "np.unique(pred_train) #finding the unique values in pred_train"
   ]
  },
  {
   "cell_type": "markdown",
   "metadata": {},
   "source": [
    "### 4.7.1 Model evaluation"
   ]
  },
  {
   "cell_type": "code",
   "execution_count": 229,
   "metadata": {},
   "outputs": [],
   "source": [
    "def outlier_model_evaluation(y, pred):\n",
    "    \n",
    "    accuracy = accuracy_score(pred,y) # calculate accuracy\n",
    "    fpr, tpr, _ = roc_curve(y, pred) # roc_curve\n",
    "    auc_value = auc(fpr,tpr) # auc_value\n",
    "    report = classification_report(y, pred, labels=[-1,1], output_dict=True)\n",
    "    report_df = pd.DataFrame(report).transpose()\n",
    "    report_df = report_df.reset_index()\n",
    "    model_eval  = report_df[report_df['index'].str.contains('-1')][['precision','recall','f1-score']]\n",
    "    model_eval['accuracy']  = accuracy\n",
    "    model_eval['ROC']  = auc_value\n",
    "    cf_matrix = confusion_matrix(y, pred)\n",
    "    \n",
    "    return model_eval, cf_matrix"
   ]
  },
  {
   "cell_type": "code",
   "execution_count": 230,
   "metadata": {},
   "outputs": [],
   "source": [
    "temp_eval_train, cf_matrix_train = outlier_model_evaluation(train_freshy, pred_train)\n",
    "temp_eval_test, cf_matrix_test = outlier_model_evaluation(test_freshy, pred_test)"
   ]
  },
  {
   "cell_type": "code",
   "execution_count": 232,
   "metadata": {},
   "outputs": [],
   "source": [
    "temp_eval_train.index = ['Outlier detection using SVM']\n",
    "temp_eval_test.index = ['Outlier detection using SVM']"
   ]
  },
  {
   "cell_type": "code",
   "execution_count": 233,
   "metadata": {},
   "outputs": [],
   "source": [
    "model_eval_train = model_eval_train.append(temp_eval_train)\n",
    "model_eval_test = model_eval_test.append(temp_eval_test)"
   ]
  },
  {
   "cell_type": "code",
   "execution_count": 234,
   "metadata": {},
   "outputs": [
    {
     "data": {
      "text/html": [
       "<div>\n",
       "<style scoped>\n",
       "    .dataframe tbody tr th:only-of-type {\n",
       "        vertical-align: middle;\n",
       "    }\n",
       "\n",
       "    .dataframe tbody tr th {\n",
       "        vertical-align: top;\n",
       "    }\n",
       "\n",
       "    .dataframe thead th {\n",
       "        text-align: right;\n",
       "    }\n",
       "</style>\n",
       "<table border=\"1\" class=\"dataframe\">\n",
       "  <thead>\n",
       "    <tr style=\"text-align: right;\">\n",
       "      <th></th>\n",
       "      <th>precision</th>\n",
       "      <th>recall</th>\n",
       "      <th>f1-score</th>\n",
       "      <th>accuracy</th>\n",
       "      <th>ROC</th>\n",
       "    </tr>\n",
       "  </thead>\n",
       "  <tbody>\n",
       "    <tr>\n",
       "      <td>Unbalanced data - Baseline model</td>\n",
       "      <td>1.000000</td>\n",
       "      <td>0.994302</td>\n",
       "      <td>0.997143</td>\n",
       "      <td>0.999990</td>\n",
       "      <td>1.000000</td>\n",
       "    </tr>\n",
       "    <tr>\n",
       "      <td>Balanced data</td>\n",
       "      <td>0.050121</td>\n",
       "      <td>1.000000</td>\n",
       "      <td>0.095458</td>\n",
       "      <td>0.966634</td>\n",
       "      <td>0.999341</td>\n",
       "    </tr>\n",
       "    <tr>\n",
       "      <td>Resampled data</td>\n",
       "      <td>1.000000</td>\n",
       "      <td>1.000000</td>\n",
       "      <td>1.000000</td>\n",
       "      <td>1.000000</td>\n",
       "      <td>1.000000</td>\n",
       "    </tr>\n",
       "    <tr>\n",
       "      <td>Bayesian Hyperparameter Optimization</td>\n",
       "      <td>0.979592</td>\n",
       "      <td>0.820513</td>\n",
       "      <td>0.893023</td>\n",
       "      <td>0.999654</td>\n",
       "      <td>0.996080</td>\n",
       "    </tr>\n",
       "    <tr>\n",
       "      <td>SMOTE Analysis</td>\n",
       "      <td>1.000000</td>\n",
       "      <td>1.000000</td>\n",
       "      <td>1.000000</td>\n",
       "      <td>1.000000</td>\n",
       "      <td>1.000000</td>\n",
       "    </tr>\n",
       "    <tr>\n",
       "      <td>ADASYN Analysis</td>\n",
       "      <td>1.000000</td>\n",
       "      <td>1.000000</td>\n",
       "      <td>1.000000</td>\n",
       "      <td>1.000000</td>\n",
       "      <td>1.000000</td>\n",
       "    </tr>\n",
       "    <tr>\n",
       "      <td>Outlier detection using SVM</td>\n",
       "      <td>0.126632</td>\n",
       "      <td>0.829060</td>\n",
       "      <td>0.219706</td>\n",
       "      <td>0.989632</td>\n",
       "      <td>0.909488</td>\n",
       "    </tr>\n",
       "  </tbody>\n",
       "</table>\n",
       "</div>"
      ],
      "text/plain": [
       "                                      precision    recall  f1-score  accuracy  \\\n",
       "Unbalanced data - Baseline model       1.000000  0.994302  0.997143  0.999990   \n",
       "Balanced data                          0.050121  1.000000  0.095458  0.966634   \n",
       "Resampled data                         1.000000  1.000000  1.000000  1.000000   \n",
       "Bayesian Hyperparameter Optimization   0.979592  0.820513  0.893023  0.999654   \n",
       "SMOTE Analysis                         1.000000  1.000000  1.000000  1.000000   \n",
       "ADASYN Analysis                        1.000000  1.000000  1.000000  1.000000   \n",
       "Outlier detection using SVM            0.126632  0.829060  0.219706  0.989632   \n",
       "\n",
       "                                           ROC  \n",
       "Unbalanced data - Baseline model      1.000000  \n",
       "Balanced data                         0.999341  \n",
       "Resampled data                        1.000000  \n",
       "Bayesian Hyperparameter Optimization  0.996080  \n",
       "SMOTE Analysis                        1.000000  \n",
       "ADASYN Analysis                       1.000000  \n",
       "Outlier detection using SVM           0.909488  "
      ]
     },
     "execution_count": 234,
     "metadata": {},
     "output_type": "execute_result"
    }
   ],
   "source": [
    "model_eval_train"
   ]
  },
  {
   "cell_type": "code",
   "execution_count": 235,
   "metadata": {},
   "outputs": [
    {
     "data": {
      "text/html": [
       "<div>\n",
       "<style scoped>\n",
       "    .dataframe tbody tr th:only-of-type {\n",
       "        vertical-align: middle;\n",
       "    }\n",
       "\n",
       "    .dataframe tbody tr th {\n",
       "        vertical-align: top;\n",
       "    }\n",
       "\n",
       "    .dataframe thead th {\n",
       "        text-align: right;\n",
       "    }\n",
       "</style>\n",
       "<table border=\"1\" class=\"dataframe\">\n",
       "  <thead>\n",
       "    <tr style=\"text-align: right;\">\n",
       "      <th></th>\n",
       "      <th>precision</th>\n",
       "      <th>recall</th>\n",
       "      <th>f1-score</th>\n",
       "      <th>accuracy</th>\n",
       "      <th>ROC</th>\n",
       "    </tr>\n",
       "  </thead>\n",
       "  <tbody>\n",
       "    <tr>\n",
       "      <td>Unbalanced data - Baseline model</td>\n",
       "      <td>0.876033</td>\n",
       "      <td>0.751773</td>\n",
       "      <td>0.809160</td>\n",
       "      <td>0.999415</td>\n",
       "      <td>0.952141</td>\n",
       "    </tr>\n",
       "    <tr>\n",
       "      <td>Balanced data</td>\n",
       "      <td>0.041506</td>\n",
       "      <td>0.914894</td>\n",
       "      <td>0.079409</td>\n",
       "      <td>0.964994</td>\n",
       "      <td>0.972067</td>\n",
       "    </tr>\n",
       "    <tr>\n",
       "      <td>Resampled data</td>\n",
       "      <td>0.877049</td>\n",
       "      <td>0.758865</td>\n",
       "      <td>0.813688</td>\n",
       "      <td>0.999427</td>\n",
       "      <td>0.948664</td>\n",
       "    </tr>\n",
       "    <tr>\n",
       "      <td>Bayesian Hyperparameter Optimization</td>\n",
       "      <td>0.895652</td>\n",
       "      <td>0.730496</td>\n",
       "      <td>0.804688</td>\n",
       "      <td>0.999415</td>\n",
       "      <td>0.968042</td>\n",
       "    </tr>\n",
       "    <tr>\n",
       "      <td>SMOTE Analysis</td>\n",
       "      <td>0.785714</td>\n",
       "      <td>0.780142</td>\n",
       "      <td>0.782918</td>\n",
       "      <td>0.999286</td>\n",
       "      <td>0.965147</td>\n",
       "    </tr>\n",
       "    <tr>\n",
       "      <td>ADASYN Analysis</td>\n",
       "      <td>0.751724</td>\n",
       "      <td>0.773050</td>\n",
       "      <td>0.762238</td>\n",
       "      <td>0.999204</td>\n",
       "      <td>0.965654</td>\n",
       "    </tr>\n",
       "    <tr>\n",
       "      <td>Outlier detection using SVM</td>\n",
       "      <td>0.106787</td>\n",
       "      <td>0.836879</td>\n",
       "      <td>0.189406</td>\n",
       "      <td>0.988179</td>\n",
       "      <td>0.912654</td>\n",
       "    </tr>\n",
       "  </tbody>\n",
       "</table>\n",
       "</div>"
      ],
      "text/plain": [
       "                                      precision    recall  f1-score  accuracy  \\\n",
       "Unbalanced data - Baseline model       0.876033  0.751773  0.809160  0.999415   \n",
       "Balanced data                          0.041506  0.914894  0.079409  0.964994   \n",
       "Resampled data                         0.877049  0.758865  0.813688  0.999427   \n",
       "Bayesian Hyperparameter Optimization   0.895652  0.730496  0.804688  0.999415   \n",
       "SMOTE Analysis                         0.785714  0.780142  0.782918  0.999286   \n",
       "ADASYN Analysis                        0.751724  0.773050  0.762238  0.999204   \n",
       "Outlier detection using SVM            0.106787  0.836879  0.189406  0.988179   \n",
       "\n",
       "                                           ROC  \n",
       "Unbalanced data - Baseline model      0.952141  \n",
       "Balanced data                         0.972067  \n",
       "Resampled data                        0.948664  \n",
       "Bayesian Hyperparameter Optimization  0.968042  \n",
       "SMOTE Analysis                        0.965147  \n",
       "ADASYN Analysis                       0.965654  \n",
       "Outlier detection using SVM           0.912654  "
      ]
     },
     "execution_count": 235,
     "metadata": {},
     "output_type": "execute_result"
    }
   ],
   "source": [
    "model_eval_test"
   ]
  },
  {
   "cell_type": "markdown",
   "metadata": {},
   "source": [
    "### 4.7.2 Final Conclusion"
   ]
  },
  {
   "cell_type": "code",
   "execution_count": 242,
   "metadata": {},
   "outputs": [
    {
     "data": {
      "image/png": "[encoded data removed]",
      "text/plain": [
       "<Figure size 720x360 with 4 Axes>"
      ]
     },
     "metadata": {},
     "output_type": "display_data"
    }
   ],
   "source": [
    "make_confusion_matrix_chart(np.flip(cf_matrix_train), np.flip(cf_matrix_test))"
   ]
  },
  {
   "cell_type": "markdown",
   "metadata": {},
   "source": [
    "Well it worth a try. We got a good recall in both train and test using Outlier detection technique, however, the precision too bad. "
   ]
  },
  {
   "cell_type": "markdown",
   "metadata": {},
   "source": [
    "# 5. GAN based data augmentation - My idea for imbalanced classification"
   ]
  },
  {
   "cell_type": "code",
   "execution_count": 46,
   "metadata": {},
   "outputs": [],
   "source": [
    "import tensorflow as tf\n",
    "import numpy as np\n",
    "import matplotlib.pyplot as plt\n",
    "%matplotlib inline"
   ]
  },
  {
   "cell_type": "code",
   "execution_count": 47,
   "metadata": {},
   "outputs": [],
   "source": [
    "def generator(z, reuse=None):\n",
    "    with tf.variable_scope(\"gen\", reuse=reuse):\n",
    "        hidden1 = tf.layers.dense(inputs=z, units=128)\n",
    "        alpha = 0.01\n",
    "        hidden1 = tf.maximum(alpha*hidden1, hidden1)\n",
    "        hidden2 = tf.layers.dense(inputs=hidden1, units=64)\n",
    "        hidden2 = tf.maximum(alpha*hidden2, hidden2)\n",
    "        output = tf.layers.dense(hidden2, units=15, activation=tf.nn.tanh)\n",
    "        return output"
   ]
  },
  {
   "cell_type": "code",
   "execution_count": 48,
   "metadata": {},
   "outputs": [],
   "source": [
    "def discriminator(X, reuse=None):\n",
    "    with tf.variable_scope(\"dis\", reuse=reuse):\n",
    "        hidden1 = tf.layers.dense(inputs=X, units=128)\n",
    "        alpha = 0.01\n",
    "        hidden1 = tf.maximum(alpha*hidden1, hidden1)\n",
    "        hidden2 = tf.layers.dense(inputs=hidden1, units=128)\n",
    "        hidden2 = tf.maximum(alpha*hidden2, hidden2)\n",
    "        logits = tf.layers.dense(hidden2, units=1)\n",
    "        output = tf.sigmoid(logits)\n",
    "        return output, logits"
   ]
  },
  {
   "cell_type": "code",
   "execution_count": 49,
   "metadata": {},
   "outputs": [],
   "source": [
    "real_data = tf.placeholder(tf.float32, shape=[None, 15])\n",
    "z = tf.placeholder(tf.float32, shape=[None, 100])"
   ]
  },
  {
   "cell_type": "code",
   "execution_count": 50,
   "metadata": {},
   "outputs": [
    {
     "name": "stdout",
     "output_type": "stream",
     "text": [
      "WARNING:tensorflow:From <ipython-input-47-8a13d2d33df5>:3: dense (from tensorflow.python.layers.core) is deprecated and will be removed in a future version.\n",
      "Instructions for updating:\n",
      "Use keras.layers.Dense instead.\n",
      "WARNING:tensorflow:From /usr/local/lib/python3.5/dist-packages/tensorflow_core/python/layers/core.py:187: Layer.apply (from tensorflow.python.keras.engine.base_layer) is deprecated and will be removed in a future version.\n",
      "Instructions for updating:\n",
      "Please use `layer.__call__` method instead.\n"
     ]
    }
   ],
   "source": [
    "G = generator(z)"
   ]
  },
  {
   "cell_type": "code",
   "execution_count": 51,
   "metadata": {},
   "outputs": [],
   "source": [
    "D_output_real, D_logits_real = discriminator(real_data)\n",
    "D_output_fake, D_logits_fake  = discriminator(G, reuse=True)"
   ]
  },
  {
   "cell_type": "code",
   "execution_count": 52,
   "metadata": {},
   "outputs": [],
   "source": [
    "# LOSS\n",
    "def loss_func(logits_in, labels_in):\n",
    "    return tf.reduce_mean(tf.nn.sigmoid_cross_entropy_with_logits(logits=logits_in, labels=labels_in))"
   ]
  },
  {
   "cell_type": "code",
   "execution_count": 53,
   "metadata": {},
   "outputs": [
    {
     "name": "stdout",
     "output_type": "stream",
     "text": [
      "WARNING:tensorflow:From /usr/local/lib/python3.5/dist-packages/tensorflow_core/python/ops/nn_impl.py:183: where (from tensorflow.python.ops.array_ops) is deprecated and will be removed in a future version.\n",
      "Instructions for updating:\n",
      "Use tf.where in 2.0, which has the same broadcast rule as np.where\n"
     ]
    }
   ],
   "source": [
    "D_real_loss = loss_func(D_logits_real, tf.ones_like(D_logits_real)*0.9)\n",
    "D_fake_loss = loss_func(D_logits_fake, tf.zeros_like(D_logits_real))"
   ]
  },
  {
   "cell_type": "code",
   "execution_count": 54,
   "metadata": {},
   "outputs": [],
   "source": [
    "D_loss = D_real_loss + D_fake_loss\n",
    "G_loss = loss_func(D_logits_fake, tf.ones_like(D_logits_fake))"
   ]
  },
  {
   "cell_type": "code",
   "execution_count": 55,
   "metadata": {},
   "outputs": [],
   "source": [
    "learning_rate = 0.001\n",
    "tvars = tf.trainable_variables()\n",
    "\n",
    "d_vars = [var for var in tvars if 'dis' in var.name]\n",
    "g_vars = [var for var in tvars if 'gen' in var.name]"
   ]
  },
  {
   "cell_type": "code",
   "execution_count": 56,
   "metadata": {},
   "outputs": [],
   "source": [
    "D_trainer = tf.train.AdamOptimizer(learning_rate=learning_rate).minimize(D_loss, var_list=d_vars)\n",
    "G_trainer = tf.train.AdamOptimizer(learning_rate=learning_rate).minimize(G_loss, var_list=g_vars)"
   ]
  },
  {
   "cell_type": "code",
   "execution_count": 57,
   "metadata": {},
   "outputs": [],
   "source": [
    "def next_batch(num, data):\n",
    "    '''\n",
    "    Return a total of `num` random samples. \n",
    "    '''\n",
    "    idx = np.arange(0, len(data))\n",
    "    np.random.shuffle(idx)\n",
    "    idx = idx[:num]\n",
    "    data_shuffle = [data.iloc[i] for i in idx]\n",
    "\n",
    "    return np.asarray(data_shuffle)"
   ]
  },
  {
   "cell_type": "code",
   "execution_count": 58,
   "metadata": {},
   "outputs": [],
   "source": [
    "X_ones = X_train[y_train == 1]"
   ]
  },
  {
   "cell_type": "code",
   "execution_count": 59,
   "metadata": {},
   "outputs": [
    {
     "data": {
      "text/plain": [
       "(351, 15)"
      ]
     },
     "execution_count": 59,
     "metadata": {},
     "output_type": "execute_result"
    }
   ],
   "source": [
    "X_ones.shape"
   ]
  },
  {
   "cell_type": "code",
   "execution_count": 60,
   "metadata": {},
   "outputs": [],
   "source": [
    "X_ones.reset_index(drop=True, inplace=True)"
   ]
  },
  {
   "cell_type": "code",
   "execution_count": 61,
   "metadata": {
    "scrolled": true
   },
   "outputs": [
    {
     "name": "stdout",
     "output_type": "stream",
     "text": [
      "ON Epoch 0\n",
      "ON Epoch 100\n",
      "ON Epoch 200\n",
      "ON Epoch 300\n",
      "ON Epoch 400\n",
      "ON Epoch 500\n",
      "ON Epoch 600\n",
      "ON Epoch 700\n",
      "ON Epoch 800\n",
      "ON Epoch 900\n",
      "ON Epoch 1000\n",
      "ON Epoch 1100\n",
      "ON Epoch 1200\n",
      "ON Epoch 1300\n",
      "ON Epoch 1400\n",
      "ON Epoch 1500\n",
      "ON Epoch 1600\n",
      "ON Epoch 1700\n",
      "ON Epoch 1800\n",
      "ON Epoch 1900\n",
      "ON Epoch 2000\n",
      "ON Epoch 2100\n",
      "ON Epoch 2200\n",
      "ON Epoch 2300\n",
      "ON Epoch 2400\n",
      "ON Epoch 2500\n",
      "ON Epoch 2600\n",
      "ON Epoch 2700\n",
      "ON Epoch 2800\n",
      "ON Epoch 2900\n",
      "ON Epoch 3000\n",
      "ON Epoch 3100\n",
      "ON Epoch 3200\n",
      "ON Epoch 3300\n",
      "ON Epoch 3400\n",
      "ON Epoch 3500\n",
      "ON Epoch 3600\n",
      "ON Epoch 3700\n",
      "ON Epoch 3800\n",
      "ON Epoch 3900\n",
      "ON Epoch 4000\n",
      "ON Epoch 4100\n",
      "ON Epoch 4200\n",
      "ON Epoch 4300\n",
      "ON Epoch 4400\n",
      "ON Epoch 4500\n",
      "ON Epoch 4600\n",
      "ON Epoch 4700\n",
      "ON Epoch 4800\n",
      "ON Epoch 4900\n"
     ]
    }
   ],
   "source": [
    "batch_size = 10\n",
    "epochs = 5000\n",
    "init = tf.global_variables_initializer()\n",
    "samples = []\n",
    "no_of_samples_to_generate = len(X_train)  - len(X_ones)\n",
    "\n",
    "with tf.Session() as sess:\n",
    "    sess.run(init)\n",
    "    \n",
    "    for epoch in range(epochs):\n",
    "        \n",
    "        num_batches = len(X_ones) // batch_size\n",
    "        for i in range(num_batches):\n",
    "\n",
    "            batch_X = next_batch(batch_size, X_ones)            \n",
    "            batch_z = np.random.uniform(-1,1, size=(batch_size,100))\n",
    "            \n",
    "            _ = sess.run(D_trainer, feed_dict={real_data:batch_X, z: batch_z})\n",
    "            _ = sess.run(G_trainer, feed_dict={z: batch_z})\n",
    "            \n",
    "        if epoch % 100 == 0:\n",
    "            print(\"ON Epoch {}\".format(epoch))\n",
    "        \n",
    "    sample_z = np.random.uniform(-1,1,size=(no_of_samples_to_generate, 100)) # new samples will be generated\n",
    "    gen_sample = sess.run(generator(z, reuse=True), feed_dict={z:sample_z})\n",
    "    samples.append(gen_sample)"
   ]
  },
  {
   "cell_type": "markdown",
   "metadata": {},
   "source": [
    "## 5.1 Create the final dataset for classification exercise"
   ]
  },
  {
   "cell_type": "code",
   "execution_count": 62,
   "metadata": {},
   "outputs": [
    {
     "data": {
      "text/plain": [
       "(199013, 15)"
      ]
     },
     "execution_count": 62,
     "metadata": {},
     "output_type": "execute_result"
    }
   ],
   "source": [
    "np.array(samples[0]).shape"
   ]
  },
  {
   "cell_type": "code",
   "execution_count": 63,
   "metadata": {},
   "outputs": [],
   "source": [
    "X_fake = pd.DataFrame(samples[0], columns=selected_vars)"
   ]
  },
  {
   "cell_type": "code",
   "execution_count": 64,
   "metadata": {},
   "outputs": [
    {
     "data": {
      "text/html": [
       "<div>\n",
       "<style scoped>\n",
       "    .dataframe tbody tr th:only-of-type {\n",
       "        vertical-align: middle;\n",
       "    }\n",
       "\n",
       "    .dataframe tbody tr th {\n",
       "        vertical-align: top;\n",
       "    }\n",
       "\n",
       "    .dataframe thead th {\n",
       "        text-align: right;\n",
       "    }\n",
       "</style>\n",
       "<table border=\"1\" class=\"dataframe\">\n",
       "  <thead>\n",
       "    <tr style=\"text-align: right;\">\n",
       "      <th></th>\n",
       "      <th>V11</th>\n",
       "      <th>V12</th>\n",
       "      <th>V3</th>\n",
       "      <th>V19</th>\n",
       "      <th>V7</th>\n",
       "      <th>V14</th>\n",
       "      <th>V1</th>\n",
       "      <th>V4</th>\n",
       "      <th>V21</th>\n",
       "      <th>V2</th>\n",
       "      <th>V18</th>\n",
       "      <th>V16</th>\n",
       "      <th>V17</th>\n",
       "      <th>V9</th>\n",
       "      <th>V10</th>\n",
       "    </tr>\n",
       "  </thead>\n",
       "  <tbody>\n",
       "    <tr>\n",
       "      <th>0</th>\n",
       "      <td>0.999986</td>\n",
       "      <td>-0.994151</td>\n",
       "      <td>-0.252908</td>\n",
       "      <td>0.999985</td>\n",
       "      <td>-0.910987</td>\n",
       "      <td>-1.0</td>\n",
       "      <td>-1.000000</td>\n",
       "      <td>-0.354144</td>\n",
       "      <td>-0.445982</td>\n",
       "      <td>0.168554</td>\n",
       "      <td>-0.615993</td>\n",
       "      <td>0.999880</td>\n",
       "      <td>0.342957</td>\n",
       "      <td>-0.999396</td>\n",
       "      <td>0.653967</td>\n",
       "    </tr>\n",
       "    <tr>\n",
       "      <th>1</th>\n",
       "      <td>1.000000</td>\n",
       "      <td>-0.999489</td>\n",
       "      <td>-0.338332</td>\n",
       "      <td>0.999994</td>\n",
       "      <td>-0.979941</td>\n",
       "      <td>-1.0</td>\n",
       "      <td>-1.000000</td>\n",
       "      <td>-0.278645</td>\n",
       "      <td>-0.472332</td>\n",
       "      <td>0.072365</td>\n",
       "      <td>-0.658629</td>\n",
       "      <td>0.999978</td>\n",
       "      <td>0.369555</td>\n",
       "      <td>-0.999964</td>\n",
       "      <td>0.736485</td>\n",
       "    </tr>\n",
       "    <tr>\n",
       "      <th>2</th>\n",
       "      <td>0.999999</td>\n",
       "      <td>-0.771998</td>\n",
       "      <td>-0.214728</td>\n",
       "      <td>0.999996</td>\n",
       "      <td>-0.599142</td>\n",
       "      <td>-1.0</td>\n",
       "      <td>-0.993268</td>\n",
       "      <td>-0.438154</td>\n",
       "      <td>-0.426050</td>\n",
       "      <td>0.121456</td>\n",
       "      <td>-0.354798</td>\n",
       "      <td>0.999939</td>\n",
       "      <td>0.679773</td>\n",
       "      <td>-0.974928</td>\n",
       "      <td>0.358208</td>\n",
       "    </tr>\n",
       "    <tr>\n",
       "      <th>3</th>\n",
       "      <td>1.000000</td>\n",
       "      <td>0.581436</td>\n",
       "      <td>-0.656820</td>\n",
       "      <td>1.000000</td>\n",
       "      <td>0.996419</td>\n",
       "      <td>-1.0</td>\n",
       "      <td>1.000000</td>\n",
       "      <td>0.436722</td>\n",
       "      <td>0.060571</td>\n",
       "      <td>-0.734934</td>\n",
       "      <td>0.274551</td>\n",
       "      <td>0.999996</td>\n",
       "      <td>0.140656</td>\n",
       "      <td>-0.286134</td>\n",
       "      <td>-0.389249</td>\n",
       "    </tr>\n",
       "    <tr>\n",
       "      <th>4</th>\n",
       "      <td>1.000000</td>\n",
       "      <td>0.493375</td>\n",
       "      <td>-0.647888</td>\n",
       "      <td>1.000000</td>\n",
       "      <td>0.983532</td>\n",
       "      <td>-1.0</td>\n",
       "      <td>1.000000</td>\n",
       "      <td>0.387049</td>\n",
       "      <td>-0.035161</td>\n",
       "      <td>-0.615367</td>\n",
       "      <td>0.219702</td>\n",
       "      <td>0.999984</td>\n",
       "      <td>0.346702</td>\n",
       "      <td>-0.389651</td>\n",
       "      <td>-0.318542</td>\n",
       "    </tr>\n",
       "  </tbody>\n",
       "</table>\n",
       "</div>"
      ],
      "text/plain": [
       "        V11       V12        V3       V19        V7  V14        V1        V4  \\\n",
       "0  0.999986 -0.994151 -0.252908  0.999985 -0.910987 -1.0 -1.000000 -0.354144   \n",
       "1  1.000000 -0.999489 -0.338332  0.999994 -0.979941 -1.0 -1.000000 -0.278645   \n",
       "2  0.999999 -0.771998 -0.214728  0.999996 -0.599142 -1.0 -0.993268 -0.438154   \n",
       "3  1.000000  0.581436 -0.656820  1.000000  0.996419 -1.0  1.000000  0.436722   \n",
       "4  1.000000  0.493375 -0.647888  1.000000  0.983532 -1.0  1.000000  0.387049   \n",
       "\n",
       "        V21        V2       V18       V16       V17        V9       V10  \n",
       "0 -0.445982  0.168554 -0.615993  0.999880  0.342957 -0.999396  0.653967  \n",
       "1 -0.472332  0.072365 -0.658629  0.999978  0.369555 -0.999964  0.736485  \n",
       "2 -0.426050  0.121456 -0.354798  0.999939  0.679773 -0.974928  0.358208  \n",
       "3  0.060571 -0.734934  0.274551  0.999996  0.140656 -0.286134 -0.389249  \n",
       "4 -0.035161 -0.615367  0.219702  0.999984  0.346702 -0.389651 -0.318542  "
      ]
     },
     "execution_count": 64,
     "metadata": {},
     "output_type": "execute_result"
    }
   ],
   "source": [
    "X_fake.head()"
   ]
  },
  {
   "cell_type": "code",
   "execution_count": 65,
   "metadata": {},
   "outputs": [
    {
     "data": {
      "text/plain": [
       "(398377, 15)"
      ]
     },
     "execution_count": 65,
     "metadata": {},
     "output_type": "execute_result"
    }
   ],
   "source": [
    "X_augmented_data = np.append(X_train, np.array(X_fake), axis=0)\n",
    "X_augmented_data.shape"
   ]
  },
  {
   "cell_type": "code",
   "execution_count": 66,
   "metadata": {},
   "outputs": [
    {
     "data": {
      "text/plain": [
       "(398377,)"
      ]
     },
     "execution_count": 66,
     "metadata": {},
     "output_type": "execute_result"
    }
   ],
   "source": [
    "y_fake = np.ones(no_of_samples_to_generate)\n",
    "y_augmented_data = np.append(y_train, y_fake, axis=0)\n",
    "y_augmented_data.shape"
   ]
  },
  {
   "cell_type": "markdown",
   "metadata": {},
   "source": [
    "## 5.2 Train Test split"
   ]
  },
  {
   "cell_type": "code",
   "execution_count": 67,
   "metadata": {},
   "outputs": [],
   "source": [
    "from sklearn.model_selection import train_test_split\n",
    "\n",
    "aug_X_train, aug_X_test, aug_y_train, aug_y_test = train_test_split(X_augmented_data, y_augmented_data, test_size=0.3, random_state=101)"
   ]
  },
  {
   "cell_type": "markdown",
   "metadata": {},
   "source": [
    "## 5.3 Train a Random Forest model to see how it works"
   ]
  },
  {
   "cell_type": "code",
   "execution_count": 68,
   "metadata": {},
   "outputs": [],
   "source": [
    "clf = build_model(aug_X_train, aug_y_train)"
   ]
  },
  {
   "cell_type": "markdown",
   "metadata": {},
   "source": [
    "## 5.4 Note the evaluation is done on the original dataset"
   ]
  },
  {
   "cell_type": "code",
   "execution_count": 80,
   "metadata": {},
   "outputs": [],
   "source": [
    "model_eval_train, model_eval_test, cf_matrix_train, cf_matrix_test = model_eval_data(clf, X_train, y_train, \n",
    "                                                         X_test, y_test, \n",
    "                                                         model_eval_train, \n",
    "                                                         model_eval_test,\n",
    "                                                         Name='GAN model - Baseline')"
   ]
  },
  {
   "cell_type": "code",
   "execution_count": 81,
   "metadata": {},
   "outputs": [
    {
     "data": {
      "text/html": [
       "<div>\n",
       "<style scoped>\n",
       "    .dataframe tbody tr th:only-of-type {\n",
       "        vertical-align: middle;\n",
       "    }\n",
       "\n",
       "    .dataframe tbody tr th {\n",
       "        vertical-align: top;\n",
       "    }\n",
       "\n",
       "    .dataframe thead th {\n",
       "        text-align: right;\n",
       "    }\n",
       "</style>\n",
       "<table border=\"1\" class=\"dataframe\">\n",
       "  <thead>\n",
       "    <tr style=\"text-align: right;\">\n",
       "      <th></th>\n",
       "      <th>precision</th>\n",
       "      <th>recall</th>\n",
       "      <th>f1-score</th>\n",
       "      <th>accuracy</th>\n",
       "      <th>ROC</th>\n",
       "    </tr>\n",
       "  </thead>\n",
       "  <tbody>\n",
       "    <tr>\n",
       "      <th>Unbalanced data - Baseline model</th>\n",
       "      <td>1.000000</td>\n",
       "      <td>0.994302</td>\n",
       "      <td>0.997143</td>\n",
       "      <td>0.999990</td>\n",
       "      <td>1.000000</td>\n",
       "    </tr>\n",
       "    <tr>\n",
       "      <th>Balanced data</th>\n",
       "      <td>0.050121</td>\n",
       "      <td>1.000000</td>\n",
       "      <td>0.095458</td>\n",
       "      <td>0.966634</td>\n",
       "      <td>0.999341</td>\n",
       "    </tr>\n",
       "    <tr>\n",
       "      <th>Resampled data</th>\n",
       "      <td>1.000000</td>\n",
       "      <td>1.000000</td>\n",
       "      <td>1.000000</td>\n",
       "      <td>1.000000</td>\n",
       "      <td>1.000000</td>\n",
       "    </tr>\n",
       "    <tr>\n",
       "      <th>Bayesian Hyperparameter Optimization</th>\n",
       "      <td>0.979592</td>\n",
       "      <td>0.820513</td>\n",
       "      <td>0.893023</td>\n",
       "      <td>0.999654</td>\n",
       "      <td>0.996080</td>\n",
       "    </tr>\n",
       "    <tr>\n",
       "      <th>SMOTE Analysis</th>\n",
       "      <td>1.000000</td>\n",
       "      <td>1.000000</td>\n",
       "      <td>1.000000</td>\n",
       "      <td>1.000000</td>\n",
       "      <td>1.000000</td>\n",
       "    </tr>\n",
       "    <tr>\n",
       "      <th>ADASYN Analysis</th>\n",
       "      <td>1.000000</td>\n",
       "      <td>1.000000</td>\n",
       "      <td>1.000000</td>\n",
       "      <td>1.000000</td>\n",
       "      <td>1.000000</td>\n",
       "    </tr>\n",
       "    <tr>\n",
       "      <th>Outlier detection using SVM</th>\n",
       "      <td>0.126632</td>\n",
       "      <td>0.829060</td>\n",
       "      <td>0.219706</td>\n",
       "      <td>0.989632</td>\n",
       "      <td>0.909488</td>\n",
       "    </tr>\n",
       "    <tr>\n",
       "      <th>GAN model - Baseline</th>\n",
       "      <td>0.985119</td>\n",
       "      <td>0.943020</td>\n",
       "      <td>0.963610</td>\n",
       "      <td>0.999875</td>\n",
       "      <td>0.985456</td>\n",
       "    </tr>\n",
       "  </tbody>\n",
       "</table>\n",
       "</div>"
      ],
      "text/plain": [
       "                                      precision    recall  f1-score  accuracy  \\\n",
       "Unbalanced data - Baseline model       1.000000  0.994302  0.997143  0.999990   \n",
       "Balanced data                          0.050121  1.000000  0.095458  0.966634   \n",
       "Resampled data                         1.000000  1.000000  1.000000  1.000000   \n",
       "Bayesian Hyperparameter Optimization   0.979592  0.820513  0.893023  0.999654   \n",
       "SMOTE Analysis                         1.000000  1.000000  1.000000  1.000000   \n",
       "ADASYN Analysis                        1.000000  1.000000  1.000000  1.000000   \n",
       "Outlier detection using SVM            0.126632  0.829060  0.219706  0.989632   \n",
       "GAN model - Baseline                   0.985119  0.943020  0.963610  0.999875   \n",
       "\n",
       "                                           ROC  \n",
       "Unbalanced data - Baseline model      1.000000  \n",
       "Balanced data                         0.999341  \n",
       "Resampled data                        1.000000  \n",
       "Bayesian Hyperparameter Optimization  0.996080  \n",
       "SMOTE Analysis                        1.000000  \n",
       "ADASYN Analysis                       1.000000  \n",
       "Outlier detection using SVM           0.909488  \n",
       "GAN model - Baseline                  0.985456  "
      ]
     },
     "execution_count": 81,
     "metadata": {},
     "output_type": "execute_result"
    }
   ],
   "source": [
    "model_eval_train"
   ]
  },
  {
   "cell_type": "code",
   "execution_count": 82,
   "metadata": {},
   "outputs": [
    {
     "data": {
      "text/html": [
       "<div>\n",
       "<style scoped>\n",
       "    .dataframe tbody tr th:only-of-type {\n",
       "        vertical-align: middle;\n",
       "    }\n",
       "\n",
       "    .dataframe tbody tr th {\n",
       "        vertical-align: top;\n",
       "    }\n",
       "\n",
       "    .dataframe thead th {\n",
       "        text-align: right;\n",
       "    }\n",
       "</style>\n",
       "<table border=\"1\" class=\"dataframe\">\n",
       "  <thead>\n",
       "    <tr style=\"text-align: right;\">\n",
       "      <th></th>\n",
       "      <th>precision</th>\n",
       "      <th>recall</th>\n",
       "      <th>f1-score</th>\n",
       "      <th>accuracy</th>\n",
       "      <th>ROC</th>\n",
       "    </tr>\n",
       "  </thead>\n",
       "  <tbody>\n",
       "    <tr>\n",
       "      <th>Unbalanced data - Baseline model</th>\n",
       "      <td>0.876033</td>\n",
       "      <td>0.751773</td>\n",
       "      <td>0.809160</td>\n",
       "      <td>0.999415</td>\n",
       "      <td>0.952141</td>\n",
       "    </tr>\n",
       "    <tr>\n",
       "      <th>Balanced data</th>\n",
       "      <td>0.041506</td>\n",
       "      <td>0.914894</td>\n",
       "      <td>0.079409</td>\n",
       "      <td>0.964994</td>\n",
       "      <td>0.972067</td>\n",
       "    </tr>\n",
       "    <tr>\n",
       "      <th>Resampled data</th>\n",
       "      <td>0.877049</td>\n",
       "      <td>0.758865</td>\n",
       "      <td>0.813688</td>\n",
       "      <td>0.999427</td>\n",
       "      <td>0.948664</td>\n",
       "    </tr>\n",
       "    <tr>\n",
       "      <th>Bayesian Hyperparameter Optimization</th>\n",
       "      <td>0.895652</td>\n",
       "      <td>0.730496</td>\n",
       "      <td>0.804688</td>\n",
       "      <td>0.999415</td>\n",
       "      <td>0.968042</td>\n",
       "    </tr>\n",
       "    <tr>\n",
       "      <th>SMOTE Analysis</th>\n",
       "      <td>0.785714</td>\n",
       "      <td>0.780142</td>\n",
       "      <td>0.782918</td>\n",
       "      <td>0.999286</td>\n",
       "      <td>0.965147</td>\n",
       "    </tr>\n",
       "    <tr>\n",
       "      <th>ADASYN Analysis</th>\n",
       "      <td>0.751724</td>\n",
       "      <td>0.773050</td>\n",
       "      <td>0.762238</td>\n",
       "      <td>0.999204</td>\n",
       "      <td>0.965654</td>\n",
       "    </tr>\n",
       "    <tr>\n",
       "      <th>Outlier detection using SVM</th>\n",
       "      <td>0.106787</td>\n",
       "      <td>0.836879</td>\n",
       "      <td>0.189406</td>\n",
       "      <td>0.988179</td>\n",
       "      <td>0.912654</td>\n",
       "    </tr>\n",
       "    <tr>\n",
       "      <th>GAN model - Baseline</th>\n",
       "      <td>0.875000</td>\n",
       "      <td>0.744681</td>\n",
       "      <td>0.804598</td>\n",
       "      <td>0.999403</td>\n",
       "      <td>0.948165</td>\n",
       "    </tr>\n",
       "  </tbody>\n",
       "</table>\n",
       "</div>"
      ],
      "text/plain": [
       "                                      precision    recall  f1-score  accuracy  \\\n",
       "Unbalanced data - Baseline model       0.876033  0.751773  0.809160  0.999415   \n",
       "Balanced data                          0.041506  0.914894  0.079409  0.964994   \n",
       "Resampled data                         0.877049  0.758865  0.813688  0.999427   \n",
       "Bayesian Hyperparameter Optimization   0.895652  0.730496  0.804688  0.999415   \n",
       "SMOTE Analysis                         0.785714  0.780142  0.782918  0.999286   \n",
       "ADASYN Analysis                        0.751724  0.773050  0.762238  0.999204   \n",
       "Outlier detection using SVM            0.106787  0.836879  0.189406  0.988179   \n",
       "GAN model - Baseline                   0.875000  0.744681  0.804598  0.999403   \n",
       "\n",
       "                                           ROC  \n",
       "Unbalanced data - Baseline model      0.952141  \n",
       "Balanced data                         0.972067  \n",
       "Resampled data                        0.948664  \n",
       "Bayesian Hyperparameter Optimization  0.968042  \n",
       "SMOTE Analysis                        0.965147  \n",
       "ADASYN Analysis                       0.965654  \n",
       "Outlier detection using SVM           0.912654  \n",
       "GAN model - Baseline                  0.948165  "
      ]
     },
     "execution_count": 82,
     "metadata": {},
     "output_type": "execute_result"
    }
   ],
   "source": [
    "model_eval_test"
   ]
  },
  {
   "cell_type": "markdown",
   "metadata": {},
   "source": [
    "## 5.5 Final Conclusion"
   ]
  },
  {
   "cell_type": "code",
   "execution_count": 84,
   "metadata": {},
   "outputs": [
    {
     "data": {
      "image/png": "[encoded data removed]",
      "text/plain": [
       "<Figure size 720x360 with 4 Axes>"
      ]
     },
     "metadata": {
      "needs_background": "light"
     },
     "output_type": "display_data"
    }
   ],
   "source": [
    "make_confusion_matrix_chart(cf_matrix_train, cf_matrix_test)"
   ]
  },
  {
   "cell_type": "markdown",
   "metadata": {},
   "source": [
    "GAN model is definitely doing a great job and the results are comparable to the data augmentation counterparts, we did before like SMOTE, ADASYNC and Data resampling.  "
   ]
  },
  {
   "cell_type": "markdown",
   "metadata": {},
   "source": [
    "# 6. What we learned from these exercise?"
   ]
  },
  {
   "cell_type": "markdown",
   "metadata": {},
   "source": [
    "__1. Random forest model is overfitting on the training dataset.__  \n",
    "\n",
    "_Solution:_ To rectify this effect, we build small trees by reducing the depth parameter and increase the samples for 'min_samples_leaf' option.\n",
    "\n",
    "__2. Accuracy is not a good metric in evaluating the imbalanced dataset model__\n",
    "\n",
    "_Reason:_ Most of the times the accuracy is close 99%. This is because even if we classify all our observation as Not fraud, we would get that number. So for imbalanced dataset exercise we should look for other validation metrics like - Precision, Recall or F1-score.  "
   ]
  },
  {
   "cell_type": "markdown",
   "metadata": {},
   "source": [
    "# 7. Finally, which method is the winner?"
   ]
  },
  {
   "cell_type": "code",
   "execution_count": 90,
   "metadata": {},
   "outputs": [],
   "source": [
    "final_eval_test = model_eval_test.copy(deep=True)"
   ]
  },
  {
   "cell_type": "code",
   "execution_count": 92,
   "metadata": {},
   "outputs": [],
   "source": [
    "model_eval_test.reset_index(inplace=True)"
   ]
  },
  {
   "cell_type": "code",
   "execution_count": 95,
   "metadata": {},
   "outputs": [],
   "source": [
    "model_eval_test.rename({'index': 'Method'}, axis=1, inplace=True)"
   ]
  },
  {
   "cell_type": "code",
   "execution_count": 96,
   "metadata": {},
   "outputs": [
    {
     "data": {
      "text/html": [
       "<div>\n",
       "<style scoped>\n",
       "    .dataframe tbody tr th:only-of-type {\n",
       "        vertical-align: middle;\n",
       "    }\n",
       "\n",
       "    .dataframe tbody tr th {\n",
       "        vertical-align: top;\n",
       "    }\n",
       "\n",
       "    .dataframe thead th {\n",
       "        text-align: right;\n",
       "    }\n",
       "</style>\n",
       "<table border=\"1\" class=\"dataframe\">\n",
       "  <thead>\n",
       "    <tr style=\"text-align: right;\">\n",
       "      <th></th>\n",
       "      <th>Method</th>\n",
       "      <th>precision</th>\n",
       "      <th>recall</th>\n",
       "      <th>f1-score</th>\n",
       "      <th>accuracy</th>\n",
       "      <th>ROC</th>\n",
       "    </tr>\n",
       "  </thead>\n",
       "  <tbody>\n",
       "    <tr>\n",
       "      <th>0</th>\n",
       "      <td>Unbalanced data - Baseline model</td>\n",
       "      <td>0.876033</td>\n",
       "      <td>0.751773</td>\n",
       "      <td>0.809160</td>\n",
       "      <td>0.999415</td>\n",
       "      <td>0.952141</td>\n",
       "    </tr>\n",
       "    <tr>\n",
       "      <th>1</th>\n",
       "      <td>Balanced data</td>\n",
       "      <td>0.041506</td>\n",
       "      <td>0.914894</td>\n",
       "      <td>0.079409</td>\n",
       "      <td>0.964994</td>\n",
       "      <td>0.972067</td>\n",
       "    </tr>\n",
       "    <tr>\n",
       "      <th>2</th>\n",
       "      <td>Resampled data</td>\n",
       "      <td>0.877049</td>\n",
       "      <td>0.758865</td>\n",
       "      <td>0.813688</td>\n",
       "      <td>0.999427</td>\n",
       "      <td>0.948664</td>\n",
       "    </tr>\n",
       "    <tr>\n",
       "      <th>3</th>\n",
       "      <td>Bayesian Hyperparameter Optimization</td>\n",
       "      <td>0.895652</td>\n",
       "      <td>0.730496</td>\n",
       "      <td>0.804688</td>\n",
       "      <td>0.999415</td>\n",
       "      <td>0.968042</td>\n",
       "    </tr>\n",
       "    <tr>\n",
       "      <th>4</th>\n",
       "      <td>SMOTE Analysis</td>\n",
       "      <td>0.785714</td>\n",
       "      <td>0.780142</td>\n",
       "      <td>0.782918</td>\n",
       "      <td>0.999286</td>\n",
       "      <td>0.965147</td>\n",
       "    </tr>\n",
       "    <tr>\n",
       "      <th>5</th>\n",
       "      <td>ADASYN Analysis</td>\n",
       "      <td>0.751724</td>\n",
       "      <td>0.773050</td>\n",
       "      <td>0.762238</td>\n",
       "      <td>0.999204</td>\n",
       "      <td>0.965654</td>\n",
       "    </tr>\n",
       "    <tr>\n",
       "      <th>6</th>\n",
       "      <td>Outlier detection using SVM</td>\n",
       "      <td>0.106787</td>\n",
       "      <td>0.836879</td>\n",
       "      <td>0.189406</td>\n",
       "      <td>0.988179</td>\n",
       "      <td>0.912654</td>\n",
       "    </tr>\n",
       "    <tr>\n",
       "      <th>7</th>\n",
       "      <td>GAN model - Baseline</td>\n",
       "      <td>0.875000</td>\n",
       "      <td>0.744681</td>\n",
       "      <td>0.804598</td>\n",
       "      <td>0.999403</td>\n",
       "      <td>0.948165</td>\n",
       "    </tr>\n",
       "  </tbody>\n",
       "</table>\n",
       "</div>"
      ],
      "text/plain": [
       "                                 Method  precision    recall  f1-score  \\\n",
       "0      Unbalanced data - Baseline model   0.876033  0.751773  0.809160   \n",
       "1                         Balanced data   0.041506  0.914894  0.079409   \n",
       "2                        Resampled data   0.877049  0.758865  0.813688   \n",
       "3  Bayesian Hyperparameter Optimization   0.895652  0.730496  0.804688   \n",
       "4                        SMOTE Analysis   0.785714  0.780142  0.782918   \n",
       "5                       ADASYN Analysis   0.751724  0.773050  0.762238   \n",
       "6           Outlier detection using SVM   0.106787  0.836879  0.189406   \n",
       "7                  GAN model - Baseline   0.875000  0.744681  0.804598   \n",
       "\n",
       "   accuracy       ROC  \n",
       "0  0.999415  0.952141  \n",
       "1  0.964994  0.972067  \n",
       "2  0.999427  0.948664  \n",
       "3  0.999415  0.968042  \n",
       "4  0.999286  0.965147  \n",
       "5  0.999204  0.965654  \n",
       "6  0.988179  0.912654  \n",
       "7  0.999403  0.948165  "
      ]
     },
     "execution_count": 96,
     "metadata": {},
     "output_type": "execute_result"
    }
   ],
   "source": [
    "model_eval_test"
   ]
  },
  {
   "cell_type": "code",
   "execution_count": 99,
   "metadata": {},
   "outputs": [],
   "source": [
    "tidy = model_eval_test.melt(id_vars='Method').rename(columns=str.title)"
   ]
  },
  {
   "cell_type": "code",
   "execution_count": 111,
   "metadata": {},
   "outputs": [
    {
     "data": {
      "image/png": "[encoded data removed]",
      "text/plain": [
       "<Figure size 1080x720 with 1 Axes>"
      ]
     },
     "metadata": {
      "needs_background": "light"
     },
     "output_type": "display_data"
    }
   ],
   "source": [
    "plt.figure(figsize=(15,10))\n",
    "sns.barplot(x='Variable', y='Value', hue='Method', data=tidy)\n",
    "plt.tight_layout()"
   ]
  },
  {
   "cell_type": "markdown",
   "metadata": {},
   "source": [
    "__Precision__ Model Winner, Runner - Bayesian Hyperparameter Optimization, Resampled data  \n",
    "__Recall__ Model Winner, Runner - Balanced data, Outlier detection using SVM   \n",
    "__F1-score__ Winner, Runner - Resampled data, Unbalanced data - Baseline model  \n",
    "__ROC__ Winner, Runner - Balanced data, Bayesian Hyperparameter Optimization  "
   ]
  },
  {
   "cell_type": "markdown",
   "metadata": {},
   "source": [
    "# 8. Can we use deep learning model instead of Random Forest?"
   ]
  },
  {
   "cell_type": "markdown",
   "metadata": {},
   "source": [
    "We saw that the random forest model is overfitting the training dataset because of the parameters settings like max_depth, min_samples_leaf etc. Can we use deep learning model instead of Random Forest and get a better model? Let us test it out. But this time, we will use the deep learning model on the GAN data and then evaluate our results."
   ]
  },
  {
   "cell_type": "code",
   "execution_count": 180,
   "metadata": {},
   "outputs": [],
   "source": [
    "from keras.layers import Dense, Dropout\n",
    "from keras.models import Sequential\n",
    "\n",
    "def define_model(n_input):\n",
    "    # define model\n",
    "    model = Sequential()\n",
    "    \n",
    "    # define first layer\n",
    "    model.add(Dense(15, input_dim=n_input, activation='relu', kernel_initializer='he_uniform'))\n",
    "    model.add(Dropout(0.5))\n",
    "    \n",
    "    # define second layer\n",
    "    model.add(Dense(10, activation='relu'))\n",
    "    model.add(Dropout(0.5))\n",
    "    \n",
    "    # define second layer\n",
    "    model.add(Dense(5, activation='relu'))\n",
    "    model.add(Dropout(0.5))\n",
    "    \n",
    "    # define output layer\n",
    "    model.add(Dense(1, activation='sigmoid'))\n",
    "    # define loss and optimizer\n",
    "    model.compile(loss='binary_crossentropy', optimizer='sgd', metrics=['accuracy'])\n",
    "    return model"
   ]
  },
  {
   "cell_type": "code",
   "execution_count": 181,
   "metadata": {},
   "outputs": [],
   "source": [
    "n_input = aug_X_train.shape[1]\n",
    "model = define_model(n_input)"
   ]
  },
  {
   "cell_type": "code",
   "execution_count": 182,
   "metadata": {},
   "outputs": [
    {
     "name": "stdout",
     "output_type": "stream",
     "text": [
      "Model: \"sequential_7\"\n",
      "_________________________________________________________________\n",
      "Layer (type)                 Output Shape              Param #   \n",
      "=================================================================\n",
      "dense_18 (Dense)             (None, 15)                240       \n",
      "_________________________________________________________________\n",
      "dropout_10 (Dropout)         (None, 15)                0         \n",
      "_________________________________________________________________\n",
      "dense_19 (Dense)             (None, 10)                160       \n",
      "_________________________________________________________________\n",
      "dropout_11 (Dropout)         (None, 10)                0         \n",
      "_________________________________________________________________\n",
      "dense_20 (Dense)             (None, 5)                 55        \n",
      "_________________________________________________________________\n",
      "dropout_12 (Dropout)         (None, 5)                 0         \n",
      "_________________________________________________________________\n",
      "dense_21 (Dense)             (None, 1)                 6         \n",
      "=================================================================\n",
      "Total params: 461\n",
      "Trainable params: 461\n",
      "Non-trainable params: 0\n",
      "_________________________________________________________________\n"
     ]
    }
   ],
   "source": [
    "model.summary()"
   ]
  },
  {
   "cell_type": "code",
   "execution_count": 184,
   "metadata": {},
   "outputs": [
    {
     "name": "stdout",
     "output_type": "stream",
     "text": [
      "Epoch 1/15\n",
      "278863/278863 [==============================] - 12s 45us/step - loss: 0.0851 - accuracy: 0.9808\n",
      "Epoch 2/15\n",
      "278863/278863 [==============================] - 12s 44us/step - loss: 0.0861 - accuracy: 0.9808\n",
      "Epoch 3/15\n",
      "278863/278863 [==============================] - 12s 43us/step - loss: 0.0834 - accuracy: 0.9813\n",
      "Epoch 4/15\n",
      "278863/278863 [==============================] - 12s 44us/step - loss: 0.0834 - accuracy: 0.9813\n",
      "Epoch 5/15\n",
      "278863/278863 [==============================] - 12s 44us/step - loss: 0.0828 - accuracy: 0.9815\n",
      "Epoch 6/15\n",
      "278863/278863 [==============================] - 12s 44us/step - loss: 0.0844 - accuracy: 0.9813\n",
      "Epoch 7/15\n",
      "278863/278863 [==============================] - 12s 44us/step - loss: 0.0846 - accuracy: 0.9810\n",
      "Epoch 8/15\n",
      "278863/278863 [==============================] - 12s 44us/step - loss: 0.0835 - accuracy: 0.9813\n",
      "Epoch 9/15\n",
      "278863/278863 [==============================] - 12s 44us/step - loss: 0.0832 - accuracy: 0.9814\n",
      "Epoch 10/15\n",
      "278863/278863 [==============================] - 12s 44us/step - loss: 0.0807 - accuracy: 0.9820\n",
      "Epoch 11/15\n",
      "278863/278863 [==============================] - 12s 43us/step - loss: 0.0856 - accuracy: 0.9810\n",
      "Epoch 12/15\n",
      "278863/278863 [==============================] - 12s 43us/step - loss: 0.0825 - accuracy: 0.9814\n",
      "Epoch 13/15\n",
      "278863/278863 [==============================] - 12s 44us/step - loss: 0.0833 - accuracy: 0.9815\n",
      "Epoch 14/15\n",
      "278863/278863 [==============================] - 12s 44us/step - loss: 0.0813 - accuracy: 0.9819\n",
      "Epoch 15/15\n",
      "278863/278863 [==============================] - 12s 44us/step - loss: 0.0823 - accuracy: 0.9817\n"
     ]
    },
    {
     "data": {
      "text/plain": [
       "<keras.callbacks.callbacks.History at 0x7fbf262c5630>"
      ]
     },
     "execution_count": 184,
     "metadata": {},
     "output_type": "execute_result"
    }
   ],
   "source": [
    "model.fit(aug_X_train, aug_y_train, epochs=15, verbose=1)"
   ]
  },
  {
   "cell_type": "code",
   "execution_count": 185,
   "metadata": {},
   "outputs": [],
   "source": [
    "pred_train = model.predict(X_train)\n",
    "pred_test = model.predict(X_test)"
   ]
  },
  {
   "cell_type": "code",
   "execution_count": 186,
   "metadata": {},
   "outputs": [],
   "source": [
    "pred_train[pred_train < 0.5] = 0\n",
    "pred_train[pred_train > 0.5] = 1\n",
    "pred_test[pred_test < 0.5] = 0\n",
    "pred_test[pred_test > 0.5] = 1"
   ]
  },
  {
   "cell_type": "code",
   "execution_count": 188,
   "metadata": {},
   "outputs": [
    {
     "name": "stdout",
     "output_type": "stream",
     "text": [
      "              precision    recall  f1-score   support\n",
      "\n",
      "           0       1.00      1.00      1.00    199013\n",
      "           1       0.81      0.81      0.81       351\n",
      "\n",
      "    accuracy                           1.00    199364\n",
      "   macro avg       0.90      0.90      0.90    199364\n",
      "weighted avg       1.00      1.00      1.00    199364\n",
      "\n"
     ]
    }
   ],
   "source": [
    "print(classification_report(y_train, pred_train))"
   ]
  },
  {
   "cell_type": "code",
   "execution_count": 189,
   "metadata": {},
   "outputs": [
    {
     "name": "stdout",
     "output_type": "stream",
     "text": [
      "              precision    recall  f1-score   support\n",
      "\n",
      "           0       1.00      1.00      1.00     85302\n",
      "           1       0.72      0.77      0.75       141\n",
      "\n",
      "    accuracy                           1.00     85443\n",
      "   macro avg       0.86      0.89      0.87     85443\n",
      "weighted avg       1.00      1.00      1.00     85443\n",
      "\n"
     ]
    }
   ],
   "source": [
    "print(classification_report(y_test, pred_test))"
   ]
  },
  {
   "cell_type": "code",
   "execution_count": 190,
   "metadata": {},
   "outputs": [],
   "source": [
    "cf_matrix_train = confusion_matrix(y_train, pred_train)"
   ]
  },
  {
   "cell_type": "code",
   "execution_count": 191,
   "metadata": {},
   "outputs": [],
   "source": [
    "cf_matrix_test = confusion_matrix(y_test, pred_test)"
   ]
  },
  {
   "cell_type": "code",
   "execution_count": 192,
   "metadata": {},
   "outputs": [
    {
     "data": {
      "image/png": "[encoded data removed]",
      "text/plain": [
       "<Figure size 720x360 with 4 Axes>"
      ]
     },
     "metadata": {
      "needs_background": "light"
     },
     "output_type": "display_data"
    }
   ],
   "source": [
    "make_confusion_matrix_chart(cf_matrix_train, cf_matrix_test)"
   ]
  },
  {
   "cell_type": "markdown",
   "metadata": {},
   "source": [
    "It turns out the deep learning model is performing a little stable when compared to other models, because of the dropout layers. We can further extend this work to run more epochs, add more layers or try a wide neural network settings to see how the model performs. But the overall idea, is we can use GAN's as an alternative to other data augmentation techniques and get comparable results as SMOTE or ADASYNC. "
   ]
  },
  {
   "cell_type": "markdown",
   "metadata": {},
   "source": [
    "Have fun!"
   ]
  }
 ],
 "metadata": {
  "kernelspec": {
   "display_name": "Python 3",
   "language": "python",
   "name": "python3"
  },
  "language_info": {
   "codemirror_mode": {
    "name": "ipython",
    "version": 3
   },
   "file_extension": ".py",
   "mimetype": "text/x-python",
   "name": "python",
   "nbconvert_exporter": "python",
   "pygments_lexer": "ipython3",
   "version": "3.5.2"
  }
 },
 "nbformat": 4,
 "nbformat_minor": 2
}
